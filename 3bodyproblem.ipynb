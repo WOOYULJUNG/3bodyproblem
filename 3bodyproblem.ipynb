{
  "nbformat": 4,
  "nbformat_minor": 0,
  "metadata": {
    "colab": {
      "provenance": [],
      "gpuType": "T4"
    },
    "kernelspec": {
      "name": "python3",
      "display_name": "Python 3"
    },
    "language_info": {
      "name": "python"
    },
    "accelerator": "GPU"
  },
  "cells": [
    {
      "cell_type": "code",
      "source": [
        "from google.colab import drive\n",
        "drive.mount('/content/drive')"
      ],
      "metadata": {
        "colab": {
          "base_uri": "https://localhost:8080/"
        },
        "id": "oVzMUqNIWTw2",
        "outputId": "f21f1b70-f06e-41a3-804d-404f51f9f91a"
      },
      "execution_count": null,
      "outputs": [
        {
          "output_type": "stream",
          "name": "stdout",
          "text": [
            "Mounted at /content/drive\n"
          ]
        }
      ]
    },
    {
      "cell_type": "code",
      "source": [
        "cd drive"
      ],
      "metadata": {
        "colab": {
          "base_uri": "https://localhost:8080/"
        },
        "id": "d-2i4kSlAUt8",
        "outputId": "679a24bd-1954-4bb5-bd2b-f21d8698148f"
      },
      "execution_count": null,
      "outputs": [
        {
          "output_type": "stream",
          "name": "stdout",
          "text": [
            "/content/drive\n"
          ]
        }
      ]
    },
    {
      "cell_type": "code",
      "source": [
        "import numpy as np\n",
        "import matplotlib.pyplot as plt\n",
        "import matplotlib.animation as anim\n",
        "from IPython.core.display import display, HTML\n",
        "\n",
        "\n",
        "fig = plt.figure(figsize=(6,6))\n",
        "ax = plt.axes(xlim=(-1.5,1.5), ylim=(-1.5,1.5))\n",
        "\n",
        "n = 100\n",
        "\n",
        "#  l number\n",
        "#  (0)figure8, (1)butterfly I, (2)butterfly II, (3)bumblebee, (4)moth I,\n",
        "#  (5)moth II, (6)butterfly III, (7)moth III, (8)goggles, (9)butterfly IV,\n",
        "#  (10)dragonfly, (11)yarn, (12)yin-yang I, (13)yin-yang I, (14)yin-yang II,\n",
        "#  (15)yin-yang II\n",
        "\n",
        "a = np.float64(1.0)\n",
        "b_list = np.array([0.347111, 0.30689, 0.39295, 0.18428, 0.46444,\n",
        "                   0.43917, 0.40592, 0.38344, 0.08330, 0.350112,\n",
        "                   0.08058, 0.55906, 0.51394, 0.28270, 0.41682,\n",
        "                   0.41734], dtype = 'double')\n",
        "c_list = np.array([0.532728, 0.12551, 0.09758, 0.58719, 0.39606,\n",
        "                   0.45297, 0.23016, 0.37736, 0.12789, 0.07934,\n",
        "                   0.58884, 0.34919, 0.30474, 0.32721, 0.33033,\n",
        "                   0.31310], dtype = 'double')\n",
        "l = 1\n",
        "b = b_list[l]\n",
        "c = c_list[l]\n",
        "\n",
        "x=np.array([-a, a, 0], dtype = 'double')\n",
        "y=np.array([0, 0, 0], dtype = 'double')\n",
        "dx=np.array([b,b,-2*b], dtype = 'double')\n",
        "dy=np.array([c,c,-2*c], dtype = 'double')\n",
        "\n",
        "M=np.array([1.0,1.0,1.0], dtype = 'double')\n",
        "dt=np.double(0.0001)\n",
        "cx=[[],[],[]]\n",
        "cy=[[],[],[]]\n",
        "\n",
        "curve1,=ax.plot([],[],'r-')\n",
        "curve2,=ax.plot([],[],'g-')\n",
        "curve3,=ax.plot([],[],'b-')\n",
        "\n",
        "obj1,=plt.plot([],[],'ro')\n",
        "obj2,=plt.plot([],[],'go')\n",
        "obj3,=plt.plot([],[],'bo')\n",
        "\n",
        "def init():\n",
        "    curve1.set_data([],[])\n",
        "    curve2.set_data([],[])\n",
        "    curve3.set_data([],[])\n",
        "    obj1.set_data([],[])\n",
        "    obj2.set_data([],[])\n",
        "    obj3.set_data([],[])\n",
        "    return curve1,curve2,curve3,obj1,obj2,obj3,\n",
        "\n",
        "def f(t):\n",
        "    global x,y,dx,dy,r,n\n",
        "\n",
        "    for _ in range(n):\n",
        "        for i in range(2):\n",
        "            j=(i+1)%2\n",
        "            dx[i]+=dt*M[j]*(x[j]-x[i])/((x[j]-x[i])**2+(y[j]-y[i])**2)**1.5\n",
        "            dy[i]+=dt*M[j]*(y[j]-y[i])/((x[j]-x[i])**2+(y[j]-y[i])**2)**1.5\n",
        "\n",
        "            dx[i]+=dt*M[2]*(x[2]-x[i])/((x[2]-x[i])**2+(y[2]-y[i])**2)**1.5\n",
        "            dy[i]+=dt*M[2]*(y[2]-y[i])/((x[2]-x[i])**2+(y[2]-y[i])**2)**1.5\n",
        "\n",
        "            dx[2]+=dt*M[i]*(x[i]-x[2])/((x[i]-x[2])**2+(y[i]-y[2])**2)**1.5\n",
        "            dy[2]+=dt*M[i]*(y[i]-y[2])/((x[i]-x[2])**2+(y[i]-y[2])**2)**1.5\n",
        "\n",
        "        for i in range(3):\n",
        "            x[i]+=dt*dx[i]\n",
        "            y[i]+=dt*dy[i]\n",
        "\n",
        "    for i in range(3):\n",
        "        cx[i].append(x[i])\n",
        "        cy[i].append(y[i])\n",
        "    curve1.set_data(cx[0],cy[0])\n",
        "    curve2.set_data(cx[1],cy[1])\n",
        "    curve3.set_data(cx[2],cy[2])\n",
        "    obj1.set_data(x[0],y[0])\n",
        "    obj2.set_data(x[1],y[1])\n",
        "    obj3.set_data(x[2],y[2])\n",
        "\n",
        "    return curve1, curve2, curve3, obj1, obj2, obj3,\n",
        "\n",
        "meh = anim.FuncAnimation(fig, f, frames=300, init_func=init, interval=1, blit=True, save_count=(9000))#save_count=(9000)\n",
        "plt.close()\n",
        "HTML(meh.to_html5_video())"
      ],
      "metadata": {
        "id": "u5J9v0u5e2nM",
        "colab": {
          "base_uri": "https://localhost:8080/",
          "height": 763
        },
        "outputId": "b6d87b79-f44b-44a5-9441-2fa4a2995e51"
      },
      "execution_count": null,
      "outputs": [
        {
          "output_type": "stream",
          "name": "stderr",
          "text": [
            "<ipython-input-50-887e002e0bf4>:89: UserWarning: You passed in an explicit save_count=9000 which is being ignored in favor of frames=300.\n",
            "  meh = anim.FuncAnimation(fig, f, frames=300, init_func=init, interval=1, blit=True, save_count=(9000))#save_count=(9000)\n",
            "<ipython-input-50-887e002e0bf4>:83: MatplotlibDeprecationWarning: Setting data with a non sequence type is deprecated since 3.7 and will be remove two minor releases later\n",
            "  obj1.set_data(x[0],y[0])\n",
            "<ipython-input-50-887e002e0bf4>:84: MatplotlibDeprecationWarning: Setting data with a non sequence type is deprecated since 3.7 and will be remove two minor releases later\n",
            "  obj2.set_data(x[1],y[1])\n",
            "<ipython-input-50-887e002e0bf4>:85: MatplotlibDeprecationWarning: Setting data with a non sequence type is deprecated since 3.7 and will be remove two minor releases later\n",
            "  obj3.set_data(x[2],y[2])\n"
          ]
        },
        {
          "output_type": "execute_result",
          "data": {
            "text/plain": [
              "<IPython.core.display.HTML object>"
            ],
            "text/html": [
              "<video width=\"600\" height=\"600\" controls autoplay loop>\n",
              "  <source type=\"video/mp4\" src=\"data:video/mp4;base64,AAAAIGZ0eXBNNFYgAAACAE00ViBpc29taXNvMmF2YzEAAAAIZnJlZQAAi2NtZGF0AAACrgYF//+q\n",
              "3EXpvebZSLeWLNgg2SPu73gyNjQgLSBjb3JlIDE2MyByMzA2MCA1ZGI2YWE2IC0gSC4yNjQvTVBF\n",
              "Ry00IEFWQyBjb2RlYyAtIENvcHlsZWZ0IDIwMDMtMjAyMSAtIGh0dHA6Ly93d3cudmlkZW9sYW4u\n",
              "b3JnL3gyNjQuaHRtbCAtIG9wdGlvbnM6IGNhYmFjPTEgcmVmPTMgZGVibG9jaz0xOjA6MCBhbmFs\n",
              "eXNlPTB4MzoweDExMyBtZT1oZXggc3VibWU9NyBwc3k9MSBwc3lfcmQ9MS4wMDowLjAwIG1peGVk\n",
              "X3JlZj0xIG1lX3JhbmdlPTE2IGNocm9tYV9tZT0xIHRyZWxsaXM9MSA4eDhkY3Q9MSBjcW09MCBk\n",
              "ZWFkem9uZT0yMSwxMSBmYXN0X3Bza2lwPTEgY2hyb21hX3FwX29mZnNldD0tMiB0aHJlYWRzPTMg\n",
              "bG9va2FoZWFkX3RocmVhZHM9MSBzbGljZWRfdGhyZWFkcz0wIG5yPTAgZGVjaW1hdGU9MSBpbnRl\n",
              "cmxhY2VkPTAgYmx1cmF5X2NvbXBhdD0wIGNvbnN0cmFpbmVkX2ludHJhPTAgYmZyYW1lcz0zIGJf\n",
              "cHlyYW1pZD0yIGJfYWRhcHQ9MSBiX2JpYXM9MCBkaXJlY3Q9MSB3ZWlnaHRiPTEgb3Blbl9nb3A9\n",
              "MCB3ZWlnaHRwPTIga2V5aW50PTI1MCBrZXlpbnRfbWluPTI1IHNjZW5lY3V0PTQwIGludHJhX3Jl\n",
              "ZnJlc2g9MCByY19sb29rYWhlYWQ9NDAgcmM9Y3JmIG1idHJlZT0xIGNyZj0yMy4wIHFjb21wPTAu\n",
              "NjAgcXBtaW49MCBxcG1heD02OSBxcHN0ZXA9NCBpcF9yYXRpbz0xLjQwIGFxPTE6MS4wMACAAAAJ\n",
              "52WIhAAn//71sXwKasnzigzoMi7hlyTJrrYi4m0AwAAAAwAAAwAA+gbTUzSJ55wcAAADAkoAagSA\n",
              "wcCBLEBQDq+f5rUr+qEpiBak4w06LYLZAfHjHu6idmgUqu92DeSEqxYElw9KwMyXAsrKIUvQU7rZ\n",
              "nEOVUNckwx5vqlyfBq7uJjgB6KfLBp0x6NYHAeLfMZA1mBvtUHX1ZOWp2QsAZoeq2u68hNyt0SCC\n",
              "gmzmuXkoj/UjjuXhBu/VSn0oH8e9TG90H+vzSbRIHM182eQK6jdJR2F1y7YhF5NjteUAIC2l2xzo\n",
              "UABpIATIAl3Bd/uXW7hKIkx4fcGy3vtWHG1E9u4+8miuzo0vXH0k2qXmy0IsSC9GGXpfn+8UVNDK\n",
              "0xxqIhDGLy4f/dTimrSLuvyHMeoa0OrwkRwAG7GQxCZymjyYik2+binJZef4VoqN+P2yGooobngV\n",
              "kefuzhs0tjiVzulcQAAAu8tMMIACX7gKoCCcGNUdwpCFlsz0IXPIbIFZEg/QoyTsvnslQDpP1ToW\n",
              "wnGHziI9NAjLg66BvEpgNvwBjMbilk2ACj+qeknYXKb2xEtWLyjmboabkfpITMpoIM3/Att2iX6d\n",
              "qHofwU6WpI/40GiGIhgQqiBB5ern4TvMHfXCPkl0nWu91Qb6jyqpfOgcPAEL7cOG29mJlRJTce+g\n",
              "+iwbThPbfSHrDscdsiU2n2AAooAAcDcHwiDvs8J/LG94g+awMyOriPYI5DUG+q8zSBHqn0ieObtZ\n",
              "IYXOEq17bsW6e/ShNAkJR/JwpCctl1T5xi0V6LSlI2RyktI41D3OqLfOeEKnbJr5Jnsrq7i0Tmf5\n",
              "JUDTarZ/k7B21Jde3MsU3yyY0wTBrnQ79z6HjnqDIBIEnoPLh2nzwwXdAdo17rAAz11QuQGPuW9r\n",
              "Du19v6n9DntN1o15P3j6s5KmTXCQ7g7A1wLwvcyoFuhe2Ibome9D6C+50QiYcRtEkiVO+HzJK/gk\n",
              "nagxaKSTZ/uitIoff206CakfjJFOFq9MB82PaGWD5rO0DTHau/aNl8/U6hMRwlOWyrrpQgjRhtjN\n",
              "u+UgEdEDR1Ek7U8cpH2ijIZsI7tfQgI610eREA+p/fiMa+joyoG9mc78EEDYV1Ah1wHNlK3X7Fec\n",
              "uMg/+hbVkZh5LVNT98dHmFtF6FYwU0rkzXVnX0o4frWa3vnguy322twACQHTT8ciKfx7/pLMdMaT\n",
              "HGn8ZXt3aHm3Gjbf5cgbFdCIWL+X5pCLm5ukNmT2rjVdoVw5EcXS6pBp0sa8FRYVz+PvmBCtulBW\n",
              "UcRM+DA5upqOrCHlrJeEdTrnovT3qvFXa9hPneYh4h2PPP/QaMO7sNCbzDc829dYLZW3iU64X7xe\n",
              "oZV0d2D1BFDoURH7fhUNyTVP3UZT1OHteWUBdJwyZGp9TZNSl8MgQ/vspBXXXiEIVwdrrFxHzDuD\n",
              "tZ4HTnCrhAAmWhCy6EaepOXrzwSmEmOqpj+W5w8ZUEbLPQ7uKdVryLDiKn/19SAC1WZg8sv5r3kY\n",
              "rIdFbaGlAw9H8GlnCHNrS73NfBUMxcINWQ71zPJeDWr51hu6JrcOZnzJvveuuYAIAhhRegdSINyN\n",
              "X9Rh+7DEVwTikncl8M1Lf71slccQL5AGAikgzaQRv9fmfcGSkQstbme/z7RhM01ZWxdgHosIp3aG\n",
              "91pLwJM2CIEfYFa9frGK8/Aoib29dgOQyN///nP9IVdg3X+VzGGw7XLT/zuWmNQGn3N78/8GDC3P\n",
              "7vGfMqVeibaHHnoyXKM5JywAAC+J51r6giO0If0EYnCPkOYWj05eGyXVxA5iiqgsQgasos/yY8aM\n",
              "y+LlNp42V7+CAuWBB3xBzKbNxS19WYNviMMe6btLO03ATIJwhGDjQ9pWOnyUjgyeh4nAnJho4cIM\n",
              "AAkFCLqb1sioLO6SX6Wc5mMfyiNfRc1OBiDQigCbcA5QNumQ6+Pu7TMtBwJnWIg2GDj6MyaizwAk\n",
              "BN7r//E+MZLS0kW3OjLzHnhr6UgednVRjV2fIW047DMaTv62KVjvg85YVwnpOs5Jjk0bw5qUhm6v\n",
              "rI0bLLCE2N5tuoCO1zv+9IO9emlwbd+OHPUElCq5ImlG63gDPLdRjkkVDX6DMvfkmkz5FduKeLvc\n",
              "jVIzZYTnAip3xdyGN5ytfBhnEtfR0JbP/p/wOdzbBd3DMLwx8FKfs7mTM44b3Z4AAsGWKQY7JGIi\n",
              "WU+AlVZZqmc9E2b80khwrzmWah8C7mvR+j5J3dVmWlaMtnLSJQX6YHjA3uoUmZ1AkHctfknaONUo\n",
              "E7ChSRMQzp4YZtraO89DRr+dftlYEnnmtMaPyxSbEikVcu3IxnP2MCpOqW1FViRTCns3/7zUD7e3\n",
              "6aKfGz8a/93i7lFDpG+xBTPu+d/ufiyp4MbWNSTW+O9uluTngAD1U444Ey24e4K9+rEKoB6X28Js\n",
              "bzaRaa/I9WluQjzY0X5e/gVvhosZYT7/vHvXmYesH4jnWCI1hPlNYv2lbZsZ7057L07OK6OKOpoX\n",
              "D39YaS6aXojg7Um0tJ3vDF85ZLk+lx59IdMIKaWr8/htlxHiS7BR3BOaxteMuOU8yUPGJiVTiAyE\n",
              "zGHs1qX1jouLqTm63oXYapjkOINND+7CNK3Z0Qgk2p+5W2CUJfMkLgTDJk2jnVIFDgIh627yeKC4\n",
              "qoh/wv9zDtLFuf2JxNkZEot99+pQKobQ2yG4dTrYzM1dVZsddkNDb7dXVEQsWj2gxvbFgmTMRsLq\n",
              "LRJq8D5j7nCaOS7fvzKM2olnxackenl2i/B/faEMpF8GtvPXb9lOVMJcdqSNYgibFJ36j4mi40A1\n",
              "+pQwPXXyogzRjITbX4+ZZGOSHD4RTFSEat5A2X5tWtsSRQpJnzbEN+gd+brLQ0AjVjtTndCgHPFK\n",
              "T6y28zgXzbL/vGEH8tag+KEf1ddd4WtKJluvz3gJqEuia4hMIWYQ5yfoXZEklpUL5xiOHd+/KfY3\n",
              "OF3Hk052NG+JN57uZPSd7JFnq8TmcK0ixXdjBzqA5JQ1GcOZpHHHdDd1w1mQ1SNW1jVViMjL5mI/\n",
              "2xea6b1/HsY+TDpkNyH4WHuG6oB7pmo7Y5NdTV1gTRRitXX1XM/ZeE8Wx0HqwupM1fVVOzztqHrH\n",
              "XCTZvF7MPl1a3Yfgmffam+0v85ph9GR1DSvMSfS9ZfN+zWaD/K1J3b63rlT6njzcGMr4UTCIDyuy\n",
              "YMNQSa3I3yuyQvIiB6oR5E/mNs8rIu1+1t2AM/yjsh2cHG7NOlM5meFE9g4U/J06ywrbTK7OnSA6\n",
              "5NCurnePlm5puUq9O81E8XKLo0TA/dLXvxBcip1OEj3vOXFBazWaRmwNSADWRinkMR5k93C7hNYr\n",
              "EViUJ9kIc26djY7g0QAZDBEwAfRFAAADAAAICQAAAGlBmiRsQn/98QAB3Itm612Ys6MtgB36Xq4e\n",
              "PNCJ+3puWfDMHbfvSYvVtm0zIiLccC9BbaegeHi9vKVwJ54bpnZJ/fCKbhpzzk8gGftY/NtRDMCA\n",
              "PknmRGgK46ujyE7HTqedFGOTwGr4FtAAAABYQZ5CeI3/AB5ei3wLFiBVA0AAAAMAAAMAABw9tUqg\n",
              "ws8kz2UA/YrDes4AtIGYkVi5O0jdl9ACJlDJwt27dcWKJhmc8iuacxiWEj2soMNVnTMlJ7Xg2oo6\n",
              "4QAAACABnmF0Rf8AAktNIgJcUIb8kiGd4cfYpEzAMAFdR/5ELAAAACIBnmNqRf8AAkq6sgrgH1e9\n",
              "MQ6qI1Ky8/xFwAaLInQSYAqZAAAAiEGaaEmoQWiZTAhP//3xAAADAABYfaW5V84ALXOZx1YVcPF3\n",
              "U8xBJ2SiAkkEPzmsAd+3mL86UVVTOD8cU+JvqkR31dxjKK0BflLWk4wx3yJRF5aLov2JlvmTlx5h\n",
              "MaH1zbiiPFxDmz+fvJUDV/xepGKkpnS1hKoesyJfCctF7v/huHzyKoPQNuEAAABYQZ6GRREsbwAe\n",
              "Xot8CxYgVQNAAAADAAADAAAcPbVKoCKP2fzutzcpqx0Nr/0ygOdMpXPrioGIh+dPToO5mJ7aI0Fh\n",
              "5RB/q4Mjk+x4+nBGjDXALXI9/Ogx8QAAACEBnqV0Rf8AAAMAB2icELlCsEeMMRIeuuYA3wAA4XaA\n",
              "i4EAAAAnAZ6nakX/AAADAAdUH4kvprwAjBXfLHWYTzlcXJ7zFQbLcACv9AR8AAAAiUGarEmoQWyZ\n",
              "TAhP//3xAAADAABYXwErgA4xOmEw68hjbkxF31YIFOMq4QKAEBGjwuR9rJag6qS9ddwCxcEMzZUj\n",
              "1o69RATF4b7l7RCW2bnCLSzIBj/TJPSbsBLhQUZRAEO8SLtkqWfgf+pS4ES6dVbeuU22o8Yx45vu\n",
              "3b2wdQnIKXTwUFMmoONAAAAAUkGeykUVLG8AHl6LfAsWIFUDQAAAAwAAAwAAHD21SqAij9n87rc3\n",
              "KasdDbABI/rG2H+cQT2RignRRArPgAENXm4zSD8qqccFr3qyjYlrI97Ps4sAAAAiAZ7pdEX/AAAD\n",
              "AAdu6nJa8YXpcQTOcTwAB1Yq1J3cAABBwAAAAB8BnutqRf8AAAMAB2noQ7Km657O11YAOOTo/m8Y\n",
              "AAO6AAAAsUGa8EmoQWyZTAhP//3xAAADAABY91cEjWfgBSQvdvkJXLA65vfs1zOo/wR7uAhCOBJy\n",
              "lnQYNlzvjW4YXXwVW4pOH55Es+AxP+t/hVU7uwpObWvMcT2vA93FRJDLYBfA5SbcICpVQkJvDok5\n",
              "YL52ETZh5AovdxyYQZfnvkVXdWMpM8eD2sWcL1lLybb5+NpSWXdaOuNf42FYd0sn0QrdAUDTXaNw\n",
              "Iy2TeH1sWNjxdhXBGQAAAGVBnw5FFSxvAB5ei3wLFiBVA0AAAAMAAAMAABw9tUqgIo/Z/O63Nymr\n",
              "HQ2wA9WZAAlM1Tl8BUfxgxp/aQVWC3sf1o9H4gODIFbHYO3DnhoRuCSfgZJYlLrNeRdBpuOKflg+\n",
              "gyT0gQAAACYBny10Rf8AAAMAB2RXYiNV/U9HSrvU+Y0dW088ZCkjc0ADnBQz4QAAAB0Bny9qRf8A\n",
              "AAMAB1QSdrboQ4vnXiuyfj++4AAIuAAAAGVBmzNJqEFsmUwIT//98QAAAwAAVjcIpMdAC0YZsziL\n",
              "i1EAAm4kl9iZoao1lLZndCN3N1PzKavrv71d4fyIJPzqkWtvS66oIPg/yPem4RlqQqwktQ142Qf5\n",
              "uBIA1pbMDv9wAADwgAAAAE5Bn1FFFSxfACax/ACe+BQDgAAAAwAAAwAAAwCL0tTwgP0vi0MN0MEP\n",
              "OQkF300R0HQ8/msp53UQ+tlW74yeHD8CQVL5z82986bBM2Ddo2EAAAAaAZ9yakX/AAADAAc81anx\n",
              "+2kmB1yAXoQAAb0AAABZQZt2SahBbJlMCE///fEAAAMAAFY3CKSAABaMDWZM4snvkof175/H+H6O\n",
              "G6KisFVMhS5DuV2Z5zRqKT4iksleUWewYoxNlAg9gpeA75EdhBlYqpTAE4AAPSAAAABNQZ+URRUs\n",
              "XwAmsfwAnvgUA4AAAAMAAAMAAAMAi9LU8ID9L4tDDdDBDzkJBd9O4XPJBtJL2bul4Beikwt1QTG2\n",
              "iilexFZ6U/P6J1FHaPkAAAAiAZ+1akX/AAADAAc6M99QCvZ+u7NzbVoADZapJCaHgAAVMAAAAH5B\n",
              "m7pJqEFsmUwIT//98QAAAwAAVh3mJdkwANnP26ZnNclxquQ4ZO18Jx5CzgDW/vYcGMZpFiK/W9S/\n",
              "xVoHtqyJv2HU1Wdw2aiI0f542NKxG0hOFU1C1lywB8xP1MEsbF+anNAIfC7XM1FLoQ/YhD2VeOEi\n",
              "LyZnrgYCmdTUhSsAAABRQZ/YRRUsbwAeXot8CxYgVQNAAAADAAADAAAcPbVKoCKP2fzutzcpqx0N\n",
              "r90YwLfR81chR4AOQ5ZnOjHzKVoD9axHuGpdDrrtiSVOr71kyZFlAAAAHAGf93RF/wAAAwAHQh0w\n",
              "wmOUjSQnA4VVXQAAI2AAAAAZAZ/5akX/AAADAAc4hH8fUy8XMmW2gAA1IQAAAHFBm/5JqEFsmUwI\n",
              "T//98QAAAwAAVgelMEjFaBTgAnd24GzzXMcblNJeMavjbVPREHAUn10cnu+YBQWHf9rMTzkEYm55\n",
              "kROeln4pk00+mpK78tATob6o45G3Lyi6claV3fPUplVapLC6SX+8cPaSiAAKKAAAAEtBnhxFFSxv\n",
              "AB5ei3wLFiBVA0AAAAMAAAMAABw9tUqgIo/Z/O63NymrHQ2v3IsWMWEImGo72Dau/pQB7Vau2ETR\n",
              "0y5N05LdAHqaUXEAAAAbAZ47dEX/AAADAAcozWcvYy8KqurwBW4AAFnBAAAAHQGePWpF/wAAAwAH\n",
              "KM1f8U7dPrV94jTBzePAAA2YAAAAfUGaIkmoQWyZTAhP//3xAAADAABWCJj4Ux3TIgFVwgfmJsuR\n",
              "1WTFvm/aivHsrRYpr70wQG5Rmx41VcsQrpZl5arEyyD5r16KkOiOHdZSBe5mC/iIMlKrjAQUlWdU\n",
              "AvJrQQhJc5zsKPEmeVhaRyxe1tpu6E4ntBsH6Qjs7ISlAAAAWkGeQEUVLG8AHl6LfAsWIFUDQAAA\n",
              "AwAAAwAAHD21SqAij9n87rc3KasdDa/NOeBijqkADuDyBkicPLj/j0FePsUF+CN3lXUXFu2qmD+e\n",
              "yqdz8DjL1aywtXF0wQAAACEBnn90Rf8AAAMABzyaRVKAD5ygNm2V1d0VJ+tK5VQAAgYAAAAbAZ5h\n",
              "akX/AAADAAcVGG4prgndpVJxLESQAA1JAAAAfUGaZEmoQWyZTBRMJ//98QAAAwAAU8/BJzLo0FHU\n",
              "ewAbrqJGhnnbHo3bNS5nySLaA5hkuFCw9hEocwjNWiN0J4FcbrlsKKdxWxKutqQWxQf1Q74ckw/v\n",
              "SEChVZuR+iVvU2eAzZ2532iKiDEy67R6OIPonNZGPB17J5JVIf9AAAAAQgGeg2pF/wAmysVDTMD2\n",
              "RMAAAAMAAAMAKf2mrRlgRMFGgJJ3VQDFIVJvtfCUaUXT7XgX9R4eJ2sfK/YnBbTDdXwTsQAAAIlB\n",
              "mohJ4QpSZTAhH/3hAAADAACDI3ks6L2TFAE16kybxhEmG4rlvoqH1AI+ZVy9spkx9flkJov9lmEq\n",
              "JwxnZXaC+ivlcWzTcYuRIRKwG3pFT7KvrMzySsfYy5FyIBQh12KWoYRuiTUuRdv5EIQjJBeWZlAM\n",
              "iVAt0tmhU4QVtxBGDF96g2pVnAABTQAAAE9BnqZFNExvAB5ei3wLFiBVA0AAAAMAAAMAABw9tUqg\n",
              "Io/Z/O63NymrHQ2vuCMlv35DPGQ7BbRDSPQjpul965pKmOoQq4nAZ+bBwY4W1Z6xAAAAGwGexXRF\n",
              "/wAAAwAG/M1fJ0RvpfqqdOdCcAAKmQAAAB8BnsdqRf8AAAMABwyDF/TWiYd9lqO1o4tyNu2QABQQ\n",
              "AAAAT0GaykmoQWiZTBTwj/3hAAADAACCvxFveACUiC0INzuiSBYkOPj54l8vxqBFqrMlmN3nMCeW\n",
              "czg9Cn9X9Bt92bcwAUdpztpvdoRysgAApIAAAAA5AZ7pakX/ACbKxUNMwPZEwAAAAwAAAwAp/aat\n",
              "GWBEwUaAkndVAJxn8z4IhnZopEoAq6MyQdEOYf4PAAAAfEGa7UnhClJlMCEf/eEAAAMAAH6oSDMW\n",
              "/PtC01wBVoqhtr8QWUU5/grPk4OL8eOLuI2V5PYZda3p5F45UoGvesoDuwqMt4VuhaBYxcqgWSYy\n",
              "A+Txa1vB9/Tbit3e+t0cuw8/OEsE4quzEMiG8nUxqhcgyHlUcSzLl2X6s4AAAABIQZ8LRTRMXwAm\n",
              "sfwAnvgUA4AAAAMAAAMAAAMAi9LU8ID9L4tDDdDBDzkJBdzxDkl6d/81lF97RnWyA4WVn/fUMI7b\n",
              "/uXtkJmAAAAAHQGfLGpF/wAAAwAG5icnoYANaL+CezeNUCAAAPuBAAAAdkGbL0moQWiZTBTwj/3h\n",
              "AAADAAB+6RdD3KAHPZri/fxo1DJTmKgL362fcum8SahxF9pVgH0rtcPRWbsJv/kFCf3dibNf0mtl\n",
              "oSxTgEoi154l+vDB+3jIvr3ZDa5ICh16lEs9O3Pj8QQpXokr2Lnjsni20QAAVsEAAAA+AZ9OakX/\n",
              "ACbKxUNMwPZEwAAAAwAAAwAp/aatGWBEwUaAkndU/JcOJGbBWKxXpLXGA8TERPUijvuQyzyE9lEA\n",
              "AAB5QZtQSeEKUmUwIT/98QAAAwAAUdhHRoMAURMJ36zsmLTDcbDLQmCj0+ypmHWikMwhN8Mwuutu\n",
              "T66eyKidXo5+RGvc+23mTCZIxz4aTRw8Hx6/f/uakAk/Soi7SEO0BkDjqgTEkfRn/+22Ac08A0Bx\n",
              "zr+Rb+WSAjvm5wAAAF5Bm3JJ4Q6JlMFNEwn//fEAAAMAAFHXewmffJ/pUECACv7j7yCtK3Yn0dda\n",
              "HN6bZMRlwQHSN5YVNYOBg2E5KPeyd0FToL2lEvLeblMJu0WLGGMIiM9wgL1ewNcQAAu4AAAAUQGf\n",
              "kWpF/wAmsfwAnvgUA4AAAAMAAAMAAAMAi9LU8ID9L4tDDdDBDzkJBdvxva3I/70ADPj/Z0m1nsbU\n",
              "h6EU3fAJLVaCydyaXbqkZqJwLc5MwQAAAS9Bm5ZJ4Q8mUwIT//3xAAADAABPkblTR4/wCVI5tclW\n",
              "grrs/QB5w3cjrL40ONmvsaI52lhBWHkSBqf80enYFkFh1nsX0WDRxT7bT9Q3Um3hZ/nMICe3u3o1\n",
              "othVnqDaMbPLc55QJ7ubfcEMh4dfxRNnl45PZADQFWQaWsKa1ovUsrOqaUevssSYtjwfc62LPhn9\n",
              "tO20mdeSUoiGIpqGYVdCg15syD51vm+rDz6NWN2UmnA97fZwhOSBN2iQeQCwEfN6klrffARYik0g\n",
              "p3xqYhZE39AG9YTP3jRCgxhMsO7lON1VzxTk0o3iYZUfeAAngkM3WXbsqHg14V8qESRyqnhZK3wt\n",
              "Qppj7ESR4QZqwBL1GvUfCQqyAnC8W6OuYYclt9PPGzU7ecHrtHSXUiAAJmAAAACOQZ+0RRE8bwAe\n",
              "Xot8CxYgVQNAAAADAAADAAAcPbVKoCKP2fzutzcpqx0Nr2E16sWlBNwAhJK5+W9Awj/KjaYKdzvS\n",
              "wADtJ52jmXLkbKzMQy3Ncsjd41RjhknzVbOYaePqH3+tEtayuyldKRWU9T8AKvQ8zv0Xk2W5US6c\n",
              "HK4uo44/ICDjQxWflPrArawOmAAAADkBn9N0Rf8AAAMABqxBvaTh35j4Q68DiosB9LgAuij3a7/L\n",
              "ito8L3rYSS17zAxjuHOGgy1vgMAAI2EAAABkAZ/VakX/AAADAAbGmiAE1JI1Bk8y7ZBszG8opYeZ\n",
              "JtY+Dy/b1f3Y65fihi8kr4e1DOZPcJWwDPUOueYx7CYSKZqhHuyj5DdUKP6SFbTW9pxfhik4qkqf\n",
              "murGJ3+GRGnn4AAjYAAAATZBm9lJqEFomUwIT//98QAAAwAAjn/CAzKvgMJmrzpQYocLERW8t9EX\n",
              "msZmKKj9s70tRXoL9IWtZbo1r/olKGIMqEmm58865M2nbad1FwWGnqTgxVKaxLMgfKsTx+qEDwIz\n",
              "Oe+/HltzWPfopMbHQuurSAXldYmobTUt1mheHP54av+feic09eEW0Excyr1L7aXIxjR/vWgKZBQZ\n",
              "d87r037PqFzxM6OOabPTdlxBkrFoPRApWKPxfxNDDtbOm7U0LLTkWCKtMfTZx6VNDlo5QIurRgc5\n",
              "WuRKzMBeskBWqx4REYblACNOo2IteFJzfc1/hUCslRTZLEWlYkHOpnrccG0z4i+lKhpAH4iQzDNG\n",
              "4wTKE9pulJqNO4FCKpKHMnjGthNuYDBW7W4nZ6xs09BbltIFCHQdT7pBAAAAb0Gf90URLF8AJrH8\n",
              "AJ74FAOAAAADAAADAAADAIvS1PCA/S+LQw3QwQ85CQXa6x+9fNIHhYAGwtK9L3jkUZapJKFPgR/e\n",
              "h5IBxY1z3QC9805S7iQ/V8V8tAPSOJ6sjGfZ9BInMAN9EJMrNlBZiRsf4QAAADABnhhqRf8AAAMA\n",
              "BoODaHYXGKGNOG4kTiiLamw5IAOZnR7v+10fISlY47VSRwAAZUAAAADkQZocSahBbJlMCE///fEA\n",
              "AAMAAMinqIfFWgiUfBJwW9PO75D33Kk2XS4Z0/YpDz1YvSyAv+8NcnoVfXG+7sLTXbH8aXaY8EZA\n",
              "35uLgbWetNMpfKxycli4IKWGQDvrVKK+dv+/z9U0w2bLWrl5cVsovWEJSEFUNtuj5J7RiIx7Btja\n",
              "6NONpdrLOXO0dskROw1W5dGkx+POF9QObJwFEEOJmgHQZEaiAC3X4kPoyVw84YgJ8mSatFcKiQXt\n",
              "6/BBsVwytEeIL9dJWfDFF7EwoNnEBYkJTDqVrZxR6vjU4WNZtLJf/U4PAAAAU0GeOkUVLF8AJrH8\n",
              "AJ74FAOAAAADAAADAAADAIvS1PCA/S+LQw3QwQ85CQt+2fSU7a6dcAAdh58ux4VR4ydtT+yYV19E\n",
              "cHiowlgzTMwuZ8ecQKZgAAAAIwGeW2pF/wAAAwAMPrr6GuAYhlFFOPyvOh0D3j762TwAAEPBAAAA\n",
              "1UGaX0moQWyZTAhP//3xAAADAADJ6m4EeOLflv1kx8EAjDDxF4qI4qyUa5JJ5Ss7KlN3m6sTnPr3\n",
              "EhjuCOMdrJcTbbV08FkGckoy8sg4LGBALH+OKoIzrNaBUQyeRpa7MVqJpPxyKdVtCv8gSxUgcoXP\n",
              "v2eCWXJWm4sPYrdFcngbC7gGohp5fg7rVUQI1G50XV/VDtRpvLLswN6G+ceYakwicegn8htHfunz\n",
              "LkTsnc65kYnZbdwvX4OhK+FItZc8fGNN2yC4VHlfgZ7qF29vCDc4IdeTqQAAAFRBnn1FFSxfACax\n",
              "/ACe+BQDgAAAAwAAAwAAAwCL0tTwgP0vi0MN0MEPOQkWlukU0v051Q8DiaDVPVgNRKP9vJ28HFES\n",
              "mBE2JVmX9a/QFwZJeCHq1YAAAAApAZ6eakX/AAADABDSSWHpB/F4T1AAvXiFQlPMV/oPt8h2f+Xv\n",
              "sgAAXcAAAADMQZqDSahBbJlMCE///fEAAAMAAMnv+sv+7KZHWZ4LNkL0/ax5FhJAJrco1C8+Ly6N\n",
              "fHY4nWiT+cxb77VtNqHuR//Y1TMfVRnD4+TyKBqAIPzQOrlfXCaxCSAfAKWbS5cs5rrh4HTiMERy\n",
              "1KnGJ8dVomH37YP733clhRs//47iWKFvpzGZoAdhd7q8QTcT4Zx6f8dMSbYAaCZ7ALOcE7VT3s8I\n",
              "okyCFJLBMvYzvEtM0QJwZYiUi1EkT5ZXrtBeFEnqSOI1yTBEZh8gAC2hAAAAWkGeoUUVLG8AHl6L\n",
              "fAsWIFUDQAAAAwAAAwAAHD21SqAij9n87rc3KasdD7hqQnYPcJnegaPDEAHK6dHxoJq54YVwb2A+\n",
              "LraCPmXVB8AOTpTvy5sIA11AjWKyXgAAACoBnsB0Rf8AAAMAENpdoNzHDhKcwAgqZ2TJN7WwOlhl\n",
              "qJRpRA22ziAABcUAAAAhAZ7CakX/AAADABDVbZaIEwG3yTgilzSIe5NVaQAAAwEvAAAAkEGax0mo\n",
              "QWyZTAhP//3xAAADAADDlGeHOnw4Az5PGbibJRKtxmQaDNqINI/ce8V5SU8yenQnPSrlptE9w1+W\n",
              "eZ8/Q+9E1Ocwox7KHcPow3nJUfjnJ4H60yb3t05QI16DZzS05BjST+QvJMfu1Og/ryItf0ctfi4C\n",
              "3yhxplinOrG5qxJrxyOdNIUrlcflIAAccQAAAFFBnuVFFSxvAB5ei3wLFiBVA0AAAAMAAAMAABw9\n",
              "tUqgIo/Z/O63NymrHQ+fBOOjGxZst/eHn559ulTtPSR4vsUeNg9JHGyo9tvf+BqvWguVCjcAAAAd\n",
              "AZ8EdEX/AAADABBf4uAJjGakiRCaYpe8EgAAE3EAAAAkAZ8GakX/AAADABBSSJT5alNMG+LKAh3f\n",
              "5O6+lxecnpgAAGVBAAAAZkGbC0moQWyZTAhP//3xAAADAADE/03UNffGf8KrXlnUlc2WEgh/WLYk\n",
              "LTHgmA+M4yJ86o7ZHog74CYPceEmq0AJQr1wdaf7FskXBrSAPu3CkdLon2Glb1/NMtlVIm58c+t0\n",
              "7wABZwAAAFZBnylFFSxvAB5ei3wLFiBVA0AAAAMAAAMAABw9tUqgIo/Z/O63NymrHQ+kjwhfNAjP\n",
              "T55oie/c98ewHG8krH2Yv8zEIuJArACB1Jpu4qw6LUxBUIhVsAAAACIBn0h0Rf8AAAMAEFB/u0W6\n",
              "kbbHst6AX8mle5Qga8bAAHpBAAAAHgGfSmpF/wAAAwAQVZs0rYm/b+P1agzXR5swAABlQAAAAIhB\n",
              "m09JqEFsmUwIT//98QAAAwAAvyLrCqyL6hHowbli4Yk0elDAkaLQED0FPRNR4CFID80nRhRz6nry\n",
              "zWXf/mrppfXSYBvCBHG5idbe6V7v9cMltK/VecpCtFZdIePFcnB/vhUCg6INC0IBc6Pij0jD+CcI\n",
              "tKzgyXhwAdiB56LVQMWuVLuAAC0gAAAAUUGfbUUVLG8AHl6LfAsWIFUDQAAAAwAAAwAAHD21SqAi\n",
              "j9n87rc3KasdD37S+lXFKZ7ftLVba91oVxstcE9UIp5K2g0gqr0ALtZ9Yv/eLYCJ6wAAACABn4x0\n",
              "Rf8AAAMAD+PWKP3NUDnmeoUsglVEoiLeAAAMqQAAACEBn45qRf8AAAMAD9EI+6He0MR4ioGRd+pp\n",
              "m0xF8AAAZUEAAAB6QZuSSahBbJlMCE///fEAAAMAAL6TxW308AGlOvpuSCh/gUkKuaMYt4o8zYVI\n",
              "Ko36ZMWUvRA0TFr19jOTdjejMusuOf+43TGyokVfGxZzB7ESc6YBTU7O/Zr2yxKJHLxkrR9EVnhd\n",
              "l12iY5g6BgObDxJ6z2wFxG34GYAAAABOQZ+wRRUsXwAmsfwAnvgUA4AAAAMAAAMAAAMAi9LU8ID9\n",
              "L4tDDdDBDzkJFHoZPJj0VxRURvOXZGR1yib9CwJixnxV7wz3Rw2lJHQoVvyAAAAAHAGf0WpF/wAA\n",
              "AwAP2SKNa+0i9FW+c6+nJoAADZkAAAByQZvWSahBbJlMCE///fEAAAMAAL//NhxB4k32/uCXlfQe\n",
              "ffYiXZczgBWXX4ZHivCQ2i+/vpyoSeqxUst+8amulsLtBQTWBF/5TNZjf4AvgaTuTAK9pf3NnkIZ\n",
              "4P98ea7zfS+stUgC7o0RW0FrDLggACJgAAAAU0Gf9EUVLG8AHl6LfAsWIFUDQAAAAwAAAwAAHD21\n",
              "SqAij9n87rc3KasdD3iTg9JlkLNx6F75L1w86nUgAfLBpSgS9eHCgwZljHpk0alG9mvQPVrKAAAA\n",
              "IAGeE3RF/wAAAwAP2UtB1rXrlyDYRvjM7gl5m+9gAAu5AAAAHQGeFWpF/wAAAwAPijEC2jQ3E2QW\n",
              "GZ6VEVkgAArYAAAAgkGaGkmoQWyZTAhP//3xAAADAAC5vAodxLvogkvzEb5AsHtK8uIbf9RELbkP\n",
              "q0iuLFSlgz4fH057wvNAmNbfwVJLIG30F+oybf8hA+b3fnn1NyaEdSb7tgTOeT63PnIvHAxJfmp/\n",
              "C4wQiFPPKb1fY2Q7jqXGt2gqMV+w3xMFzvAAJuEAAABWQZ44RRUsbwAeXot8CxYgVQNAAAADAAAD\n",
              "AAAcPbVKoCKP2fzutzcpqx0PXt9qXrHEGFY3Inwcu3pJuwj5iZ7hY7hLwCJhpLN6Ns1wyrARMxT+\n",
              "BqE2RJ0AAAAfAZ5XdEX/AAADAA+L1jKG27+kn49P+MXp3tUt4AAdUAAAACEBnllqRf8AAAMAD4Gp\n",
              "Zp9tX3FgieCxKTuORaUka8AAHpEAAACFQZpeSahBbJlMCE///fEAAAMAALnuZIeRQ0IAEAkUNJl8\n",
              "DYbiy9ACWlbwRZm2odhILC9zxNa4rANr72Z5P3pTJmxZGd4EKBtO3vnjtWcLSfB1EWCeI6nB1+Vz\n",
              "S9k6nWL7DnvxoOd8XgrZEHSPu8hZkKBrXF+V/ni4YU/mpZSVVrZADy2imgAAAFtBnnxFFSxvAB5e\n",
              "i3wLFiBVA0AAAAMAAAMAABw9tUqgIo/Z/O63NymrHQ9h7eXe2mUqeWgsZeLkpbNy+VWRGCNp9ClA\n",
              "Az2DqV+qlId8m+tp2Uu+NiGunV+DC0vBAAAAHwGem3RF/wAAAwAPi+dJxNISel6cmH415ovugkAA\n",
              "JOEAAAAmAZ6dakX/AAADAA+D4xziBQhoyuBNWYJkQAcy0HB0IW1L8KAAAb0AAAB9QZqCSahBbJlM\n",
              "CE///fEAAAMAALU8Cpiuv+0CNC/gDZFdLuVDAILzl4tWJIzgMcsasQocdtXoBKhxgXayWQI18PI8\n",
              "fBiXDp4amXXQsV/NRihvjUaa0UBffkFsJViwtJTdjVCm5BWetKQ9tE8OJOq62opdvMjl86euypu7\n",
              "GPQAAABfQZ6gRRUsbwAeXot8CxYgVQNAAAADAAADAAAcPbVKoCKP2fzutzcpqx0PPtGuG42GssTp\n",
              "avpyP4uABs9i0BKk0XIFS1pOMfU06Fz9Cm8z7F35T1AzkObTwNhrLXWRJN0AAAAlAZ7fdEX/AAAD\n",
              "AA8z1jxQdwx6L+p7SQQ0rZElJAnyjOKuMAAYsAAAACEBnsFqRf8AAAMADymr5ygu0h3j8NE5++ml\n",
              "MSh6pgAAxYEAAACxQZrGSahBbJlMCE///fEAAAMAALnEcjH3/wKcRLAXcIACmhcp5GQnT+TRA4Rw\n",
              "7IHUkALzyurMaIkyc3dtKRPq5qL+EyYtOtXpJyKxJXv98dv/34IVocWbny4otajfMj39Rqpsss5E\n",
              "Cmop7YxmyGukoVTxF1m34QwmJgyfqllnldmZZgSlpDKEzPyubUir2TkBOC7fY2lsxoxBRba6AgSK\n",
              "NWJ6c6vm3DucIxclXyIJ6qVgAAAAU0Ge5EUVLG8AHl6LfAsWIFUDQAAAAwAAAwAAHD21SqAij9n8\n",
              "7rc3KasdDzbIUBh6e7s5bomUeOxreACWYw8xO9hdqctp4ZNgNizP2g1qcxSkt3TBAAAAJAGfA3RF\n",
              "/wAAAwAPM9Y9W0X7BN+EVygAve6a4NeI8ih9YAAGVQAAACABnwVqRf8AAAMADNzZo8pLbenK4w9+\n",
              "iq+vVjskYAA9IQAAAHxBmwpJqEFsmUwIT//98QAAAwAAtnJ9vdNKYbE9b5oASBByspk0nWo+W+vB\n",
              "BhE6LXImmKF+++3mkWk1c7rhiXIsCkgVFCLws5VtjnJHJSqpWcl+NvwYHuaha8alUowYXjYOdvny\n",
              "D/HV4mERcdPbEZU4RTPyfH8fvFjROPb1AAAAS0GfKEUVLG8AHl6LfAsWIFUDQAAAAwAAAwAAHD21\n",
              "SqAij9n87rc3KasdDo9qk1HdkSZkJ3buXGdCEzMCRdz234GH30Ux0kI4kcoqPgAAAB4Bn0d0Rf8A\n",
              "AAMADOTeJXxG6xtaQfUWTozuY4AApoAAAAAaAZ9JakX/AAADAA8FWSFKdio9MG/d66wAAfMAAABk\n",
              "QZtOSahBbJlMCE///fEAAAMAAJpvctQdTNWYJTDQA3Win9HymRqsEBN0RYtdHhhOPXUlZp9ufMCc\n",
              "LVDKBN2Nvsy64XTS9QREHulGFrmHT7O1yiols6DH6/VMXgskJRwn7/mOpgAAAFNBn2xFFSxvAB5e\n",
              "i3wLFiBVA0AAAAMAAAMAABw9tUqgIo/Z/O63NymrHQ6jdobRjtzkf+2q1AAGyZTNCXFHg9xQ+9hI\n",
              "5gkftknRsXchpoQW0dYm9AAAABwBn4t0Rf8AAAMADt4bdDro6Tq/maTmThegAAPTAAAAHgGfjWpF\n",
              "/wAAAwAO4I5xdSPn8aJ7wxT5K2hd9AANmQAAAHxBm5FJqEFsmUwIT//98QAAAwAAmm87pCAFj1y2\n",
              "Y3N5+A59J3QcMAbRrrcYDqbh0u//1fYaHYYjCJ090NTvHzpH0iHgyOGWmg+ZtEOD1bIEtkDDlJbO\n",
              "NyHQTkYbAVTkKfjxXZ7JU+gaSph7Rt2sX6y+5aO2D3/x4l8urE1BAAAAUEGfr0UVLF8AJrH8AJ74\n",
              "FAOAAAADAAADAAADAIvS1PCA/S+LQw3QwQ85CRKnpJPGV//4BGkd7a3MEaJB/2+Je3IDQF/Vwu8r\n",
              "p0Zae1InxWI+AAAAHwGf0GpF/wAAAwAOrVk8Lmg7gSrYOPYHvRbCy7wAAekAAAB6QZvUSahBbJlM\n",
              "CE///fEAAAMAAJ68S1CAd8+6MjKoIObwLD1Ehrq0H7ZKNDNSMDo9b1dZ0EUOAkfGuvAY+VgkHXes\n",
              "+7fwtNE7ftuurmeVHKS6PwlO1TYzBzdAymhCLt014S6lSBdZLVIbkzhFF4kwCRcDnv7Two+bXkEA\n",
              "AABIQZ/yRRUsXwAmsfwAnvgUA4AAAAMAAAMAAAMAi9LU8ID9L4tDDdDBDzkJDjumeI/0nUhhu2YI\n",
              "fc08RfC85+1dGhZh3axA007AAAAAGQGeE2pF/wAAAwANhHnF7fevPuBYbAAALiAAAAB2QZoYSahB\n",
              "bJlMCEf//eEAAAMAAPfRc+prniRAFbsWrmMSu5TInxY3R49gSWCI4NqGCS2+W55J9X/QlHvqF3Vw\n",
              "9zVIn/cMK3KrNNEswHgL/Tec7CKR8XXqEBQtKZlXwuAdVPFsJVhfMxZpw2jgt4ur5drlbQYUtwAA\n",
              "AFJBnjZFFSxvAB5ei3wLFiBVA0AAAAMAAAMAABw9tUqgIo/Z/O63NymrHQ8CZ680tb2ro9lHDdmo\n",
              "sowp4aTYkBTpeYjPGgbBa4yTiS+rOoxv1+MEAAAAGwGeVXRF/wAAAwANhIxrhD/nl3/x6vcfcAAB\n",
              "8wAAACABnldqRf8AAAMADoOXuTP881HOKIMSii3e7sZtGYABMwAAAGlBmlpJqEFsmUwUTCf//fEA\n",
              "AAMAAJ7uYu59uWDqLgYzCgE3kOC37CJS9vHVd9WAKl6l2t0jlBMCUIQm2J2hYAotogd1UQyvudxM\n",
              "GwXSKfjSztw444nz01dVU5OiPzCvYIaLvHUMHcAALiAAAAA+AZ55akX/ACbKxUNMwPZEwAAAAwAA\n",
              "AwAp/aatGWBEwUaAkndc/OiZy6sumJt8jEFFDMlEFyV0WIYTooogQMEAAABXQZp8SeEKUmUwUsJ/\n",
              "/fEAAAMAAKM8krGF8q/AcAT+BhcIacd3P2C675wMHVxjyuyTx6FOApR5cSY9GwYPI/TpsYNxeOcd\n",
              "d34dIptXmd4wvZle/dfgAA6YAAAAWQGem2pF/wAmsfwAnvgUA4AAAAMAAAMAAAMAi9LU8ID9L4tD\n",
              "DdDBDzkJD5uX7HSiCjy3EucD8/lkABc84KxvXEDsclLvlzQ3WorQQ55trjkea8QyJRjXlZ3RAAAB\n",
              "W0GagEnhDomUwIR//eEAAAMAAQ7omvYXTCm598zgEALWtchp34qseey3JcxcZ+HBEcd0AmVFZ5BI\n",
              "mP5u7QoeGEd+q/bb+uCufzJ0droIkHT64R+ba55MVowfst3oppnUhIH7Nvl+93u8Y9rpEJh5GTdz\n",
              "vLKMvEFUBtQ+npbY8fdyPaxBFgUP/LcxwqZMhzWLjdMEN4sQQQGx70Wx/JnCndSwO13Keho4ypd7\n",
              "TEFjzrjHh9SLHsBLYxUVl78ADWfTMxHSP9QnhnQUFXTXuXHojT3AyVGDMruxjXVRDFYAmbi4O9M/\n",
              "8pKCrCt/m4lVT3rE3+jWVH3UEdLcN4SSrkeMmyQkn3IMON1U/xZZ2GnRDwuRNoVSZErS2g5r+og0\n",
              "Nb47pt0zcgESptdIaGc1iw/rC3kzkh5BCGOSjMv7N8yFb7rmTPl1PFRRuVNOEmYdP2XwNAyC7NqF\n",
              "Kem4AAVtAAAAikGevkUVPG8AHl6LfAsWIFUDQAAAAwAAAwAAHD21SqAij9n87rc3KasdDvhtQnpt\n",
              "J37SfJRX1GO7KEgBBwiIMCXmJf3VrebaYHTP/7onog0DemO8gCJs9OspoJq7wrMbZjMagg4aahcw\n",
              "0WbkOyopt0wI1NBeVpnEJq0nkJBdE8tx3pf8hafsYbsjjgAAAFgBnt10Rf8AAAMADn+E8y5+KOAg\n",
              "AnRG0lHyJf45rt9+v1c5qW5QhrVVUwnAahkIIdugiZl1baArOlRcHlFKv7NA7FCnAkb4gNGh9dtP\n",
              "FipwI2vimYSkAAJuAAAASwGe32pF/wAAAwAOe8RoJbuQB+MAICUdGsw/G5/mww9r40TjKSB0OqTa\n",
              "+7JFBHpIJ8s5c+fefP+hieF59vK7VNI5qBnRU3wNtAABdwAAALZBmsNJqEFomUwIR//94QAAAwAB\n",
              "DNSkXmwACufo7AAcPGpew5jac3I1AU4QIwMrrM4NhY/mmbl7Rky/C4bxWs233hDA+SD412Y+HIWR\n",
              "3mByA/XyAjTzL58mvv6VrW36jVegLmZzq6ZqQbrS2rjoEj1FWJw9PfzNp4OtS4x7B9GI+Priw2Ib\n",
              "JlWDbQBXswwWAzRVT1AejEdKdpcV3RVczhT2691JPqVUkd5SGISC73KUB44dhUKl8AAAAFRBnuFF\n",
              "ESxfACax/ACe+BQDgAAAAwAAAwAAAwCL0tTwgP0vi0MN0MEPOQkQkMJlnnu8AIJGHrMZsKngaCFV\n",
              "DQdIwQbjGVWEAsad0NhleamlMxddaHkAAAAgAZ8CakX/AAADAA55ONGbgRQCqz+hRC4GWK3DsgAA\n",
              "rYAAAACNQZsESahBbJlMCEf//eEAAtWqIgf2AFmk9zMHV0G6IsnkACT7xP1xrFl6bE+28F4zDbwa\n",
              "x1jjBZcuNjMOmFUxvT1OVO85BNM2XdyLkpERNw2SrFP5nqdYt2jxxp2lE/XMerpfnUGj+F+5EGEC\n",
              "zg92SH3Rh+PPtN62KFJAsIEtX1BRjxdtIxo5U0NSXDphAAAAWUGbJUnhClJlMCE//fEAAAMAAKw9\n",
              "6kgAARvj6Kru9edAyUE+RbEF1foZO6bbb+A7rCVRf3U0HEeXYj4mrMAeHcA9bQyqUlxzVWVu4mcx\n",
              "wr2FenoaqUhbP4txAAAAkkGbR0nhDomUwU0TCf/98QAAAwABu/Tdiy3h1IAADzsSgbpQxa5QUOoZ\n",
              "pY7vkTpC+ROP2/M8PTWZnU3G++OXrMnOA4vfv5amr4V1VR3/sG7vW2gPsxdtkU4OOSlJ/Km2Qdn3\n",
              "n+yViQqqSvbDJCeD3W4dKPghqJ3dq7B/SOMXi470LwgcSnO8RLT9ysg4h0gkECgHAAAATAGfZmpF\n",
              "/wAksfwAnvgUA4AAAAMAAAMAABQVNSqAw0pScyR2yXyVvwm9MhThggl6/AAfzLeDoua16N9ujQUE\n",
              "i8N0zMak5T1mlM/R3pEAAACpQZtrSeEPJlMCE//98QAAAwAAsO5wRsJ3EI5O6YdTngAgkfTsz8kZ\n",
              "TYWBE0EcikGHaogTmoIzQX9M8jHk8GmqahPj1KfWu/tIc14BOUa6/BjPGskL4tUn9P/WvZ+iobl9\n",
              "eCAnXWxc0w4W3ebVK65nd3IlUIc94ZMQecGQuq0NYjeeIYK+kDcIGYFI//YQ9DxWyHh7WpT2PumL\n",
              "Dcr4R8YyKdXWftjIAABUwAAAAF1Bn4lFETxvABz+i3wLFiBVA0AAAAMAAAMABDUWp4QOxpLVaAVs\n",
              "d7dZ3MIzGwSA0Zd0xI3XLeSX3/lg1JeBJMM5rzPwuhLeWUzjwr2Whcl/jBqrm5wuk2dKeoEQruAA\n",
              "AAAsAZ+odEX/AAADAA6tV3qjWCV4f0+VZipH9cYAcFQiuHtwQgckJk4PoAAAoYEAAAAxAZ+qakX/\n",
              "AAADAA7RONGcQ5YAB2egkcuW9bwt9RGL8FQscrImj0obEpr3m4wHgAAFbAAAANRBm69JqEFomUwI\n",
              "T//98QAAAwAAuv9luSuKS0bft4nTOjHseLYEeswLUdJj1WueMt3KkbTFmYRH+ukPEoLn4VdFJPAR\n",
              "sSk36SPUnXxgmqoC4jWbQqGkhv6ri+VIkuyZA8WECKRJrX81YkpjATIGGh6CMbXo1ecXkkdGueko\n",
              "2LNOQDcWF8XImTlr/C8ESjTscKG6KADGukn8MEFJhBHTV/VpGIq4tEUFoA37OV1jLoxrkzs1FFvH\n",
              "6wmer1qxvluNcdXLrsNcw+8UlAHaD599oMERBoPrwAAAAE9Bn81FESxvABz+i3wLFiBVA0AAAAMA\n",
              "AAMABDUWp4QOxpLVaAVsd7dcNozBEL/7KpEUtFpx5WSdbAQc9lnYrSOLGx2NMhiCInbWiaW5qVlR\n",
              "AAAAJAGf7HRF/wAAAwAO281mIi+ULnGkpZbPCaoABDcS/nyTAACTgQAAACQBn+5qRf8AAAMAJr6N\n",
              "RLT7+lCgZn8gAEGCSJYnwm4g8oAAi4EAAAB2QZvzSahBbJlMCE///fEAAAMAAcb03Y2uSVSAABVj\n",
              "PZhXNrouSqiTpjiAN2Lvk4sXcVrdGdbMFXvSPnFiqTx5KWpa2cQka3MdWDkm99KzB/CCwO6GAQMZ\n",
              "bMMjzwoDbTXxKR7mvq9LXeFu3iFgC1XTZCHkgAAQMAAAAFtBnhFFFSxvABz+i3wLFiBVA0AAAAMA\n",
              "AAMABDUWp4QOxpLVaAVsd7dcKOTbB30vDE1R+8IAE4xnRUI7D12n24jRTtthq0XYpco2Ibm7CWxR\n",
              "zTBJzBej6ABko09IAAAAHwGeMHRF/wAAAwAmpJnG1daNthFyN8uo44Dt1rgABd0AAAAfAZ4yakX/\n",
              "AAADAA8yKxOdAsXGDycSGdtBqqNYuAAF3AAAAJxBmjdJqEFsmUwIT//98QAAAwAAtcmrSJX7fAAL\n",
              "LDC5BoNdcmh1WpX21Nra+fJIKWmzazmie4jOz0yqH8bT3i6jSaZqWVZ7NHj9YVnIpYR/geSl13+l\n",
              "3RptfYEOrySWNBQT+c6CQtlH5hN2jdq/v6fnmSgFBD3ewoyipqAqHAMoqMONNq2k+l1VZbZperuL\n",
              "qEhWZI4kxJTrVbWVQ4AAAABZQZ5VRRUsbwAc/ot8CxYgVQNAAAADAAADAAQ1FqeEDsaS1WgFbHe3\n",
              "WdzqenyZP14V1q/5YUYL5VZoQt4ZlO8bgWgAh19OGZAbgMcg2Y9WDBDbqoCH6Qzyz/EAAAAfAZ50\n",
              "dEX/AAADAA8nu8idI5Rxyn/d5K89KxS7AAAVsAAAAB0BnnZqRf8AAAMADykvLRQKDtvyJ8whanFy\n",
              "AABnwQAAAJBBmntJqEFsmUwIT//98QAAAwAAuftnBNaAFYFEz5r6WnKycjbCt34CiXlcZZUWeGQh\n",
              "qrfd4bvba/d3sutamdw/HVHz/8EOJeaIosXiB8qfGXnHh0MHwafhGFurdijUpVrCN6sYWSSy8eQG\n",
              "1oWVd8EccUwfaFRxaWD3StLVe104NCrHz7GQhYY5cJk8vUAAUEEAAABLQZ6ZRRUsbwAc/ot8CxYg\n",
              "VQNAAAADAAADAAQ1FqeEDsaS1WgFbHe3Wd0qjRZmgQH6vI7OiiWHfRU5Xg2F98iHq5Fl9WDUS2wQ\n",
              "cmTgAAAAIAGeuHRF/wAAAwAPJ7x2G1vrFcKDR+hkAAg86xrkAAQ9AAAAHgGeumpF/wAAAwAPiish\n",
              "PQNtdtS212VqD1ha+AAEvAAAAHlBmr9JqEFsmUwIT//98QAAAwAAue5fCzQAAqsxL1XrZ3L06glO\n",
              "mvoejI0IoWx5vK6upBYPIQDGBq7R5IsaxjcaYcyhoLpVe98g8TDmz8Cshwq1usc1051nuQOWAzdf\n",
              "/bvFLeEkyOz+e4sfVCXAcoU4Dcy3lOiAAHpBAAAAXUGe3UUVLG8AHP6LfAsWIFUDQAAAAwAAAwAE\n",
              "NRanhA7GktVoBWx3t1ndKzNVS1YRawE0q4BxTJUsgD/zxACYqxK5JDYD1E5O+8qX/Up8/tbxi3x0\n",
              "a6IhtPLChPzYGQAAAB8Bnvx0Rf8AAAMAD4wnGNNxnFsrTdYgyTscC80gABiwAAAAIAGe/mpF/wAA\n",
              "AwAPiir++piCT5Du2ntJjERizAmQABxwAAAAokGa40moQWyZTAhP//3xAAADAAC/f72D+Ak6iath\n",
              "XEom8gAV4GKZta7waN/KrPIYY3lGTkEN2II57JpZJ/kAI29kBHUYOAK2b/iFt/d5+pO7ins1PTSa\n",
              "AK62CNeHe1VCAB6F16MLuScQ0q0eS7vQ9kprRcOqe6hYWk1wyypJhKvL9SLurvl3HORnY9KrS1HS\n",
              "r+XhPgFptNG4NpevbeyJGAAHhQAAAGBBnwFFFSxvABz+i3wLFiBVA0AAAAMAAAMABDUWp4QOxpLV\n",
              "aAVsd7dc3UY/clemry4+CbVeO4uYpsl054VVyuB1PDRtitP/VGBic376gAE1TiS7SxEV6b0IWoqJ\n",
              "fGNwywYAAAAbAZ8gdEX/AAADAA9/vB8HZ6yklmnteypoAAGLAAAAHgGfImpF/wAAAwAP41+fSt2G\n",
              "stdzuV4D6d+LRgABLwAAAJtBmydJqEFsmUwIT//98QAAAwAAvpRNs0AAHjuPwwhB0t+/Tk77LkKn\n",
              "+o4Gr7zNJ05LfzdD0+63BFmkyxQrSXlKd0gWG0CmwGrWqzTetgPC1RFbkFEyqIY7i8NmuYdgbTVn\n",
              "sNZPuhLL02gWK7snoKS+17y9sizEj8mPs5/GrV/UKZ52kbtWw3Tx+btdjbU+np28PbokVmlYiAAH\n",
              "TQAAAF5Bn0VFFSxvABz+i3wLFiBVA0AAAAMAAAMABDUWp4QOxpLVaAVsd7dZ3WU2JqrNMozZGULP\n",
              "+YABMSOsBlHkjIwJ4pDOR7HzaceX+s8zDrw82YVA0PizQyIPH6U+nXNBAAAAHAGfZHRF/wAAAwAP\n",
              "5CayDRfUrGNMHvRGQsAAVMEAAAAsAZ9makX/AAADAA/ZLtQqNMtmiEJkABDfFWqTWgzUIbAFO2X5\n",
              "HZaFUIgAAi8AAABwQZtrSahBbJlMCE///fEAAAMAAL9RkgjmoHT7gA/H7JEaJdU71qIgzEPgGsXt\n",
              "pN7HayUIRtD332QarOJ8yhXxV9p/cy84czdAqLdz2o888dJvavcqJnTw8VdlXeRPpLKyB2iW58Hb\n",
              "ft9ly9euAAAqoAAAAFFBn4lFFSxvABz+i3wLFiBVA0AAAAMAAAMABDUWp4QOxpLVaAVsd7dZ3WTS\n",
              "CM8IwqOLiY33CDFa9kADuUQMIy2akIo+CKLRlZEAIyYrAZKqd/gAAAAhAZ+odEX/AAADAA/jzeOY\n",
              "+F1Wn9UAGo5/fqdj85aqAAEXAAAAGwGfqmpF/wAAAwAP2cYFYMJ6pv9NQCRtwAAE7AAAAGZBm69J\n",
              "qEFsmUwIT//98QAAAwAAw5Sq3FLJk4RqBXeutnABxubLhI0vBL9EqHKHI8u4qjT1Hi2ikBWphNAK\n",
              "pBlxt/ZcpQ7kgbRY6b5UsC/8rQ4bEOpJGMeg5HnNUjWLo+5c33QAAcEAAABYQZ/NRRUsbwAc/ot8\n",
              "CxYgVQNAAAADAAADAAQ1FqeEDsaS1WgFbHe3Wd2rOHgAI5z0jdAYOAlT3UWk8Dl2xeQAO8mnQkwP\n",
              "xC63aB7V/FTIOZ3k557qtCLjQQAAACABn+x0Rf8AAAMAEFAtSJ0rGRncsX8tEx0viAblYAADewAA\n",
              "ACABn+5qRf8AAAMAEF25Ei2/IbxkTJnDEYFAx0FlkAABSQAAAJ1Bm/JJqEFsmUwIT//98QAAAwAA\n",
              "w5RNcw7wAV1l+HsjboFzMWWvhRvnL06ved8t3FGJ0WHvdoifdyujJAIpIBTe8tGwix1Nuu4fd/5u\n",
              "PPvw5C0DYzYdHgMYLdW55T1rxqBvBBIz8q009r8bYCKRc2UMSEn87m9eUIv+oyzH3waWgaiy/xGl\n",
              "Ki2H2vFMLUfOwwZamWnRAIUWA4KQAAIuAAAASEGeEEUVLF8AJLH8AJ74FAOAAAADAAADAAAUFTUq\n",
              "gMNKUnMkdsl8lb8bwf11QOGJNmKo0x6LUSy3Wu9rLbszv4Lpwep5RwZk4AAAACMBnjFqRf8AAAMA\n",
              "EGTQb3/mnf5/Nyk0G6ZR7s1cQa2QAAB8wQAAAPlBmjZJqEFsmUwIR//94QAAAwABPWUaokfQAsO0\n",
              "t2ENV+eFkx6YyFAEa7+bDfwijDl4sXBJgb4d0PWNpRRcK9a7e9EH0EqncWfw+XnVzo0Z4dYCQFAN\n",
              "WcnqC1CBVCj3G0d9IXXI7r7sVrcyqwyeScd179Mf+CHWq73jTDppz5av45dq57jgnn5F/BUF4l+k\n",
              "0ov291rhQUGI5dqpC0c4+d0oQoJuU1I7JJRCNfCBqTi+hJ5HrqFDElYMO53rdUFgedj+cbGCrv/i\n",
              "G4o37opHrhxCRwNaAMKAI4fsdvyLP4xQN5IKCj/OyZlYNJOWOy5kg/gAvx7jO6gABJwAAAB8QZ5U\n",
              "RRUsbwAc/ot8CxYgVQNAAAADAAADAAQ1FqeEDsaS1WgFbHe3XOMBN+mi5WQ8DpUj4WXUAJqUzE57\n",
              "4PYMX1Tl+hgZIeumW22sCHz0BamG+mMgRO36cLNQ4s2ap4sE+zPkr1OvV0n+mSllfX1FdTeeobKs\n",
              "74UsfX2UnAAAAEMBnnN0Rf8AAAMAKxuQabd/L1d2yjgbTGl4AIYZYarG8n3+ObQX6Vlowp0AdhpD\n",
              "CNQ5nbUjhwPJ1bsgt+q0CmAAADjhAAAARwGedWpF/wAAAwArOd31wqRygA+jYdNuSz1JnlHgFYHe\n",
              "JA4qXtmTllH+zuz4INHKXn8t106mZsG92qmo4V6oaaE5XogwABSQAAABK0GaekmoQWyZTAhH//3h\n",
              "AAADAAFGjy8Amkow0b74CQtG5f14FPcuY3KHn0VVZ9sL62FJYEs7aVFZpZU4pY1430fVtPrnVCht\n",
              "m9hsQQqOglYjC+TWAZTAZ1voqqPhK3ecZGyneChZQgpi2hhbF9bv0ksMIYEAU+Z+BW7HM+YyFRxO\n",
              "PkKGfVO2y+MXeidEif+qyWTVD9YtdlByX+ZY7epIGTiS0qvKO5jZQeQRzIJhWwpnFjyu5NwGOHXH\n",
              "6wD3BFchL/TZP8/QC9Jd5sL6jgjMOHft/f+EbfijLIQsjRc3bNfx/goLR9o02OY3320vR2EQ0MGV\n",
              "fkDe+O6feCwWRN97n1uEi10qvetuujhsDkdO5IcM4jU0c4cr1YWqB8N4D+V/HeKmtvfUJ5ugABJx\n",
              "AAAAoUGemEUVLG8AHP6LfAsWIFUDQAAAAwAAAwAENRanhA7GktVoBWx3t1zelmE3TCgw+b/pbhED\n",
              "N39gAbEDrZLbdmCC0DF6bqI4ZsxWOsUPJTdVtXuXghf4q1R0pnjQ0wMhAN7/Er6uEy1gfbMaXuuL\n",
              "wmtg+tkX8erOQX4kDbxZS+Hv37P1OP5MG6/XbnLfINkjp4sowsndOw392qNiunoEKcWDAAAAUwGe\n",
              "t3RF/wAAAwArHAtDo0HxvPrhXdd9OABsO9ruNSiOoa7fHVheMuIZacCOphWFbW41dg+5tDApRfuz\n",
              "+AQIt6MUtiM9oxsXqn7ExNWsZ5FgAAcEAAAAUwGeuWpF/wAAAwARZWkpJMVtZs4yADnTkmjadKnS\n",
              "LMu7vBFok+RK9Mg3nn+bRu9hE2618LDesR74ruoSG3UzZvqcnxinjfbhcfR45upAJny4AAXdAAAA\n",
              "1EGau0moQWyZTAhH//3hAAKxqiIH9gBvWCxyS96HHMfHYUIgBtCnrsbfUUD1psaTfzLEVWx4JGmO\n",
              "GpzO8Wjv9P4pusCbermAr4S4BTjItYcmmhNlecnu5nDZXSXd7tVw5yWRhEXf5a8IKq4YGGSzbcpy\n",
              "eanDlc0uR3zJ0MFnBmD/ijjK8tKKvdiMVHabYLyiqixfeM48Pr6QwEKzYHHfFZvPXQm1x82uprnS\n",
              "r99m+XlKz0ymIFouEhgmQREP/6rabMg6aAJeCKbgAvZR8Hf8wBeAAAXEAAAA+UGa3UnhClJlMFFS\n",
              "wj/94QAAAwABT2On6wCcsgs3JDy5qkZ2XzpKiOaNaQqH1QGLx5V6eP/GmO1v5tJHxqD6wKYWRTc1\n",
              "sCzZHRE4EVYLmPm7Cq6hi2csuKiWjqj8iRahlRPrZ4XCGedwGzHwRphuwrbHZspexmdZ8tDtBVv2\n",
              "1uiJSli9+gV+PO5OPxnK7sJVLDji75diDVwJqbE/8aS8DxQpgYLt1Z+Kd7azFPXLL2JpNOD46OrW\n",
              "vpn8/Sg+rQKwrmcMXB3hGY/MDZzkbn7FKjmfCOBgViGnCFHwFZ26uFHzNCMMD6J78V6PsE5aQQWU\n",
              "P38EoPgvoTTH5QAAAFoBnvxqRf8AIrH8AJ74FAOAAAADAAADAAP5VUywYZFISy4cuPSzrS1aVHFM\n",
              "TTiCtPnwcmlwAOZaE+/nA+XVp4LifW+T/xv6aKnRamXVAdmJVmnGC4OTFBR4hbUAAABvQZr+SeEO\n",
              "iZTAhH/94QAAAwABT19e6Hd//N6QAEItxFR7FWGKbQrsbGDD8f9gZhFIBGAs6v4nyrSRMNuLBOM0\n",
              "Vn267kIgn9tBKAwQsh0QdNpoIrY05DsMx5DXUQHnW1SrHil4M6sH60pnAuyAAA7oAAAAXEGbH0nh\n",
              "DyZTAhH//eEAAAMAAU/LxWw+ujYAGxbvwb3PpfeqrGA5QwNYqJ3R/YYkq4Miyz/pkwhqCZzTGD5M\n",
              "eFFCmi+RX368NQrOGHsJyzPDOvc2rSM7O9Hm1zCgAAAAR0GbIEnhDyZTAhP//fEAAAMAANKVuaP9\n",
              "jRpz4AMbahik4h9IGqaeVM5z4ArcUlxSxryLbNKySffakX29MMoWxsoNK3egAByxAAAAuEGbREnh\n",
              "DyZTAhP//fEAAAMAANjxmgARWdnlp1APXx35hXdoheK8DRzAUzzVHzNnP5J8UPx+fJd2Qtnu+IkD\n",
              "t61eavXyE62AW6Qc1b+9Soi6NuzR3m4JhmJx0RqON1qWMx8jf2I/JTUvZze+5iqw28X7W3aJu3hr\n",
              "F69InGqDhKYwWDRFQJk2wic19m8EOXxe/f9Sv7nAfu59dEwFELzO338qzeKW0qREpixOvyIJjpxT\n",
              "UcpxBAAAtoAAAABhQZ9iRRE8bwAboY7eMbeHrM6AAAADAAADAGkqqZYMMKjnYkEWM9r63cIRPRLb\n",
              "dW4RyovxJ9muok5sULj2BtRACYmp59ze6IA6EW212Y+zTyt1L13Bot+HRcHsGsnnngA+TwAAACoB\n",
              "n4F0Rf8AAAMAEdAt/QU9aXWrpVBAAEHbQdYkXtCUqZW0wUt3McAANSAAAAAmAZ+DakX/AAADABJd\n",
              "uWrRqjSY0lX4fABuA6AjxtkDRMwh4wAAQsEAAACfQZuISahBaJlMCE///fEAAAMAANj6CSpLhtos\n",
              "NcD0mazQAtrjYJTgwSXxBtfvj70UpJNY4hxAXbbWtbHoQRJfe9Hi4zub7O/bvxzTbTV+iZuVCoFs\n",
              "/a2I69aq5zVj9fNYs1PnIwy6pl+z7kI6lnccv/Stfax3HoFXmUhQfMRHK3ZsROob9RD5rgOpk6Gk\n",
              "royxxsCKh6cnFzZro10SNTTBAAAAT0GfpkURLG8AG6GO3jG3h6zOgAAAAwAAAwBpKqmWDDCo52JB\n",
              "FjPa+t3Dnk4KIH3nCY4xh2ABnx03RUcULZjk0maP12zvyQiNKQ8aUB4kwcEAAAAaAZ/FdEX/AAAD\n",
              "ABJSQmAJv6MarQBLxYAAFDEAAAAhAZ/HakX/AAADAAbmLRWbcHpABuA6Appoe4pK6FhAAFxAAAAA\n",
              "jEGbzEmoQWyZTAhH//3hAAADAACDIxw6/uQAODVIbFH1QzISdY6povBKf/Moq4vLqiNUTTLk3awQ\n",
              "YkbYZyky001nvYvUQGOANuRPBzCbHGH8I+PFsg2TbLioCM4K99Ez9TpMdBqbxZ3cu7JjhXhWJGN9\n",
              "FdB54YQZ5CFqaDJxWqsypI/T/P0v2XYAACLgAAAATkGf6kUVLG8AG6GO3jG3h6zOgAAAAwAAAwBp\n",
              "KqmWDDCo52JBFjPa+t3BqVil+uuZqTDiORpuv/9FNOABnx+whYVtuM220ngC7OhC3MHY+QAAABsB\n",
              "ngl0Rf8AAAMABw5AmJ0mJBf2T0hmxpAAAtoAAAAhAZ4LakX/AAADABJfRoq2cUbF8FWSckKADYm/\n",
              "A/VAAAoYAAAAcEGaDkmoQWyZTBRMJ//98QAAAwAA2O/7bx6u0MAALZdtrWwkowr0Ha6dgoYA/WgE\n",
              "BQcRYghvfEQbnvQsnEa17ykUH5k3UxUsYa6UQSuYIVX8cOEAdnCCa+Kuudr30VzzamnRu9YvA4d/\n",
              "M61Z4QaYT8sAAAA+AZ4takX/ACLKxUNMwPZEwAAAAwAAMJbVVMsGEZbSBP9vzx96QEjjrp8lmzFo\n",
              "7A8TuRfYkHCmv9qsJYVDyxEAAACvQZoySeEKUmUwIR/94QAAAwABWvWy1C0CLRJ+ljAAunNZCdmE\n",
              "cKAm+AvqKL/Tpd+E2fhPMdJXX7m9yYFEgZEWBKWZrkjCOHeEYwJLuhwLQT2U+oAruCXjTySb6DQN\n",
              "8PzTNmYUN9fWOduWRghous/QtfSVHcNkZhzvMwZitU9Z2AS4WNUCmxjRG1CBBoTRqt6ovG8J133o\n",
              "kiCBW2RrnG3onMRjMmssztI1ssD+wAAmYQAAAFdBnlBFNExvABuhjt4xt4eszoAAAAMAAAMAaSqp\n",
              "lgwwqOdiQRYz2vrdzZRod5JtHlCFnFDd+OGqzoMe/AAfcva5bE1fuVOQfZNlQXAMXqblsBVGJfFf\n",
              "e7gAAAAcAZ5vdEX/AAADABIgybaZzXbfHmaVu7IhAAAwIAAAABsBnnFqRf8AAAMAEiDJtvkYmF+f\n",
              "b3pv0AAA9IEAAABjQZp0SahBaJlMFPCP/eEAAAMAAII/FGQqjsAKzvTPktvxIw3SV5HpCs9SNegC\n",
              "Tqik/JEYX9WTvKXo79lIob2/t4QIKpBENteWDAZKOUb+P+E29N9Xkvvyt3LArnmrPFD4AAfMAAAA\n",
              "NwGek2pF/wAiysVDTMD2RMAAAAMAADCW1VTLBhGW0gT/b80XgWs+FFFFxlgEdRozE0iwxkKgsvAA\n",
              "AABSQZqVSeEKUmUwIR/94QAAAwAAgkkU0o/tot2dIAINOJF+V5gh6mC7CF9FGD5sHeBWY6elzS+l\n",
              "jcqCwVUyawbAtZ2fn0O7MUTFyXr+naXMgAAFTQAAAIRBmrZJ4Q6JlMCE//3xAAADAAC1M5dwAmma\n",
              "ejq84keGU6d5NZhske+1Bui9LW2RHNNuBI+YpNw4sXC8NAnn3Mt7r8gGpzD1TtGCiDZEGMloV37w\n",
              "g4ME8auY4pO85FXQaI/YbjYwrjD6ZcCIaUs4cLE3f0CHgnjr+LgP7fHi76Nd0WQAARcAAACcQZrZ\n",
              "SeEPJlMCE//98QAAAwAA42/7Y38jJZZgAP54/BYXnthXkV2HcbZEOLoqOb8tuAGzyV/oM7bM/XOv\n",
              "hm4JPHExKoVqBi3S65xEUss7lupMenp6tbse9qIXbaGPV/PQzYtmcPoD/3StJ7YoKGvotzKgi9BQ\n",
              "fnJYY+GXJZxmRYhf18aK3A7pHu0XsRVTnsWBsxWR9C8gWxhQAB6RAAAAUUGe90URPF8AIrH8AJ74\n",
              "FAOAAAADAAADAAP5VUywYZFISy4cuPSzrTHVixL/9X20qePbuFyhVfI0xACAMorAc2EsA7gsm58g\n",
              "qkucumkwtsjqgQAAACMBnxhqRf8AAAMADyIYK5GLPkO1PoGOAxiUhwxVsw8tsAADegAAAJZBmx1J\n",
              "qEFomUwIR//94QAAAwABHlYP2TA4OWZXiUAI9iVCgIMV3OVUuR5Y+pimQTLT799yEAvtOEJGZN9p\n",
              "6Dyzs49C5Rp8trvtqSKJdRZK6UADjSHqE69Tp1lXqfARx/Qkyp7jV+hcXXf/bFyc9TFiM3Fo95j8\n",
              "qOs9rUjlN4EL6k4JF7O/b/nUzrgDxSDum9a7AgAAi4EAAABKQZ87RREsbwAboY7eMbeHrM6AAAAD\n",
              "AAADAGkqqZYMMKjnYkEWM9r625Ei2ld1cAa+U7O5fpmfxl6Pxw4TsG47wfVGjVZrrFc+9IAAAAAf\n",
              "AZ9adEX/AAADAA8ftMeKZG1gM+KjrX5NmaPhAAAvIQAAABwBn1xqRf8AAAMADzJx1S5whu7tCDIz\n",
              "f+dgACLhAAAAjUGbXkmoQWyZTAhH//3hAAKNqiIH9gBnjM8BogcANzBBHMswBohz1SApvwlNtvE3\n",
              "EqBnTREgknsex7W2dr0uHG7jPaNYA6TFp6h1WCmexlkIj7kkTp203225AYP/1E8sx+ZbvheyF+un\n",
              "khBukmfYsM7WfdLysFbUBo4nIcSBbdJmd9LBQn0+d6Y0AAAqYAAAAHlBm2BJ4QpSZTBRUsJ//fEA\n",
              "AAMAALYbUywACpnsnoWTt0+0EB7fDbVJvufPBT66EO4pdSn5W8CKN/o5sNvKUiGhw3XHzKWa4usa\n",
              "4U6+zIY1XZH3wYjlVhHdJsPmOtF4G9iUPwFzczhdWFZgQBOQtW7qsgX/1lQAAIGAAAAAQgGfn2pF\n",
              "/wAgsfwAnvgUA4AAAAMAAAMA+ctSqDR9+36e3Z28TSvmXR3TgqpmGKjxu87QuFCQujZKsb04nplb\n",
              "4LGzFwAAAJ1Bm4NJ4Q6JlMCE//3xAAADAAC2DN63cgEpLQTkMAnB5LE65vhcXw5E8IsL80MQSF+p\n",
              "zEr7kn1hshkU2TDhitFGubyarGZLcz6VyCpcH8uHiLBExADLAXa9Fro6Zx+j045IjCUBa1A+QJR0\n",
              "lz2Bbmv7I1d68hAtTwDF4DlxZUunMKjonymYCG8FSmvs1dlAa1dokNtQZOp5VfggAETAAAAAS0Gf\n",
              "oUUVPF8AILH8AJ74FAOAAAADAAADAPnLUqg0fft+nt2dvE0r5wxACf/42o+3r36Oy5RAbV3ASrAI\n",
              "JxAxRA0MctBisZ+UJHovYQAAAB0Bn8JqRf8AAAMADzJws+1N0uMZhWJ80RXmdgABeQAAAMNBm8dJ\n",
              "qEFomUwIR//94QAAAwABHlYEOwAPNo2t1OvP10yfSojt3wryYVhzddpdmjZ4pCPajw56CtyksC5N\n",
              "UKetRXvMTDNK6/XpqbGtq3W1M1lj2pZTL69fMRTZyW1yADirWjXIuabzT0vwsenoaciMugr+6jZl\n",
              "n4wYLkURrqYbVw/CwynQQRXMcYrVXt+Jf0rsNiTTFl/YAJ2fv0ZKECmd0TYNzm3IemjV3wd0cnEU\n",
              "uGPCP48Un5hMrnh/MZ/pCJAALaEAAABaQZ/lRREsbwAaYY7eMbeHrM6AAAADAAAaLaplho9/d8qZ\n",
              "UocRIRhwgOj9KYi+k24t4XZvb0kINW4ZggBLRW1VhuaDtOwQ/+RuxJVhFGun1xtmjCJ3xmpeJweF\n",
              "AAAAHwGeBHRF/wAAAwAPKSz3s+NdJEWaC8PB+xTwQrQAA/0AAAAiAZ4GakX/AAADAA7KIaqENV+j\n",
              "q3HbmDG/UrmB8k6LwAA3oQAAAG9BmghJqEFsmUwIR//94QACamqqB/YAas3b7FVIGzxOIAWJT3Xr\n",
              "uuBqxYtKlrgGLXTZk4iBkbvR9Ej7h02cLyrpMsHOhkD8QvYStgMgH+oyJjLr+1JU+U4bVcDY02lt\n",
              "op+BjPF4nnEuEnYi01j9KEAAAACNQZopSeEKUmUwIT/98QAAAwAAsI50yZkwAq9m9ZVUcCMV7nSr\n",
              "QNXqkWxQhCY1Hp0Gwzuo0egQ7W+jPDlgzHUsrP5lgY/82bEzlb8I/on/AkIbAI0BXzKVm3SP5Cj4\n",
              "3SOPu1rKHPixAfLJ7TWbNBBXVX6t2w61L8DtYcNJqoy8TzQ3jnvet/PWqjoIInZFAAAAzEGaS0nh\n",
              "DomUwU0TCf/98QAAAwAAsI6NcWaEAA4oTZioKtJ3YSMj0xXHpwWFcKVIuJ9TSfnhIpaUgi7KMuG8\n",
              "PVAr9MGhoAgw/+vSyYtv6uwuQxj8BxhJb2rkOGKZk2X2eMpDSNE2qOqlUoHGMwDnSao6yX7jl2jR\n",
              "cgKoZRUo1lQVQ+y9f0K8XhpDlmWIKrvhSlWqhXoGLKAiey6dMAVeARbJl3vcy1BlJ024w8clsX0q\n",
              "XUv8RKXYvpR6Q79s8+7lrX86kKFPV4mW+PNEdQAAAEwBnmpqRf8AHwzLII74FAOAAAADAABQctGW\n",
              "PGV10l3ZiUdRiLD+w8O1qWluZTYXWY0OTq2I+IX2MU+QTfvrDRD1TRRpTfYDnP2FOwWxAAAAtkGa\n",
              "b0nhDyZTAhP//fEAAAMAALCMxHtKe4AQcGKdWzbgWQFbXQiwEeOjkKvF8bH+O4d5HWEWEoYmoM+8\n",
              "w9CYlBntfYb+G9zrMEeSJBkw1mGrf1VMQd9bw9XPcE1CWBOKelt6fuNJVIW4L0hGitSlq+HiHCXg\n",
              "tMni9oRn6vrrd5YvHGtjoPqMHa14RpaFsuGGiFdhLzKdyavOPJizkbaXa0JN6+BP7d7/nGw0Grec\n",
              "GE8hP8uoAAPSAAAAX0GejUURPG8AGSGO3jG3h6zOgAAAAwAJx5qVQ8XXJx+dF7mpk9b3sftI8nfX\n",
              "seACAdWEwSEea3P/D+FD0vI0vJ3a5h5r0M7+O+QVGmW41Bcb7hRUnlr9SYwYbh8T6YeBAAAAJAGe\n",
              "rHRF/wAAAwAOxIfuJ8T4N3ra2U21/ZYaLzhBEE04YAADuwAAACYBnq5qRf8AAAMADtNA7YJaNd1M\n",
              "wXjadifsftG6sktYD/7MAAA2YQAAAPpBmrNJqEFomUwIT//98QAAAwAArRuSiW8AFopMZv2dnI5y\n",
              "1Vm13XYE//qjU3qtg004pvY0EFZuVEO01NyMA8aARJNXmu+dEWf1zbmuv+wW5FFolzxA7xwhxgtK\n",
              "rfw38BeevbHbmmeXtx7F2oQjdDu0dkiMTnfW5Ec6AUsa97Mq6fyQsGPTSZ9pZN7d1q5CpQtMVx/2\n",
              "N7eZ2Prtk4nr/VlWxFsKpzpeC6iZWUYVoF1eEyqHbmLDFFd29msyC4AFM+apANX/OAetfjYHl8QH\n",
              "rLpB4di5OE2fPGazk7ryyUR4x5LUbFM26af5vo67z3xPNDUJdMY5qcPxUksgAAAAXEGe0UURLG8A\n",
              "GSGO3jG3h6zOgAAAAwAJx5qVQ8XXJx+dF7mpk9bYq+22d0kAAH0n6/nM+QbD/qhfUie9fRB2zH5R\n",
              "yTFwWnUqGyf+pp6S9lm43z23MYSJ3LxrqCFgAAAAMQGe8HRF/wAAAwAOc+SZSkoOMAGztJfi6EjV\n",
              "fkkok75VClNWdTIHAra+1J+ACxplq4EAAAAvAZ7yakX/AAADAA5nmDnoeUAAbM2NYYSsNOVZjAiO\n",
              "1IoecHgzJspwPu97QAAAFtAAAAEeQZr3SahBbJlMCE///fEAAAMAAKwRB3UZZdAAbSK6VcWqhe6y\n",
              "V6swePDtMgBOGMiKpACyaW49OVpPdTQD1zLs3IlP7Obt0CwQNlRbys+9hKYY/m9HNmvY/Pm46Q6C\n",
              "Jn2iKqXKbyw4e3nxTtfNIradPhaZn28tFvJqHWBYEd9F4x1FTIPmpOiC2i7VoaoDmi02SwV/T4ng\n",
              "9yFJDBIFmMgrEBJmLMMONE6674fz8Ji5zVnd+k4nIiEEPbGz9ufbr888UHHU5AgxmSpj8el510ln\n",
              "5vYpDBzePZlLytiyw9J+FNLFeFeEuBN7YIRLRRAZYICpPj5vdNZnykFvRTcqOEytBh33Vxki0Gty\n",
              "SFZinSVDfLQWukNhivFklxV7/5MsoAAAAHRBnxVFFSxvABkhjt4xt4eszoAAAAMACcealUPF1ycf\n",
              "nRe5qZPWy9syAA2nVlwHezlNI0Y1Gd6Qn5HC3lk7Lxj3u0UPkIv9tl/uXIg+PoQon1eM/umkZBku\n",
              "qoQVyJoFdqB5CJcGgohWLEx/bneNNXgVI911QQAAACYBnzR0Rf8AAAMADmr+ASK5MgpBCBceMifT\n",
              "qv5wVJj358qnQAAXEAAAAC0BnzZqRf8AAAMADnu2EB56AAve81Fdqul6JsLnUykDSUXSY1ptRnp7\n",
              "f0gAAuMAAAB4QZs5SahBbJlMFEwn//3xAAADAACns1ygAnWcC7Q59HIsVxtmD0gCQsPmAh6UuV7P\n",
              "XWOMEKFD/BMCiHxFhjKYOIP5LUfzqqfxbj3mJDPt63kFwppyQkTcXO+QJph7WEQVZBiqrtCptGxn\n",
              "qWtGjdZg4hqQ1cKUAAHdAAAARwGfWGpF/wAfIPkDTMD2RMAAAAMArprLRljwru4HaKle+fVfiVlA\n",
              "BzdCViBHmb9L6Br1Ius78iUEg2YJkhB2maBxTEYB1qt0AAAWmmWIggAM//727L4FNf2f0JcRLMXa\n",
              "SnA+KqSAgHc0wAAAAwAAAwAAFgn0I7DkqgN3QAAAHGAFBDKp/wM+MQE/4ECYyenprDJV+kEKyKct\n",
              "Oh0B8oBGNW5J5xgLA8gz2wuT7JVKIHMqLPvMT58Zq1tECfgPANcKZREAW7qPHwDTe4BeTeJ8xHgy\n",
              "d3+HfL6vaDoNIf6X9asTTjXnjm1odu5Tdp2MmuZ+YcvYAok08oa6zGe3pkVaAjrIMYGqYb2jRd57\n",
              "J9nUUxCKfCjU8mjyVLaphpBckG0rNtg8Gezc5NpXm12Mqpolr6x4JTi7yCaI2ACaSADXgAEaDKIy\n",
              "BiOsPJmz8ZBbUkpt7toLz0sAKByQAiTaDQnJQWmHAI64YeKbA82oBwTKbxabS4/fYUDO73Bq9CZd\n",
              "3mlR72k/3EPz6b5Ims38NsOrm6PVku1CTqthAC59hFzplM/i7AF6LALzoSWm8cQ4Jd21DRMBQuYz\n",
              "iusKO3kP1l0jCcWha+Yk3rVkItAGiNIe1itRAoFvGKvGpOSCg2/hVdICn1PQSlZKw843ehOcld+B\n",
              "oz5oAZWgUsmX5idKZ+zfE49ukBPELnTOQ+LQQ3qR/cjua0CPJD4pGwho6x2mstbChgjBRbftJKck\n",
              "jHClHr0BRNzEzopPBRqZJXsH4KHqdqH9BRam5v9gwpQHKP/LbByBWfWDFbXmq4nRyFUxGbOdxjRa\n",
              "ANWCxmo9VxhDzFi6+rsxy0sqzgXVLlAtYpgds8+UWCN5h6AAAAMCFEihXv46yl0dnwaxDgck8KXx\n",
              "Zrj9gTpJGDE+D4FxaakpDm+UpMjZ08EX9w3v9pcwQDVSJ2///eZjFqJNDRydjmobLvRPNErV2ff6\n",
              "wEixAF8XYAU7z2hfJ5jQHJvi4wkcJmzwLtxxhwhhkzsnkU/SgZfvVzJJCAzxspjI/0QKrErpHgFI\n",
              "udLV7sV0HuvOboi3X43rdFoKUUUbAJWij2mq2iaQCA+Svt899Ou3AEqvVo0wt3s8ORe4jNiw8yt5\n",
              "924UzfZ/ms0l0KmUjGR3lzFq5rw6aIys6U7p+hQRLAhx+s07phjP6/Lv4v/RXnVvhkyh5YGFveg2\n",
              "G+88RN2vhmgcq3NWtbqElrstf2O7ns0uOUQhH+hPzbB98t7O5+vlLbwlnTzYHRzpEpNlnmhzO2LY\n",
              "y8xC4bxDXjKKdsF+VIXQS6QGnAduQlDx3BTKY9CRaTvzKm6bFAKD4snCnuEBdYYPRulc+Pn3RLAa\n",
              "2yedNorJ09IaQVkVXh5ZZOsIWYQmMeMlsPmu1ylz/VhV+3B1GIZLr1+Gu+YPxGkSRk7xTZh+f48A\n",
              "1/ClpsxxqkArT2ilx79ycaOQYNnGpWrg3UtUub9pXO1rEec4uETr1thvrpLbRAfRlR4CIz3FrFFJ\n",
              "r+7+tS0kyrxmx+xc6RPDKEiIhXp6QnYJuKMXdkfycpRZaOcS6/7qWkOI/uHrr4y+ZcpVS2If3PIO\n",
              "wXOXjYu/JUFv4DBFvrqF2/tWgYZ6wzELyRuM91TzOx/VRi1VlbvUuJb9aiHB+tNpONCZFVuLJ+/w\n",
              "hjAHEBkus5NeXO50/ArGXYJkY8Vzu66uij/IHznoFwDx6cEXE0d3pFYhq3K0w+iDYtzelY36smUn\n",
              "mYKLRayQVtMKhtPI5YnI4IzeKY4c4GKPtJHrpJJnnyGUkf0qN/6cl/M9zTf2aJU/gcfGqIq9Orjy\n",
              "eJ4ZrhQhdidjPgLbx8nON9LNMz15NRNGWJRooWtL/BNAFcpcbtP5ns5h0mmrMmUCD/ms1nsnaTTx\n",
              "2SE0H5ATE/qejw2R/9vcIT7EfNg6PheUmySG+Pwtt17ei8ZzguB2OvhAUmWgBjG8rNYLr1Z9D6OE\n",
              "puNYK7eRyW5FXSHT1sGhIvoKTBaJnZuCMsNyFwzWmTNnPyK1zwg26zTQBDneT38ma1GjIdpzvCir\n",
              "o/l3nfTmpsr5ZJo5g8X9HbPl7LOdzpe0ChV8/OR8hOiZgBU5F6w/LhegAwnnaqhcrNNSiMkBVkBf\n",
              "4RDV7f/1vSWENjLNTtmoZT+Cn9QKWMJFow2MYKLWsv5Zzbw+DeMs2yAVGhKZQpeTzeEgV+WxTNwx\n",
              "ducw8nq5l4lzyuvp11bm8ilKempOEtwvQeqO1OnEaslaAYemgfwagQgLk+7vQnqVDaWGfNsUvHbs\n",
              "dzzeqqLjg2hduzPl6uhNJ2RL7o7SLlkdtzuDeAQagw9UU3JaGbQ2PoDekxarkHGwPPuTi6eIb/Yp\n",
              "+cBtlEyClkRehurBBgOM93AJxdTHPrV2GdqIoKWL3zxNPAKhFf0jja3ZmfAoDXuqxn2PQf3VqHUz\n",
              "HBVNJfKxnKqG4l8jgVIUuZ8XHmmkZQT2+9MaVgrisib7ZbPvi8ft+yKg/aORGKiAXR007fscnU91\n",
              "4zR8egMpRIyNR++csj12LYLsG4hjwbK2E1JLKYgOG3bOi4Bpu3VRXLwdjiEbpXAtruOXgCFa2APg\n",
              "5roc5p5TwH+oVFscje+Q/hazG++nG4tNDUtdJtS4xi78xAcF+3jAG3y1yqzPgY27tMQ+gfuqsaG8\n",
              "CD0W/q5es4vhuHe+AKdPniJa5WBAmn/sYl2U2Yug83K2OSrr4OLtasGENLhYuGkgmCw2L1OtA+Sn\n",
              "RaqXbqR6+y9cHD+p5JWQDEHRn0kXp2lmHhL6ufU9f8O7Jto4Q4FOFI0zGuZCr9h52H6jmyV0Cruc\n",
              "qs6RpvEM/Bng9sMAWqb4JfOvqgSbMRnShnVZh7CpO/mB+nETqXE6QptqFVCj+p6hyRtc++VPfZKP\n",
              "PJ3ec9jHlHxbnSkZ3VXUuGSHYQlQVs56H2WRuajQCWZz5lNvPwuTFS6v7Dj1jIc8fnf3mmNlGsjg\n",
              "jKbEpmxL5YJRqQ0jQKjvcr/FWPiVaEoZusN0ZWBYI2Vy02AH/zC/s37kVcUOV/wcFIWREk1c1/or\n",
              "KUHjBloUjiVe9BrPozgA9WS67d9jkAE0TPOJCWe5o1fi70LqBt9TjVQ/m8H8tKMj2EP8zq2O2GV2\n",
              "cfOce99ywl517FAXmmgBWd9s1Pt4D+HAEv/ccdfxgRYxsEjYr6dj2/GaAYo4jMHwuxeIXQxaKikq\n",
              "LphaUZqthfd/7dOHRCJPBT2xEUYhdAEPcRt2GoIA2LFIWMdC83euITRezCvJhoF0SfhqmVl+AnMY\n",
              "FerHTjDw38uiE0EuNBDLKVV9+K7kZtYloAsmzWqPMPP5QKEEyLBp60K2EZqzmOBWURB77k69k4gd\n",
              "1ow9pwB/1AcCF+0UGFCQNLYwQfcveM0/YdzfmcbIwp9EUs3vHsDqjbGTfkfluFgOqIBGTe7YLIAw\n",
              "XCgAtl9Gn/ySSJ8TQ/pis/MvOL2yb2lGaRVg8Lbk/nA4C2yUVLQF2UFI3WZCajEbuf/9+3ZgefrF\n",
              "kbQS+Evz9xygpPnnN693ufqMtC8dTk4S8m2N1RB1TbfOt820m8WQrK9Ea1wBPAT96Xx+f+C59EEX\n",
              "HceKvVPpotwR0J9WKiF152wLS8AASffpf9D1Dwuj6I00NI6cPwlJv1R8jrt5q76EcMYE10MBX/5r\n",
              "xR+8YUaBlt9EHgsMuWoixAt+gn7CGmmMNzyi/zvJK6MdOoVY+Lmf/8BrpANELsvJoD1vRYZgvrsx\n",
              "qCl7Qmfovue2lVMNB2gmuN+JOcNxqIFhV9BtEuc+FV8a3kNcoXUun6Feb1RiA+JUjBzhY79KcpSP\n",
              "shrFVKdq+YK6hrKQ0aRsKUwyodXTLCMdIbQ7ioArY1CiCWb8Bsc2iNIPz+pcCpQWX6r+p1YQMMQc\n",
              "pRxz79OliV4sxoCW5XW0Elzx4AfPBcFzZInK2WulyJgRPrfo7BF/4EkceGOVR55t0AdrxS0KQ0j2\n",
              "9U60qIfUz1lj4o6DDZVVYbwdyWikzE4LsLL6BAx1Ow8xkV9FM6R9QgaQPkTinGdcoK4oZU3SsY87\n",
              "secRKS0ItKPlM2h5PPlGz9M9NpHkU3SAyExPYeegs7JTwmwomQ28pzQoRK/32AoNfD9LnWVrzcUz\n",
              "X8sKIy+Hp6nJ7aaqFvdUMnzi8Qv6KrFUMWZH1BCxvUkfldrIyuVoRaXpsu2PIr+I3/0V95hg3iDx\n",
              "IzkntqdGzFhKWaLJlLZSBN0/yZ976Hd0Aigu5AXd2jx5LRQIqv9j0m1FeFSEEAk69sioJWh5U5Hi\n",
              "LfIwdPYmX2J9XMki78m5iqqkDgKx+vI/54HPFY8fMkRTbMHuWfDFx5ZLu/wWd4Fhm7cwel+4iZvU\n",
              "cJNfQrsy/K+0Ss4TnOgAdqJ6iv6xmlA/f4eM1NWEurlQ1/Wn4zX/FZcaSSd/ou/ypeKtc+m2tfcJ\n",
              "NXVJ1/m1jyi5KPrtmF/4yOJjgjcM2Thu1Q3WkK4CnY9CLXoK8VzAGy4aIbYW4ZoAYiGilr29e5Iz\n",
              "prrdPF1JSzT0AaYEt7WcWn4q6SaknZVuQwg4ZDLTvRgqB2i4WTXkxPCh2y9/BcllEJ45DWIxgX3I\n",
              "lCxvzJX4/XupN0lwhzU3c055R7Wrds0M0kMPtFwyNoFWNmgi1vwdrpfpmlrceJ+TlEyw5VpODUPr\n",
              "Ez1bXNG/RKlB35P6uGdg2G9yRA/VmoJJ2/qtIQOczZ97pA4ERshQi8Xd1/41Xr08ZZy4GTR3ufN9\n",
              "hRK1Cc8fXHJo3WqkFav4ohb5NUDhRBeWrtAanhXue8BxBN8cUdduIZPVbbguyVF9YmnUmPm4FHpg\n",
              "ebXegxovwEaKqE2cH6im/N0atMsYaz5iHLpftGHHMfcFO98SGtswhNj0UIBzUSpxvDjqLzywStJ7\n",
              "+v14bE5x5GRuvUNHjRHzf0Lad5mJSb1YGeY+ggNiEQejG45jrNkGmTTY7xAuWvnVajEbyRKInq+k\n",
              "7KZIZgdXFhGSU6OihD2/BvIl6yVfPL4TyVuKWTi+pPWehLZULO5v2RksUJL0y9eAu+GPjxhMopJG\n",
              "3wvk+o6R/AQelOMhyQ0oC8RY4olzt2DnvqMioMuFTYABuXPA/AsT8AvFG8Cq0bphfgCe2/VjuwYF\n",
              "qddvhUZcReTqs/P6AqC08EWxIPGPCjW+wOWpvXG7OaMPRouMNi9ztwNf4w5FcVXh5KX7Xy/vAEo9\n",
              "zmEttIhifEuYEJJ0avzUQbzqW6oR9OAmUjfccdstxQz87hfRKZmf/8CdjBBZRFMvtSPltiYHzPhm\n",
              "bu7/u/bIRZbOcvtA8FJ91KffLOORVSqUW5zHoOF8wHaByyZVJTTmBATPB2LRX6wvHmAcXRXdalE+\n",
              "eyvKzLgoughhauf9q01I51YW3sI+ji3Vobef59Gba0LpoBGz51JnL4Mm4hh5wN75Ld5NtkctmlDX\n",
              "KSMik8HDV6fKGeF3uJ61kxZp/m7MfnLJJ/RkAbYdSZhySmESx7vv9PD2CViD6O9Ai/dt2iWcYH0m\n",
              "7+6F4JLMcGc0IhFahjVMLocwi+h7Mp5EBPW0VJ/lBkIJwhw0rsSoooVKLaU67TPG0DLXzFTIeOrg\n",
              "hTNbbeZsssqWn9pZCisfm4Wm5zqrwOPdcCbUezkqQAETbUAAAImOSbBJPklxaVbAtrQynge9wjEw\n",
              "87FwUhLSlGMQ+5FzvUEpZo1eRsvj4Xjnp91V9QI74/pLTtLuV4PI2b5UqUy2XlGiEPp4kazZj/Oc\n",
              "rCgq9tSQGnUScF6Al11HtGmZ6/osNbdGlig+z0GxRn6jXaV1FDc7b4c6LqUXFV5Gd5aqTkO9ktcV\n",
              "1u63Dqodjpf1vCm/MoZrNO9PdzsKXs3mutGSonHmnCEp3O5IoaGotXEjt86KefUw1EcCGWRy2i/7\n",
              "Rtg85fUTfjXX0AK0QAAAAwCmeps0e9zoFm4TpdtSVXB1yfOIGlNCce/HViiB6m3ekEFVgL3lluiX\n",
              "TUWfarO+kjplgPcc10yDBRv0+7pBD7ugSbbZul5B1Mge5Ihh41495DT6mLVvbrH/f/7HNN/Gwe5g\n",
              "eucUDXDTM71xq0fuBo0/lW3EaN1cr45M/8XizdTY4UKgkJeGWOwKdDWFAyipg7wAazAAAAMAAAYu\n",
              "je5VaF07ashhOVzvYNSFiz8Yj8guIoMWgvRURz+0G0wZQR2UuoftUui3sPrMsJ0dfNr2E0p/9fjU\n",
              "FOrdyEw5LDXXvAcSklhdtV3KZjoXYEHWMECnAJiHGZdcQ/Hyxqu9UqAwcRne7OzejLH7ZLMEUaI/\n",
              "C2X1kxxsZ504Kw8Clo/TICsnvmGRCgOZCRboLOLL+K0QocX0p2q4fBc5+qGC8zneBKXIMnJx2789\n",
              "OLQ+Q5C0fekyVtTMDxr7xMrNEwqz/H8SqjURr+XdbWTJGJ5LpxURMA8Zbq2zCup1vBsg4lpDACl8\n",
              "Y0hO1uzOP5OL9pJo9Z/XtChmlTza4GiOwYQabyM+8xmPWeF/jxpxK0iUNJvHMNyt7SnjmDkEKeEI\n",
              "KazKxC2l13/CxGY/a9MH0UYVu6n/+CqQF+OL5PvxK1S1KuE6/NSyda3W9OvlRXtBFPVhr8maSl6q\n",
              "Hwe3tjFX4jb94wm5GeHP+j9uZZOUdjRhIXkBRySpQkuXEvumLESb2JW/aPdFleSzBdbbf0tndfd8\n",
              "KJQyGuDH24lLxuGkV//IrWF5Jk0/pTLPbWC0l95K7eh3rbO2qarGdsHOZ0NV7tPPAdNSgTuN9GEH\n",
              "dUibU148by8t7zZ/kZTL5105gKRJl6n8ogRvgByTdh1AhOX5ooo8AVw7e0EzkRSonzofM34fit0e\n",
              "dyU7+sNMrpV9AimC33i7RoQPC4DKEDl2JouXxtUoT6bU7KCkrbYB3puWPWP0sOPv201K+8k9scOK\n",
              "mixg1sBZztADzwf2q+V6mH7dc++S7+xAUDMx32cX1b+PR25K5g2mVF/K1mbz7Wy31Ck2qIHdtkf+\n",
              "73McT/V1jVzva8rpoxzVIn4f7lAm0ZaEFNQkvzwk/8jGjBtGyjcCgS8mlDfyMfXo85fXczP/6N1C\n",
              "dqa1UyFmcrj/F5aBYLXGqvBhi+lXBrwQjmPzrcKwpnP6g9eAxR8iL2je4kKiwGaZ0Ics0F9VPCj1\n",
              "np8HgyehIGwoB/yXXiorPRsaXezQDzXnM7pOtaos8TmObT/wM1gle6XqHhD2ZYnsTNJq+4qpEFcO\n",
              "y45INjElN3LVZbq2msJ/+Djs1ZJaJD/5BCKd2fMCLVd6RZSWA7eAXXkmP2bEM+lCR6Bj5Nsbruqh\n",
              "ONipk3nCSxIcRr8N95uxb8bimYN2yfPZFgrmlAumTg7UJw5/jJZbMB+M0x7iT5FS9wA6exCRbviz\n",
              "7Ev0c8KNp22g3p1EaeIAFIcj71de0n+TBnP2f+ckj9Jp7UpFlS4N776hostzLPnV4YIaHwu8VIyC\n",
              "H4v9LCzKp3DgJoB5LFpd7lzNh0LOx0obcKtt7KSdo8zfMB1AufYVDh7P5IugZvVIiJJHXXxQwWGV\n",
              "muA59XYywmoqnu7U8BBVyFGVo63kcaS0haI++snsAx4q+ANA/mhmiDc+mwkLjOeO5A6bfUUxRuKJ\n",
              "BTzQsTUIsoq0OB+uuEh4E0uz50lERIM7nCQeiIa+gLBw4tPDxRQF7/Uv8qY0N/202U8icjuKeCKH\n",
              "FdvpndHNvqSfoUQ+i9HqJ8diJC668JzCkzjH+d2aC2rGfSBgKsJCJtM0ny2ib8gPgPvl4Ok3yABq\n",
              "G0EbrdMe9e/sxGK60pKLbPdv7sVztnVKIVo6K4pneA45j+gpCV2MzUULt7UUHgKKLH7uU9LMbe4R\n",
              "mj2Ov8JT1Z9nBUnDuQBOF7wIWBBk+Qx4N2DtFKt+T58GLh9sZz1ITulqCAlvnYhCR5OlTsAGF39N\n",
              "Mh5oAAADAC3hAAABBEGaJGxCf/3xAAAbH03X7AxZRAAJWqZq9jO/U6Wklro2FPbgs3qNXBabBbkZ\n",
              "nERvFM0fz8Fbz2FqG7wotd/SefG3rk4/Q9RtlsowDGdReWsYj1V7X48iSAPpqLF4ugGGVIwt5/2H\n",
              "8NpOfucJ+75ADgoz4AlZL6/nDeOrstDRj+A5rHWG3ZgiWosGSKMZ30oQzbmcgKJhIF7PvLCFTNYM\n",
              "YJuUP+b6u8HyzazinN5RcNjfoabR6dQ9SAsz74ElE/hwbnzF7koVzIjYy4I+55oyX3LWySIb98Wh\n",
              "pxp1byVxr21E64GPW+Q8qxS9XrPt9nUKEcOPeMFqPsm0p2P8naAvRan4DGWLAAAAP0GeQniL/wAo\n",
              "6smIYf0Mpfl/gAfr46VddfisATng2nOqGc+qF9wU8AQATG9aCFimC2qW6AB2WxAbQWD0YBmf8QAA\n",
              "AEABnmF0Rf8AAktNIgR0k2EAG06tZcP6M+2CjZ8Ty3i9GxpXjnunO3vVz+NPf7iRkc8pwkRtTzsA\n",
              "LD6Sjz6rb2f5AAAAOgGeY2pF/wACSrqyFBDx77fx9ri3s6LpWMAHCfr2j3/JdG54+tu71R0Ljuy6\n",
              "lhteVjflO4ACJ99AOOAAAAEeQZpoSahBaJlMCEf//eEAAAMAAIsA6DcrbcMUALBIyFxqmA/0wNvz\n",
              "NcqxzbVzS1yOTp1npKXh4YsUtU0Y4QhSWnblIqDmL/Sv961JSCa/2eYpXZYSkdpntLqry6ujK5pg\n",
              "wX7fzzom+iCgSfP1ZRXaf+IChnb9sVDcdx+0+Jkkh2bg9aKxWqULxwYWPf4USDfbYgFeEHlcH5e0\n",
              "NkgNu1e5puc7z6QHR04VLXYpc7s2vd5uiZILjUNyDyTkG4Ph7E/AwF2koeQPYaWR1d3EaUNY47Cg\n",
              "JJb4K//FnUNmulgM56ja7JVEYIvIpWCJCMRIC03nPqbhoJ1eqfVzX6MgrUx5wguPl5cDNcHjom8u\n",
              "YMlldIks+9rzq5C2ZjnpCAAGfAAAAGJBnoZFESxvAB++oDgBKRvlFbkwpAAObuIfq2L93fpDCfaN\n",
              "0oxj8Hn2Ke2YSOb3oXq8D8gKkIspai0FssIHCI/6QeL4PmnLustR/2c5gGGzUnD3XOEFFWKQf0qA\n",
              "AEEwJQDUgQAAAD0BnqV0Rf8AAAMAB28CWFImzsYQAW4s1anRBOpOqlhiRCigxBauJLPK3UYK17W/\n",
              "QDKK/rg+MWr151qQAAJGAAAAZQGep2pF/wAAAwAHahYPthABfQYwYqqPE0xL/DDKk0SSrcFJc67V\n",
              "1OQV/+2bTnBZed6CH9tyD6RFHiQlK3/yy4w8us0gEbfV9K/wknPI5H6l6hrM/6FwU/E6YIxTfOvM\n",
              "w1AAAK+BAAABA0GaqkmoQWyZTBRMJ//98QAAAwAAWJZx2gAIvG8gYYBw+tf1wELIPHAJ/SECCkEL\n",
              "RfhYbcP4eGQrInqvIZWSf9l6uPwXOQmBNg8R57htNOzJdX8hET9plPYCkoUOLUHRdoChSo0EWpr2\n",
              "y9462FrsVHJpKlJsyjJR+p99Y4ob5qT10D14xS/ey9Z2Op39A2BFJzc3zDGtbdxz2PWCH0k4HxuU\n",
              "K1esOyFpv6+YSQoyRcxjOlYr1hiwuTLdwkZu91IAC1IZsvNSAVldX5hVRZ+XTvvEoNQeC2/zOPmq\n",
              "6aNHg5aLFsgxvI2pN7Uct8hDRhy5IufC+ZkgotOReftcKAk0SmAuMDgAAABMAZ7JakX/ACkHWAAB\n",
              "z1Pox2UepELqSrnwAXalaSchOFJJNwk33cOcDrIStERRKq+B9h+RQqzjzZvK1/t1Ge62huVJCHTY\n",
              "xv7tAADugQAAAOFBms1J4QpSZTAhH/3hAAADAADycxEACdZH+t+l5uVKNXPamft06AqrmBBsRbpO\n",
              "uOT1Mw+N2gjq8vZw5Vbz/jyopQYQlOrpey+RS3wSNqv+9IajttkVOvgrUV8Pz6mFmZ5VtNctKVDA\n",
              "poP/cNPcNJnzIVbsu31DjQkKkREGeSj91a/IZEvMr5JgpYsn9LrjnuVoRLATniq2QfHu3VizeJ4U\n",
              "gl7HCP4M7s+nfcZuODtGf5tUCnJDRTbQrq30M1hYo1881RTj4EpnnK+rAGTjPhgU2zikkAi0RVeB\n",
              "GoovhIAAMWEAAAA+QZ7rRTRMXwAo6sjIBEQJiBldi9rP254IANk08iq5/ojtznU4y+W7GrwHYzt5\n",
              "tf86Q2575ocYi8GbCAAAj4EAAAA2AZ8MakX/AAADAA00kopKWuuAECFzw/ttZhfciGBduIB+xhEz\n",
              "paU1Td2ZFqAj/EcYPNlQAAHTAAAASUGbDkmoQWiZTAhP//3xAAADAACabW/0CopgXc7sNNRxR3Xs\n",
              "v58TcAF0AAO47CtChGwpbKlXrYSLeD3uKVyB3Y5HCyvyNYAAg4AAAACmQZsySeEKUmUwIT/98QAA\n",
              "AwAAmse3fNTWfABc7pzZ0UT33ULy5S6zkcnu6EVEjb82k2koZTzI58nRGyG0YI/NUsQSaL/Zx/E6\n",
              "vQzbKR1R2OGcCMAwiTcymoKfudAehYv25qyJqVDl9TmkNF6JudkSfReV958lrffooG+gxpCF/arl\n",
              "u+YZkZt3Fh6IYbBkKsCHJeg68KMEuaEImEsoq83YDc5PudfbgAAAAChBn1BFNExvAB++oDgCACr2\n",
              "RsuJPk4paA0ri3U1wCk3vJxoAAADAGVBAAAAIgGfb3RF/wAAAwANIb7T07VhqeCbo8lx/g9fi32i\n",
              "JUAAccAAAAAmAZ9xakX/AAADAA0zkuBo++Nh14rTTAnuGMzoZrjnwSZ3eAAADZgAAABmQZt0SahB\n",
              "aJlMFPCf/fEAAAMAAJt6kHAZEt62OGgfuuOW0D2RojoQC5r44p+HgwM2L4wy8eRLWlE1TTF6q5Bh\n",
              "dkSGDg6ZMtUfMMEGpQMVySRxZ2BqhF++lygSPnb40/LERnFZ02k/AAAAIAGfk2pF/wApB1gAAxns\n",
              "OI1/28Kol2J0KAm4gAAAAwKnAAAAfkGbmEnhClJlMCE//fEAAAMAAJZvqJdIAFp7w8KFtKFWgp1T\n",
              "qtEh4xBXtsWxwmAYIluMGBZ6PioI5baEf80ut5yJZXVNoxkKGICIg9MKco4vdOuul7GkTVD/VK0m\n",
              "1Zc5nl+Ji9V7oaPdfJnoBV0Y+2tzov3n/p6fhfVXCAADuwAAAChBn7ZFNExvAB++oDgB8wA+mT/a\n",
              "S+l7x00r2tYLd6y4T1rUAAADAAuIAAAAHQGf1XRF/wAAAwAM5KYV48xTeCdyza1L6AAAAwGfAAAA\n",
              "IgGf12pF/wAAAwAM3Pe7Ei20GJavPu3T4troyL2JGAAAImEAAAB7QZvcSahBaJlMCE///fEAAAMA\n",
              "AJZOtbyFcM8Acsiq4tuhmfWQjoMgab3zqOwvnor+9/2trotu96drxCVXG0aAoHrqixuPByPd6ORq\n",
              "m2ZiuahzaOn3zc96g9bfdimzKaGuoPWxs3QYuvLhtN86lejYDRdfnPo8XY2gAA/wAAAAI0Gf+kUR\n",
              "LG8AH76gOAHw2+FkaWkZX5oASEs8/oTWwaeAAM+AAAAAHAGeGXRF/wAAAwAM2sdYc7DmvuSr8rw9\n",
              "UcAAFfEAAAAdAZ4bakX/AAADAAzdXk8oInJBGnyg4PNy9AAAMWAAAACgQZoASahBbJlMCE///fEA\n",
              "AAMAAJbpetU4AXuw4gJesBwxG4uSuadXIEhE8x8isBW1mO3ZeUayxineah0PlIn/rR606Zzt4MXs\n",
              "BjuB+TzAIMC2FhcuCIdKKD/qn0eDlKcndPjnN/7DP74Lyq83DBZ8LUigHBoXXwLpcmOwigByR/3l\n",
              "hpmYjE5HeeiIptjVa0Osp1msA9YBEUOfoDzsunnsYQAAACtBnj5FFSxvAB++oDgB821lBtmqm3la\n",
              "GHYckkpeZFOpoHKeeGAAABuQgBvRAAAAIAGeXXRF/wAAAwAM252NdTFEJ6LSw+duhb8QnpgAAB3Q\n",
              "AAAAHAGeX2pF/wAAAwAMk7Fr615h8fjxuocAAbo/VsEAAABkQZpESahBbJlMCE///fEAAAMAAJLH\n",
              "ncHkjefLnpgAi+TVAYROcpLiJ2kjkbzWhSdbYXLbUFa+jNFUCe/2kCwmwHnaXZcguaqRl3b4raRP\n",
              "R48uWBePvGx/BEI1dCkMjNG7b6ZusAAAACxBnmJFFSxvAB++oDgB6BljHlb8g1tDodnZkQAhQRtQ\n",
              "pbchcriJgAADitBnwQAAABwBnoF0Rf8AAAMADIfK4GZaRPJUjjkQAFPSoLbhAAAAHAGeg2pF/wAA\n",
              "AwAMjMThJ5YA2Fcy3fkNh4AAO6AAAABdQZqGSahBbJlMFEwn//3xAAADAACSooiFjvABxXDlacpT\n",
              "VymbeuN0sbq28l3TkaScfWDj8Iz/BPQ/a5TWGLV1cf4ZUivS70Nzf0WLNvAlmhKM5TaZ9PmwAOa9\n",
              "EnNIAAAAHQGepWpF/wApB1gAAwW5/5+eL7ywpaPP4WjAAArZAAAAXEGaqknhClJlMCEf/eEAAAMA\n",
              "AOgDBNcRKADii2qOJKsoCmJjTfrXX7KAI5snY32E7MgL95o5C0D3Nv+5aND0MQyPRez2BzYxDHkd\n",
              "L+gjs0z+/8OUjHyf8ZmIAAKCAAAAKEGeyEU0TG8AH76gOAHl3gVyhhdFTC/T8aEfdytRmbGskysk\n",
              "aAAACLkAAAAaAZ7ndEX/AAADAAxE7mKBWa2DiLMdlYAAQcAAAAAbAZ7pakX/AAADAAw8xRVi5Mlo\n",
              "U8iFZ5IgAAHdAAAAYUGa7kmoQWiZTAj//IQAAAMAA4oK3ht3l4+gAcWDKtV4FSteKQMInTNgr1Qm\n",
              "d0h/MHuC2XXZNxi8xv118PZrQz4zjG8UtTES522UMsW3aC1Ui+7IRScN+L3Sk4TAAQAAScEAAAAu\n",
              "QZ8MRREsbwAfvqA4AefM3CUMdzsGGdYaVe/L3tDN63gAcTEnXfHgiWgAAAMDAwAAABsBnyt0Rf8A\n",
              "AAMADIfQNj/SVjPiCKpEgsAADZkAAAAmAZ8takX/AAADAAw8xSdg26TpytfrGjvM1T9Ol0QAcylo\n",
              "AAADAxYAAAA7QZsxSahBbJlMCL/6WAAAAwAGxx6miMh71qo+AA7Ly3VKe1BNytYnobV7a0Vb74t7\n",
              "/YE1sJbcqgAAJWAAAAAuQZ9PRRUsXwAo6sjIA+XpQC3/U8DrGACUo+j+jFqvUEBiKbdmxhiVTqJc\n",
              "AABWwQAAACEBn3BqRf8AAAMADDz3Ycu/wj05E/RR9q1LCu9eaogAAk4AABCnbW9vdgAAAGxtdmhk\n",
              "AAAAAAAAAAAAAAAAAAAD6AAAASwAAQAAAQAAAAAAAAAAAAAAAAEAAAAAAAAAAAAAAAAAAAABAAAA\n",
              "AAAAAAAAAAAAAABAAAAAAAAAAAAAAAAAAAAAAAAAAAAAAAAAAAAAAAAAAgAAD9F0cmFrAAAAXHRr\n",
              "aGQAAAADAAAAAAAAAAAAAAABAAAAAAAAASwAAAAAAAAAAAAAAAAAAAAAAAEAAAAAAAAAAAAAAAAA\n",
              "AAABAAAAAAAAAAAAAAAAAABAAAAAAlgAAAJYAAAAAAAkZWR0cwAAABxlbHN0AAAAAAAAAAEAAAEs\n",
              "AAAAIAABAAAAAA9JbWRpYQAAACBtZGhkAAAAAAAAAAAAAAAAAAA+gAAAEsBVxAAAAAAALWhkbHIA\n",
              "AAAAAAAAAHZpZGUAAAAAAAAAAAAAAABWaWRlb0hhbmRsZXIAAAAO9G1pbmYAAAAUdm1oZAAAAAEA\n",
              "AAAAAAAAAAAAACRkaW5mAAAAHGRyZWYAAAAAAAAAAQAAAAx1cmwgAAAAAQAADrRzdGJsAAAAuHN0\n",
              "c2QAAAAAAAAAAQAAAKhhdmMxAAAAAAAAAAEAAAAAAAAAAAAAAAAAAAAAAlgCWABIAAAASAAAAAAA\n",
              "AAABAAAAAAAAAAAAAAAAAAAAAAAAAAAAAAAAAAAAAAAAAAAAGP//AAAANmF2Y0MBZAA0/+EAGWdk\n",
              "ADSs2UCYE3llhAAAAwAEAAAfQDxgxlgBAAZo6+PLIsD9+PgAAAAAHHV1aWRraEDyXyRPxbo5pRvP\n",
              "AyPzAAAAAAAAABhzdHRzAAAAAAAAAAEAAAEsAAAAEAAAABhzdHNzAAAAAAAAAAIAAAABAAAA+wAA\n",
              "CNBjdHRzAAAAAAAAARgAAAABAAAAIAAAAAEAAABQAAAAAQAAACAAAAABAAAAAAAAAAEAAAAQAAAA\n",
              "AQAAAFAAAAABAAAAIAAAAAEAAAAAAAAAAQAAABAAAAABAAAAUAAAAAEAAAAgAAAAAQAAAAAAAAAB\n",
              "AAAAEAAAAAEAAABQAAAAAQAAACAAAAABAAAAAAAAAAEAAAAQAAAAAQAAAEAAAAACAAAAEAAAAAEA\n",
              "AABAAAAAAgAAABAAAAABAAAAUAAAAAEAAAAgAAAAAQAAAAAAAAABAAAAEAAAAAEAAABQAAAAAQAA\n",
              "ACAAAAABAAAAAAAAAAEAAAAQAAAAAQAAAFAAAAABAAAAIAAAAAEAAAAAAAAAAQAAABAAAAABAAAA\n",
              "MAAAAAEAAAAQAAAAAQAAAFAAAAABAAAAIAAAAAEAAAAAAAAAAQAAABAAAAABAAAAMAAAAAEAAAAQ\n",
              "AAAAAQAAAEAAAAACAAAAEAAAAAEAAAAwAAAAAQAAABAAAAABAAAAIAAAAAEAAAAwAAAAAQAAABAA\n",
              "AAABAAAAUAAAAAEAAAAgAAAAAQAAAAAAAAABAAAAEAAAAAEAAABAAAAAAgAAABAAAAABAAAAQAAA\n",
              "AAIAAAAQAAAAAQAAAEAAAAACAAAAEAAAAAEAAABQAAAAAQAAACAAAAABAAAAAAAAAAEAAAAQAAAA\n",
              "AQAAAFAAAAABAAAAIAAAAAEAAAAAAAAAAQAAABAAAAABAAAAUAAAAAEAAAAgAAAAAQAAAAAAAAAB\n",
              "AAAAEAAAAAEAAABQAAAAAQAAACAAAAABAAAAAAAAAAEAAAAQAAAAAQAAAEAAAAACAAAAEAAAAAEA\n",
              "AABQAAAAAQAAACAAAAABAAAAAAAAAAEAAAAQAAAAAQAAAFAAAAABAAAAIAAAAAEAAAAAAAAAAQAA\n",
              "ABAAAAABAAAAUAAAAAEAAAAgAAAAAQAAAAAAAAABAAAAEAAAAAEAAABQAAAAAQAAACAAAAABAAAA\n",
              "AAAAAAEAAAAQAAAAAQAAAFAAAAABAAAAIAAAAAEAAAAAAAAAAQAAABAAAAABAAAAUAAAAAEAAAAg\n",
              "AAAAAQAAAAAAAAABAAAAEAAAAAEAAABQAAAAAQAAACAAAAABAAAAAAAAAAEAAAAQAAAAAQAAAEAA\n",
              "AAACAAAAEAAAAAEAAABAAAAAAgAAABAAAAABAAAAUAAAAAEAAAAgAAAAAQAAAAAAAAABAAAAEAAA\n",
              "AAEAAAAwAAAAAQAAABAAAAABAAAAMAAAAAEAAAAQAAAAAQAAAFAAAAABAAAAIAAAAAEAAAAAAAAA\n",
              "AQAAABAAAAABAAAAQAAAAAIAAAAQAAAAAgAAACAAAAABAAAAMAAAAAEAAAAQAAAAAQAAAFAAAAAB\n",
              "AAAAIAAAAAEAAAAAAAAAAQAAABAAAAABAAAAUAAAAAEAAAAgAAAAAQAAAAAAAAABAAAAEAAAAAEA\n",
              "AABQAAAAAQAAACAAAAABAAAAAAAAAAEAAAAQAAAAAQAAAFAAAAABAAAAIAAAAAEAAAAAAAAAAQAA\n",
              "ABAAAAABAAAAUAAAAAEAAAAgAAAAAQAAAAAAAAABAAAAEAAAAAEAAABQAAAAAQAAACAAAAABAAAA\n",
              "AAAAAAEAAAAQAAAAAQAAAFAAAAABAAAAIAAAAAEAAAAAAAAAAQAAABAAAAABAAAAUAAAAAEAAAAg\n",
              "AAAAAQAAAAAAAAABAAAAEAAAAAEAAABQAAAAAQAAACAAAAABAAAAAAAAAAEAAAAQAAAAAQAAAFAA\n",
              "AAABAAAAIAAAAAEAAAAAAAAAAQAAABAAAAABAAAAQAAAAAIAAAAQAAAAAQAAAFAAAAABAAAAIAAA\n",
              "AAEAAAAAAAAAAQAAABAAAAABAAAAUAAAAAEAAAAgAAAAAQAAAAAAAAABAAAAEAAAAAEAAAAgAAAA\n",
              "AQAAADAAAAABAAAAEAAAAAMAAAAgAAAAAQAAAFAAAAABAAAAIAAAAAEAAAAAAAAAAQAAABAAAAAB\n",
              "AAAAUAAAAAEAAAAgAAAAAQAAAAAAAAABAAAAEAAAAAEAAABQAAAAAQAAACAAAAABAAAAAAAAAAEA\n",
              "AAAQAAAAAQAAADAAAAABAAAAEAAAAAEAAABQAAAAAQAAACAAAAABAAAAAAAAAAEAAAAQAAAAAQAA\n",
              "ADAAAAABAAAAEAAAAAIAAAAgAAAAAQAAAEAAAAACAAAAEAAAAAEAAABQAAAAAQAAACAAAAABAAAA\n",
              "AAAAAAEAAAAQAAAAAQAAACAAAAABAAAAMAAAAAEAAAAQAAAAAQAAAEAAAAACAAAAEAAAAAEAAABQ\n",
              "AAAAAQAAACAAAAABAAAAAAAAAAEAAAAQAAAAAgAAACAAAAABAAAAMAAAAAEAAAAQAAAAAQAAAFAA\n",
              "AAABAAAAIAAAAAEAAAAAAAAAAQAAABAAAAABAAAAUAAAAAEAAAAgAAAAAQAAAAAAAAABAAAAEAAA\n",
              "AAEAAABQAAAAAQAAACAAAAABAAAAAAAAAAEAAAAQAAAAAQAAADAAAAABAAAAEAAAAAEAAAAgAAAA\n",
              "AQAAAFAAAAABAAAAIAAAAAEAAAAAAAAAAQAAABAAAAABAAAAUAAAAAEAAAAgAAAAAQAAAAAAAAAB\n",
              "AAAAEAAAAAEAAAAwAAAAAQAAABAAAAABAAAAQAAAAAIAAAAQAAAAAQAAACAAAAABAAAAUAAAAAEA\n",
              "AAAgAAAAAQAAAAAAAAABAAAAEAAAAAEAAAAwAAAAAQAAABAAAAABAAAAUAAAAAEAAAAgAAAAAQAA\n",
              "AAAAAAABAAAAEAAAAAEAAABQAAAAAQAAACAAAAABAAAAAAAAAAEAAAAQAAAAAQAAAFAAAAABAAAA\n",
              "IAAAAAEAAAAAAAAAAQAAABAAAAABAAAAUAAAAAEAAAAgAAAAAQAAAAAAAAABAAAAEAAAAAEAAAAw\n",
              "AAAAAQAAABAAAAABAAAAUAAAAAEAAAAgAAAAAQAAAAAAAAABAAAAEAAAAAEAAABQAAAAAQAAACAA\n",
              "AAABAAAAAAAAAAEAAAAQAAAAAQAAAEAAAAACAAAAEAAAABxzdHNjAAAAAAAAAAEAAAABAAABLAAA\n",
              "AAEAAATEc3RzegAAAAAAAAAAAAABLAAADJ0AAABtAAAAXAAAACQAAAAmAAAAjAAAAFwAAAAlAAAA\n",
              "KwAAAI0AAABWAAAAJgAAACMAAAC1AAAAaQAAACoAAAAhAAAAaQAAAFIAAAAeAAAAXQAAAFEAAAAm\n",
              "AAAAggAAAFUAAAAgAAAAHQAAAHUAAABPAAAAHwAAACEAAACBAAAAXgAAACUAAAAfAAAAgQAAAEYA\n",
              "AACNAAAAUwAAAB8AAAAjAAAAUwAAAD0AAACAAAAATAAAACEAAAB6AAAAQgAAAH0AAABiAAAAVQAA\n",
              "ATMAAACSAAAAPQAAAGgAAAE6AAAAcwAAADQAAADoAAAAVwAAACcAAADZAAAAWAAAAC0AAADQAAAA\n",
              "XgAAAC4AAAAlAAAAlAAAAFUAAAAhAAAAKAAAAGoAAABaAAAAJgAAACIAAACMAAAAVQAAACQAAAAl\n",
              "AAAAfgAAAFIAAAAgAAAAdgAAAFcAAAAkAAAAIQAAAIYAAABaAAAAIwAAACUAAACJAAAAXwAAACMA\n",
              "AAAqAAAAgQAAAGMAAAApAAAAJQAAALUAAABXAAAAKAAAACQAAACAAAAATwAAACIAAAAeAAAAaAAA\n",
              "AFcAAAAgAAAAIgAAAIAAAABUAAAAIwAAAH4AAABMAAAAHQAAAHoAAABWAAAAHwAAACQAAABtAAAA\n",
              "QgAAAFsAAABdAAABXwAAAI4AAABcAAAATwAAALoAAABYAAAAJAAAAJEAAABdAAAAlgAAAFAAAACt\n",
              "AAAAYQAAADAAAAA1AAAA2AAAAFMAAAAoAAAAKAAAAHoAAABfAAAAIwAAACMAAACgAAAAXQAAACMA\n",
              "AAAhAAAAlAAAAE8AAAAkAAAAIgAAAH0AAABhAAAAIwAAACQAAACmAAAAZAAAAB8AAAAiAAAAnwAA\n",
              "AGIAAAAgAAAAMAAAAHQAAABVAAAAJQAAAB8AAABqAAAAXAAAACQAAAAkAAAAoQAAAEwAAAAnAAAA\n",
              "/QAAAIAAAABHAAAASwAAAS8AAAClAAAAVwAAAFcAAADYAAAA/QAAAF4AAABzAAAAYAAAAEsAAAC8\n",
              "AAAAZQAAAC4AAAAqAAAAowAAAFMAAAAeAAAAJQAAAJAAAABSAAAAHwAAACUAAAB0AAAAQgAAALMA\n",
              "AABbAAAAIAAAAB8AAABnAAAAOwAAAFYAAACIAAAAoAAAAFUAAAAnAAAAmgAAAE4AAAAjAAAAIAAA\n",
              "AJEAAAB9AAAARgAAAKEAAABPAAAAIQAAAMcAAABeAAAAIwAAACYAAABzAAAAkQAAANAAAABQAAAA\n",
              "ugAAAGMAAAAoAAAAKgAAAP4AAABgAAAANQAAADMAAAEiAAAAeAAAACoAAAAxAAAAfAAAAEsAABae\n",
              "AAABCAAAAEMAAABEAAAAPgAAASIAAABmAAAAQQAAAGkAAAEHAAAAUAAAAOUAAABCAAAAOgAAAE0A\n",
              "AACqAAAALAAAACYAAAAqAAAAagAAACQAAACCAAAALAAAACEAAAAmAAAAfwAAACcAAAAgAAAAIQAA\n",
              "AKQAAAAvAAAAJAAAACAAAABoAAAAMAAAACAAAAAgAAAAYQAAACEAAABgAAAALAAAAB4AAAAfAAAA\n",
              "ZQAAADIAAAAfAAAAKgAAAD8AAAAyAAAAJQAAABRzdGNvAAAAAAAAAAEAAAAwAAAAYnVkdGEAAABa\n",
              "bWV0YQAAAAAAAAAhaGRscgAAAAAAAAAAbWRpcmFwcGwAAAAAAAAAAAAAAAAtaWxzdAAAACWpdG9v\n",
              "AAAAHWRhdGEAAAABAAAAAExhdmY1OC43Ni4xMDA=\n",
              "\">\n",
              "  Your browser does not support the video tag.\n",
              "</video>"
            ]
          },
          "metadata": {},
          "execution_count": 50
        }
      ]
    },
    {
      "cell_type": "code",
      "source": [
        "#cd /content/drive/MyDrive/"
      ],
      "metadata": {
        "id": "4-12QnhhSLWE"
      },
      "execution_count": null,
      "outputs": []
    },
    {
      "cell_type": "code",
      "source": [
        "import numpy as np\n",
        "import torch\n",
        "import os\n",
        "from torch.utils.data import Dataset, random_split\n",
        "torch.manual_seed(41)\n",
        "torch.cuda.manual_seed(41)\n",
        "torch.cuda.manual_seed_all(41)\n",
        "\n",
        "path = '/content/drive/MyDrive/3bodyproblem/data'\n",
        "file_list = os.listdir(path)\n",
        "data_x_dir = [file for file in file_list if file.startswith('x')]\n",
        "data_y_dir = [file for file in file_list if file.startswith('y')]"
      ],
      "metadata": {
        "id": "mGl-cAGjJz2u"
      },
      "execution_count": null,
      "outputs": []
    },
    {
      "cell_type": "code",
      "source": [
        "data_y_dir = np.sort(data_y_dir)\n",
        "data_y_dir"
      ],
      "metadata": {
        "colab": {
          "base_uri": "https://localhost:8080/"
        },
        "id": "FRQYnX_rTXKJ",
        "outputId": "243f4991-72dd-4f43-b4db-6c317f579cea"
      },
      "execution_count": null,
      "outputs": [
        {
          "output_type": "execute_result",
          "data": {
            "text/plain": [
              "array(['y_0.npy', 'y_1.npy', 'y_10.npy', 'y_11.npy', 'y_12.npy',\n",
              "       'y_13.npy', 'y_2.npy', 'y_3.npy', 'y_4.npy', 'y_5.npy', 'y_6.npy',\n",
              "       'y_7.npy', 'y_8.npy', 'y_9.npy'], dtype='<U8')"
            ]
          },
          "metadata": {},
          "execution_count": 6
        }
      ]
    },
    {
      "cell_type": "code",
      "source": [
        "data_x_dir = np.sort(data_x_dir)\n",
        "data_x_dir"
      ],
      "metadata": {
        "colab": {
          "base_uri": "https://localhost:8080/"
        },
        "id": "Fbqly8T_TWoP",
        "outputId": "7ea6afd2-05a7-4407-fa0a-d080ed447340"
      },
      "execution_count": null,
      "outputs": [
        {
          "output_type": "execute_result",
          "data": {
            "text/plain": [
              "array(['x_0.npy', 'x_1.npy', 'x_10.npy', 'x_11.npy', 'x_12.npy',\n",
              "       'x_13.npy', 'x_2.npy', 'x_3.npy', 'x_4.npy', 'x_5.npy', 'x_6.npy',\n",
              "       'x_7.npy', 'x_8.npy', 'x_9.npy'], dtype='<U8')"
            ]
          },
          "metadata": {},
          "execution_count": 7
        }
      ]
    },
    {
      "cell_type": "code",
      "source": [
        "datax = np.load(path+'/'+data_x_dir[0]) #3,777\n",
        "datay = np.load(path+'/'+data_y_dir[0]) #3,777"
      ],
      "metadata": {
        "id": "G8j7yFtVL1op"
      },
      "execution_count": null,
      "outputs": []
    },
    {
      "cell_type": "code",
      "source": [
        "for dir in data_x_dir[1:]:\n",
        "    arr = np.load(path+'/'+dir)\n",
        "    datax = np.concatenate((datax, arr), axis = 1)\n",
        "for dir in data_y_dir[1:]:\n",
        "    arr = np.load(path+'/'+dir)\n",
        "    datay = np.concatenate((datay, arr), axis = 1)"
      ],
      "metadata": {
        "id": "1RbkzScHKfDI"
      },
      "execution_count": null,
      "outputs": []
    },
    {
      "cell_type": "code",
      "source": [
        "class MyBaseDataset(Dataset):\n",
        "    def __init__(self, x_data, y_data, targetx_data, targety_data):\n",
        "        self.x_data = torch.DoubleTensor(x_data)\n",
        "        self.y_data = torch.DoubleTensor(y_data)\n",
        "        self.targetx_data = torch.DoubleTensor(targetx_data)\n",
        "        self.targety_data = torch.DoubleTensor(targety_data)\n",
        "\n",
        "    def __getitem__(self, index):\n",
        "        return torch.stack([self.x_data[index], self.y_data[index]], dim=1), torch.stack([self.targetx_data[index], self.targety_data[index]], dim=1)\n",
        "\n",
        "    def __len__(self):\n",
        "        return len(self.x_data)"
      ],
      "metadata": {
        "id": "fwUNqDmz9Nhy"
      },
      "execution_count": null,
      "outputs": []
    },
    {
      "cell_type": "code",
      "source": [
        "x_data = []\n",
        "for i in range(datax.shape[1]-10):\n",
        "    x_data.append(datax[:, i:10+i])\n",
        "y_data = []\n",
        "for i in range(datay.shape[1]-10):\n",
        "    y_data.append(datay[:, i:10+i])\n",
        "targetx_data = []\n",
        "for i in range(datax.shape[1]-10):\n",
        "    targetx_data.append(datax[:, i+2:11+i])\n",
        "targety_data = []\n",
        "for i in range(datay.shape[1]-10):\n",
        "    targety_data.append(datay[:, i+2:11+i])"
      ],
      "metadata": {
        "id": "XnZnBKo99Xvf"
      },
      "execution_count": null,
      "outputs": []
    },
    {
      "cell_type": "code",
      "source": [
        "targetx_data[0]"
      ],
      "metadata": {
        "colab": {
          "base_uri": "https://localhost:8080/"
        },
        "id": "fYYRNQf_Ezyz",
        "outputId": "6dce7e61-307e-48fe-8a55-7e2fd4bbbec5"
      },
      "execution_count": null,
      "outputs": [
        {
          "output_type": "execute_result",
          "data": {
            "text/plain": [
              "array([[-0.98901286, -0.98509066, -0.98103501, -0.97684378, -0.97251483,\n",
              "        -0.96804604, -0.96343529, -0.9586805 , -0.95377958],\n",
              "       [ 1.00985825,  1.01290392,  1.01583272,  1.01864662,  1.02134757,\n",
              "         1.02393744,  1.02641811,  1.0287914 ,  1.0310591 ],\n",
              "       [-0.02084539, -0.02781325, -0.03479771, -0.04180285, -0.04883274,\n",
              "        -0.0558914 , -0.06298282, -0.0701109 , -0.07727951]])"
            ]
          },
          "metadata": {},
          "execution_count": 12
        }
      ]
    },
    {
      "cell_type": "code",
      "source": [
        "print(len(targetx_data))\n",
        "print(len(targety_data))"
      ],
      "metadata": {
        "colab": {
          "base_uri": "https://localhost:8080/"
        },
        "id": "dW0HgwSRTIy4",
        "outputId": "4a7b71aa-9c27-48c3-8d25-286b6dd0863c"
      },
      "execution_count": null,
      "outputs": [
        {
          "output_type": "stream",
          "name": "stdout",
          "text": [
            "26100\n",
            "26100\n"
          ]
        }
      ]
    },
    {
      "cell_type": "code",
      "source": [
        "dataset = MyBaseDataset(x_data, y_data, targetx_data, targety_data)\n",
        "dataset[0][0].shape\n",
        "len(dataset)"
      ],
      "metadata": {
        "id": "qJcScBtM_4Wg",
        "colab": {
          "base_uri": "https://localhost:8080/"
        },
        "outputId": "af445bc5-ead3-44ee-c37b-e5aae66b62f5"
      },
      "execution_count": null,
      "outputs": [
        {
          "output_type": "stream",
          "name": "stderr",
          "text": [
            "<ipython-input-10-78b984e4eca5>:3: UserWarning: Creating a tensor from a list of numpy.ndarrays is extremely slow. Please consider converting the list to a single numpy.ndarray with numpy.array() before converting to a tensor. (Triggered internally at ../torch/csrc/utils/tensor_new.cpp:261.)\n",
            "  self.x_data = torch.DoubleTensor(x_data)\n"
          ]
        },
        {
          "output_type": "execute_result",
          "data": {
            "text/plain": [
              "26100"
            ]
          },
          "metadata": {},
          "execution_count": 14
        }
      ]
    },
    {
      "cell_type": "code",
      "source": [
        "import matplotlib.pyplot as plt\n",
        "\n",
        "data = dataset[200][0].cpu().detach().numpy()\n",
        "\n",
        "fig = plt.figure(figsize=(6,6))\n",
        "ax = plt.axes(xlim=(-1.5,1.5), ylim=(-1.5,1.5))\n",
        "ax.plot(data[0, 0, :], data[0, 1, :], 'r-')\n",
        "ax.plot(data[1, 0, :], data[1, 1, :], 'g-')\n",
        "ax.plot(data[2, 0, :], data[2, 1, :], 'b-')"
      ],
      "metadata": {
        "colab": {
          "base_uri": "https://localhost:8080/",
          "height": 546
        },
        "id": "W2yLHxxh2_cN",
        "outputId": "125d97f3-3a6c-4bac-ac46-b19c29f84ea7"
      },
      "execution_count": null,
      "outputs": [
        {
          "output_type": "execute_result",
          "data": {
            "text/plain": [
              "[<matplotlib.lines.Line2D at 0x785652d7b880>]"
            ]
          },
          "metadata": {},
          "execution_count": 15
        },
        {
          "output_type": "display_data",
          "data": {
            "text/plain": [
              "<Figure size 600x600 with 1 Axes>"
            ],
            "image/png": "[encoded data removed]"
          },
          "metadata": {}
        }
      ]
    },
    {
      "cell_type": "code",
      "source": [
        "dataset_size = len(dataset)\n",
        "train_size = int(dataset_size * 0.8)\n",
        "validation_size = int(dataset_size * 0.1)\n",
        "test_size = int(dataset_size * 0.1)\n",
        "train_dataset, validation_dataset, test_dataset = random_split(dataset, [train_size, validation_size, test_size])\n"
      ],
      "metadata": {
        "id": "frGSaSMy_nqf"
      },
      "execution_count": null,
      "outputs": []
    },
    {
      "cell_type": "code",
      "source": [
        "from torch.utils.data import DataLoader\n",
        "\n",
        "train_dataloader = DataLoader(train_dataset, batch_size=1, shuffle=True, drop_last=True)\n",
        "validation_dataloader = DataLoader(validation_dataset, batch_size=1, shuffle=True, drop_last=True)\n",
        "test_dataloader = DataLoader(test_dataset, batch_size=1, shuffle=True, drop_last=True)"
      ],
      "metadata": {
        "id": "xhB-hMyiEWiE"
      },
      "execution_count": null,
      "outputs": []
    },
    {
      "cell_type": "code",
      "source": [
        "pip install torch_geometric"
      ],
      "metadata": {
        "id": "G3HrDRzeFuc6"
      },
      "execution_count": null,
      "outputs": []
    },
    {
      "cell_type": "code",
      "execution_count": null,
      "metadata": {
        "id": "NrOPGRN5Zl1Y"
      },
      "outputs": [],
      "source": [
        "import torch\n",
        "from torch_geometric.data import Data\n",
        "from torch_geometric.loader import DataLoader\n",
        "from torch_geometric.nn import MessagePassing\n",
        "import torch.nn as nn\n",
        "import torch.nn.functional as F\n",
        "\n",
        "edge_index = torch.tensor([[0, 1, 1, 2, 2, 0],\n",
        "                           [1, 0, 2, 1, 0, 2]], dtype=torch.long)"
      ]
    },
    {
      "cell_type": "code",
      "source": [
        "class p3bp(MessagePassing):\n",
        "    def __init__(self):\n",
        "        super(p3bp, self).__init__(aggr='add')\n",
        "        self.hidim = 64\n",
        "        self.activation = nn.Tanh()\n",
        "        self.emb = nn.Sequential(nn.Linear(4, self.hidim),\n",
        "                       self.activation,\n",
        "                       nn.Linear(self.hidim, self.hidim))\n",
        "        self.unemb = nn.Sequential(nn.Linear(self.hidim, self.hidim),\n",
        "                       self.activation,\n",
        "                       nn.Linear(self.hidim, 2))\n",
        "        self.gru_cell = nn.GRUCell(input_size=self.hidim, hidden_size=self.hidim)\n",
        "        self.mmlp = nn.Sequential(nn.Linear(self.hidim, self.hidim),\n",
        "                       self.activation,\n",
        "                       nn.Linear(self.hidim, self.hidim))\n",
        "        self.mlp = nn.Sequential(nn.Linear(2*self.hidim, 2*self.hidim),\n",
        "                       self.activation,\n",
        "                       nn.Linear(2*self.hidim, 2*self.hidim),\n",
        "                       self.activation,\n",
        "                       nn.Linear(2*self.hidim, self.hidim))\n",
        "\n",
        "    def forward(self, inputs, edge_index):\n",
        "        inputs = inputs.double() #torch.Size([1, 3, 2, 10]) #torch.float64\n",
        "        pred_all = []\n",
        "\n",
        "        for step in range(9):\n",
        "            ins = inputs[:, :, :, step:2+step]\n",
        "            ins1 = ins[:,:,0].reshape(3, 2)\n",
        "            ins2 = ins[:,:,1].reshape(3, 2)\n",
        "            vel = (ins2-ins1).reshape(3, 2)\n",
        "            vec = torch.cat((ins2, vel), 1) #torch.Size([3, 4])\n",
        "            hidden = self.emb(vec) #torch.Size([3, 32])\n",
        "            for k in range(1):\n",
        "                hidden = hidden + self.propagate(edge_index, x=hidden, hidden=hidden)\n",
        "            pred = self.unemb(hidden)#torch.Size([3, 2])\n",
        "            pred_all.append(pred)\n",
        "\n",
        "        preds = torch.stack(pred_all, dim=2) #torch.Size([3, 2, 9])\n",
        "        return preds\n",
        "\n",
        "    def generate(self, input, n):\n",
        "        input = input.double()\n",
        "        pred_all = []\n",
        "        ins = input\n",
        "        ins1 = ins[:,:,0].reshape(3, 2)\n",
        "        ins2 = ins[:,:,1].reshape(3, 2)\n",
        "        vel = (ins2-ins1).reshape(3, 2)\n",
        "        vec = torch.cat((ins2, vel), 1) #torch.Size([3, 4])\n",
        "        hidden = self.emb(vec) #torch.Size([3, 32])\n",
        "        pred = ins2\n",
        "        for step in range(n):\n",
        "            for k in range(2):\n",
        "                hidden = hidden + self.propagate(edge_index, x=hidden, hidden=hidden)\n",
        "            pred = self.unemb(hidden)#torch.Size([3, 2])\n",
        "            pred_all.append(pred)\n",
        "\n",
        "        preds = torch.stack(pred_all, dim=2)\n",
        "        return preds\n",
        "\n",
        "    def message(self, x_i, x_j):\n",
        "        #x_i = self.mmlp(x_i)\n",
        "        #x_j = self.mmlp(x_j)\n",
        "        tmp = torch.cat([x_i, x_j], dim=1)\n",
        "        tmp = self.mlp(tmp)\n",
        "        return tmp\n",
        "\n",
        "    def update(self, aggr_msg, hidden):\n",
        "        aggr_msg = aggr_msg.reshape(-1, self.hidim)\n",
        "        #aggr_msg = self.gru_cell(aggr_msg, hidden.reshape(-1, self.hidim)) #torch.Size([3, 32])\n",
        "        hidden = aggr_msg.reshape(-1, self.hidim)\n",
        "        return hidden\n"
      ],
      "metadata": {
        "id": "nrC4OMwxbE_7"
      },
      "execution_count": null,
      "outputs": []
    },
    {
      "cell_type": "code",
      "source": [
        "device = \"cuda\" if torch.cuda.is_available() else \"cpu\"\n",
        "model = p3bp().to(device).double()\n",
        "#model.load_state_dict(torch.load('/content/drive/MyDrive/3bodyproblem/'+ 'model.pt'))\n",
        "edge_index = edge_index.to(device)"
      ],
      "metadata": {
        "id": "zpfHHWJyF-QZ"
      },
      "execution_count": null,
      "outputs": []
    },
    {
      "cell_type": "code",
      "source": [
        "from torch.optim import lr_scheduler\n",
        "\n",
        "optimizer = torch.optim.Adam(list(model.parameters()), lr=0.001)\n",
        "scheduler = lr_scheduler.StepLR(optimizer, step_size=10, gamma=0.5)\n",
        "loss_func = nn.MSELoss()"
      ],
      "metadata": {
        "id": "NxelxNlZ2r6f"
      },
      "execution_count": null,
      "outputs": []
    },
    {
      "cell_type": "code",
      "source": [
        "from tqdm import tqdm\n",
        "import time\n",
        "\n",
        "model.train()\n",
        "best_val_loss = np.inf\n",
        "for epoch in range(10):\n",
        "    loss_train = []\n",
        "    t = time.time()\n",
        "    t1 = time.time()\n",
        "    for iter, (x, y) in tqdm(enumerate(train_dataloader)):\n",
        "        x = x.to(device)\n",
        "        y = y.to(device)\n",
        "\n",
        "        out = model(x, edge_index)\n",
        "\n",
        "        loss = loss_func(out, y.squeeze())\n",
        "\n",
        "        optimizer.zero_grad()\n",
        "\n",
        "        loss.backward(retain_graph=True)\n",
        "        optimizer.step()\n",
        "\n",
        "        loss_train.append(loss.item())\n",
        "\n",
        "        scheduler.step()\n",
        "\n",
        "        if (iter%1000==0):\n",
        "            print('Epoch: {:04d}'.format(epoch),\n",
        "                  'miniepoch: {:04d}'.format(iter//1000),\n",
        "                'train_loss: {:.10f}'.format(np.mean(loss_train)),\n",
        "                'time: {:.4f}s'.format(time.time() - t))\n",
        "\n",
        "    model.eval()\n",
        "    loss_valid = []\n",
        "    for iter, (x, y) in tqdm(enumerate(validation_dataloader)):\n",
        "        x = x.to(device)\n",
        "        y = y.to(device)\n",
        "\n",
        "        out = model(x, edge_index)\n",
        "\n",
        "        loss = loss_func(out, y.squeeze())\n",
        "        loss_valid.append(loss.item())\n",
        "\n",
        "        optimizer.zero_grad()\n",
        "\n",
        "    print('Epoch: {:04d}'.format(epoch),\n",
        "            'train_loss: {:.10f}'.format(np.mean(loss_train)),\n",
        "            'val_loss: {:.10f}'.format(np.mean(loss_valid)),\n",
        "            'time: {:.4f}s'.format(time.time() - t))\n",
        "    torch.save(model.state_dict(), '/content/drive/MyDrive/3bodyproblem/'+str(epoch)+ 'model.pt')\n"
      ],
      "metadata": {
        "colab": {
          "base_uri": "https://localhost:8080/"
        },
        "id": "WjkjdYauG9vm",
        "outputId": "afa8fbe4-81ba-42c6-ac7d-fbe823ca39ff"
      },
      "execution_count": null,
      "outputs": [
        {
          "output_type": "stream",
          "name": "stderr",
          "text": [
            "4it [00:00, 31.05it/s]"
          ]
        },
        {
          "output_type": "stream",
          "name": "stdout",
          "text": [
            "Epoch: 0000 miniepoch: 0000 train_loss: 0.3812715354 time: 0.0454s\n"
          ]
        },
        {
          "output_type": "stream",
          "name": "stderr",
          "text": [
            "1010it [00:18, 49.78it/s]"
          ]
        },
        {
          "output_type": "stream",
          "name": "stdout",
          "text": [
            "Epoch: 0000 miniepoch: 0001 train_loss: 0.0058686272 time: 18.0679s\n"
          ]
        },
        {
          "output_type": "stream",
          "name": "stderr",
          "text": [
            "2008it [00:35, 48.80it/s]"
          ]
        },
        {
          "output_type": "stream",
          "name": "stdout",
          "text": [
            "Epoch: 0000 miniepoch: 0002 train_loss: 0.0047786867 time: 35.6787s\n"
          ]
        },
        {
          "output_type": "stream",
          "name": "stderr",
          "text": [
            "3005it [00:53, 43.55it/s]"
          ]
        },
        {
          "output_type": "stream",
          "name": "stdout",
          "text": [
            "Epoch: 0000 miniepoch: 0003 train_loss: 0.0043784834 time: 53.1905s\n"
          ]
        },
        {
          "output_type": "stream",
          "name": "stderr",
          "text": [
            "4012it [01:10, 62.63it/s]"
          ]
        },
        {
          "output_type": "stream",
          "name": "stdout",
          "text": [
            "Epoch: 0000 miniepoch: 0004 train_loss: 0.0042176421 time: 70.6429s\n"
          ]
        },
        {
          "output_type": "stream",
          "name": "stderr",
          "text": [
            "5014it [01:28, 66.09it/s]"
          ]
        },
        {
          "output_type": "stream",
          "name": "stdout",
          "text": [
            "Epoch: 0000 miniepoch: 0005 train_loss: 0.0041419497 time: 87.9111s\n"
          ]
        },
        {
          "output_type": "stream",
          "name": "stderr",
          "text": [
            "6012it [01:45, 65.45it/s]"
          ]
        },
        {
          "output_type": "stream",
          "name": "stdout",
          "text": [
            "Epoch: 0000 miniepoch: 0006 train_loss: 0.0040641535 time: 105.0978s\n"
          ]
        },
        {
          "output_type": "stream",
          "name": "stderr",
          "text": [
            "7006it [02:03, 47.98it/s]"
          ]
        },
        {
          "output_type": "stream",
          "name": "stdout",
          "text": [
            "Epoch: 0000 miniepoch: 0007 train_loss: 0.0040049122 time: 123.6307s\n"
          ]
        },
        {
          "output_type": "stream",
          "name": "stderr",
          "text": [
            "8014it [02:21, 65.40it/s]"
          ]
        },
        {
          "output_type": "stream",
          "name": "stdout",
          "text": [
            "Epoch: 0000 miniepoch: 0008 train_loss: 0.0039662314 time: 141.2819s\n"
          ]
        },
        {
          "output_type": "stream",
          "name": "stderr",
          "text": [
            "9011it [02:38, 65.28it/s]"
          ]
        },
        {
          "output_type": "stream",
          "name": "stdout",
          "text": [
            "Epoch: 0000 miniepoch: 0009 train_loss: 0.0039324003 time: 158.4976s\n"
          ]
        },
        {
          "output_type": "stream",
          "name": "stderr",
          "text": [
            "10008it [02:55, 63.34it/s]"
          ]
        },
        {
          "output_type": "stream",
          "name": "stdout",
          "text": [
            "Epoch: 0000 miniepoch: 0010 train_loss: 0.0039235129 time: 175.6550s\n"
          ]
        },
        {
          "output_type": "stream",
          "name": "stderr",
          "text": [
            "11006it [03:13, 48.75it/s]"
          ]
        },
        {
          "output_type": "stream",
          "name": "stdout",
          "text": [
            "Epoch: 0000 miniepoch: 0011 train_loss: 0.0038616164 time: 193.1434s\n"
          ]
        },
        {
          "output_type": "stream",
          "name": "stderr",
          "text": [
            "12006it [03:31, 46.46it/s]"
          ]
        },
        {
          "output_type": "stream",
          "name": "stdout",
          "text": [
            "Epoch: 0000 miniepoch: 0012 train_loss: 0.0038320200 time: 211.0442s\n"
          ]
        },
        {
          "output_type": "stream",
          "name": "stderr",
          "text": [
            "13009it [03:48, 46.58it/s]"
          ]
        },
        {
          "output_type": "stream",
          "name": "stdout",
          "text": [
            "Epoch: 0000 miniepoch: 0013 train_loss: 0.0038227574 time: 228.6124s\n"
          ]
        },
        {
          "output_type": "stream",
          "name": "stderr",
          "text": [
            "14010it [04:06, 41.90it/s]"
          ]
        },
        {
          "output_type": "stream",
          "name": "stdout",
          "text": [
            "Epoch: 0000 miniepoch: 0014 train_loss: 0.0037996412 time: 246.5676s\n"
          ]
        },
        {
          "output_type": "stream",
          "name": "stderr",
          "text": [
            "15012it [04:25, 63.39it/s]"
          ]
        },
        {
          "output_type": "stream",
          "name": "stdout",
          "text": [
            "Epoch: 0000 miniepoch: 0015 train_loss: 0.0037964203 time: 265.3727s\n"
          ]
        },
        {
          "output_type": "stream",
          "name": "stderr",
          "text": [
            "16014it [04:42, 65.30it/s]"
          ]
        },
        {
          "output_type": "stream",
          "name": "stdout",
          "text": [
            "Epoch: 0000 miniepoch: 0016 train_loss: 0.0037618646 time: 282.6442s\n"
          ]
        },
        {
          "output_type": "stream",
          "name": "stderr",
          "text": [
            "17012it [04:59, 64.68it/s]"
          ]
        },
        {
          "output_type": "stream",
          "name": "stdout",
          "text": [
            "Epoch: 0000 miniepoch: 0017 train_loss: 0.0037356634 time: 299.8073s\n"
          ]
        },
        {
          "output_type": "stream",
          "name": "stderr",
          "text": [
            "18010it [05:17, 63.88it/s]"
          ]
        },
        {
          "output_type": "stream",
          "name": "stdout",
          "text": [
            "Epoch: 0000 miniepoch: 0018 train_loss: 0.0037224477 time: 317.0449s\n"
          ]
        },
        {
          "output_type": "stream",
          "name": "stderr",
          "text": [
            "19013it [05:34, 64.19it/s]"
          ]
        },
        {
          "output_type": "stream",
          "name": "stdout",
          "text": [
            "Epoch: 0000 miniepoch: 0019 train_loss: 0.0037091864 time: 334.2244s\n"
          ]
        },
        {
          "output_type": "stream",
          "name": "stderr",
          "text": [
            "20010it [05:51, 66.21it/s]"
          ]
        },
        {
          "output_type": "stream",
          "name": "stdout",
          "text": [
            "Epoch: 0000 miniepoch: 0020 train_loss: 0.0037021485 time: 351.2976s\n"
          ]
        },
        {
          "output_type": "stream",
          "name": "stderr",
          "text": [
            "20880it [06:06, 56.97it/s]\n",
            "2610it [00:23, 108.80it/s]\n"
          ]
        },
        {
          "output_type": "stream",
          "name": "stdout",
          "text": [
            "Epoch: 0000 train_loss: 0.0036960212 val_loss: 0.0033857871 time: 390.5052s\n"
          ]
        },
        {
          "output_type": "stream",
          "name": "stderr",
          "text": [
            "6it [00:00, 57.26it/s]"
          ]
        },
        {
          "output_type": "stream",
          "name": "stdout",
          "text": [
            "Epoch: 0001 miniepoch: 0000 train_loss: 0.0011143843 time: 0.0269s\n"
          ]
        },
        {
          "output_type": "stream",
          "name": "stderr",
          "text": [
            "1014it [00:17, 64.14it/s]"
          ]
        },
        {
          "output_type": "stream",
          "name": "stdout",
          "text": [
            "Epoch: 0001 miniepoch: 0001 train_loss: 0.0032794228 time: 17.2230s\n"
          ]
        },
        {
          "output_type": "stream",
          "name": "stderr",
          "text": [
            "2011it [00:34, 64.54it/s]"
          ]
        },
        {
          "output_type": "stream",
          "name": "stdout",
          "text": [
            "Epoch: 0001 miniepoch: 0002 train_loss: 0.0034168507 time: 34.5663s\n"
          ]
        },
        {
          "output_type": "stream",
          "name": "stderr",
          "text": [
            "3011it [00:51, 63.09it/s]"
          ]
        },
        {
          "output_type": "stream",
          "name": "stdout",
          "text": [
            "Epoch: 0001 miniepoch: 0003 train_loss: 0.0036773710 time: 51.7533s\n"
          ]
        },
        {
          "output_type": "stream",
          "name": "stderr",
          "text": [
            "4009it [01:09, 65.71it/s]"
          ]
        },
        {
          "output_type": "stream",
          "name": "stdout",
          "text": [
            "Epoch: 0001 miniepoch: 0004 train_loss: 0.0036319011 time: 68.9130s\n"
          ]
        },
        {
          "output_type": "stream",
          "name": "stderr",
          "text": [
            "5011it [01:27, 64.69it/s]"
          ]
        },
        {
          "output_type": "stream",
          "name": "stdout",
          "text": [
            "Epoch: 0001 miniepoch: 0005 train_loss: 0.0036092173 time: 87.7048s\n"
          ]
        },
        {
          "output_type": "stream",
          "name": "stderr",
          "text": [
            "6009it [01:45, 64.04it/s]"
          ]
        },
        {
          "output_type": "stream",
          "name": "stdout",
          "text": [
            "Epoch: 0001 miniepoch: 0006 train_loss: 0.0035876434 time: 105.0489s\n"
          ]
        },
        {
          "output_type": "stream",
          "name": "stderr",
          "text": [
            "7007it [02:02, 45.16it/s]"
          ]
        },
        {
          "output_type": "stream",
          "name": "stdout",
          "text": [
            "Epoch: 0001 miniepoch: 0007 train_loss: 0.0036303168 time: 122.5826s\n"
          ]
        },
        {
          "output_type": "stream",
          "name": "stderr",
          "text": [
            "8006it [02:20, 45.93it/s]"
          ]
        },
        {
          "output_type": "stream",
          "name": "stdout",
          "text": [
            "Epoch: 0001 miniepoch: 0008 train_loss: 0.0036002482 time: 140.2877s\n"
          ]
        },
        {
          "output_type": "stream",
          "name": "stderr",
          "text": [
            "9008it [02:37, 48.27it/s]"
          ]
        },
        {
          "output_type": "stream",
          "name": "stdout",
          "text": [
            "Epoch: 0001 miniepoch: 0009 train_loss: 0.0035573975 time: 157.6981s\n"
          ]
        },
        {
          "output_type": "stream",
          "name": "stderr",
          "text": [
            "10007it [02:55, 40.61it/s]"
          ]
        },
        {
          "output_type": "stream",
          "name": "stdout",
          "text": [
            "Epoch: 0001 miniepoch: 0010 train_loss: 0.0035379305 time: 175.3995s\n"
          ]
        },
        {
          "output_type": "stream",
          "name": "stderr",
          "text": [
            "11013it [03:13, 61.72it/s]"
          ]
        },
        {
          "output_type": "stream",
          "name": "stdout",
          "text": [
            "Epoch: 0001 miniepoch: 0011 train_loss: 0.0035081390 time: 192.9202s\n"
          ]
        },
        {
          "output_type": "stream",
          "name": "stderr",
          "text": [
            "12011it [03:30, 62.40it/s]"
          ]
        },
        {
          "output_type": "stream",
          "name": "stdout",
          "text": [
            "Epoch: 0001 miniepoch: 0012 train_loss: 0.0035179123 time: 210.1937s\n"
          ]
        },
        {
          "output_type": "stream",
          "name": "stderr",
          "text": [
            "13010it [03:50, 64.80it/s]"
          ]
        },
        {
          "output_type": "stream",
          "name": "stdout",
          "text": [
            "Epoch: 0001 miniepoch: 0013 train_loss: 0.0035248464 time: 230.1650s\n"
          ]
        },
        {
          "output_type": "stream",
          "name": "stderr",
          "text": [
            "14009it [04:07, 64.60it/s]"
          ]
        },
        {
          "output_type": "stream",
          "name": "stdout",
          "text": [
            "Epoch: 0001 miniepoch: 0014 train_loss: 0.0035584482 time: 247.3237s\n"
          ]
        },
        {
          "output_type": "stream",
          "name": "stderr",
          "text": [
            "15014it [04:24, 64.85it/s]"
          ]
        },
        {
          "output_type": "stream",
          "name": "stdout",
          "text": [
            "Epoch: 0001 miniepoch: 0015 train_loss: 0.0035671450 time: 264.6082s\n"
          ]
        },
        {
          "output_type": "stream",
          "name": "stderr",
          "text": [
            "16012it [04:42, 64.49it/s]"
          ]
        },
        {
          "output_type": "stream",
          "name": "stdout",
          "text": [
            "Epoch: 0001 miniepoch: 0016 train_loss: 0.0035816114 time: 281.9437s\n"
          ]
        },
        {
          "output_type": "stream",
          "name": "stderr",
          "text": [
            "17012it [04:59, 65.76it/s]"
          ]
        },
        {
          "output_type": "stream",
          "name": "stdout",
          "text": [
            "Epoch: 0001 miniepoch: 0017 train_loss: 0.0035953005 time: 299.0902s\n"
          ]
        },
        {
          "output_type": "stream",
          "name": "stderr",
          "text": [
            "18011it [05:16, 63.85it/s]"
          ]
        },
        {
          "output_type": "stream",
          "name": "stdout",
          "text": [
            "Epoch: 0001 miniepoch: 0018 train_loss: 0.0035979063 time: 316.2085s\n"
          ]
        },
        {
          "output_type": "stream",
          "name": "stderr",
          "text": [
            "19009it [05:33, 49.00it/s]"
          ]
        },
        {
          "output_type": "stream",
          "name": "stdout",
          "text": [
            "Epoch: 0001 miniepoch: 0019 train_loss: 0.0035922517 time: 333.5088s\n"
          ]
        },
        {
          "output_type": "stream",
          "name": "stderr",
          "text": [
            "20009it [05:51, 45.44it/s]"
          ]
        },
        {
          "output_type": "stream",
          "name": "stdout",
          "text": [
            "Epoch: 0001 miniepoch: 0020 train_loss: 0.0035736937 time: 351.4269s\n"
          ]
        },
        {
          "output_type": "stream",
          "name": "stderr",
          "text": [
            "20880it [06:06, 56.95it/s]\n",
            "2610it [00:23, 110.51it/s]\n"
          ]
        },
        {
          "output_type": "stream",
          "name": "stdout",
          "text": [
            "Epoch: 0001 train_loss: 0.0035777841 val_loss: 0.0033857871 time: 390.2776s\n"
          ]
        },
        {
          "output_type": "stream",
          "name": "stderr",
          "text": [
            "7it [00:00, 63.86it/s]"
          ]
        },
        {
          "output_type": "stream",
          "name": "stdout",
          "text": [
            "Epoch: 0002 miniepoch: 0000 train_loss: 0.0029380131 time: 0.0238s\n"
          ]
        },
        {
          "output_type": "stream",
          "name": "stderr",
          "text": [
            "1009it [00:17, 65.43it/s]"
          ]
        },
        {
          "output_type": "stream",
          "name": "stdout",
          "text": [
            "Epoch: 0002 miniepoch: 0001 train_loss: 0.0034096684 time: 17.1547s\n"
          ]
        },
        {
          "output_type": "stream",
          "name": "stderr",
          "text": [
            "2010it [00:34, 58.58it/s]"
          ]
        },
        {
          "output_type": "stream",
          "name": "stdout",
          "text": [
            "Epoch: 0002 miniepoch: 0002 train_loss: 0.0034078018 time: 34.3116s\n"
          ]
        },
        {
          "output_type": "stream",
          "name": "stderr",
          "text": [
            "3008it [00:53, 63.29it/s]"
          ]
        },
        {
          "output_type": "stream",
          "name": "stdout",
          "text": [
            "Epoch: 0002 miniepoch: 0003 train_loss: 0.0034102605 time: 53.8403s\n"
          ]
        },
        {
          "output_type": "stream",
          "name": "stderr",
          "text": [
            "4013it [01:11, 65.78it/s]"
          ]
        },
        {
          "output_type": "stream",
          "name": "stdout",
          "text": [
            "Epoch: 0002 miniepoch: 0004 train_loss: 0.0034221745 time: 70.9915s\n"
          ]
        },
        {
          "output_type": "stream",
          "name": "stderr",
          "text": [
            "5008it [01:28, 60.18it/s]"
          ]
        },
        {
          "output_type": "stream",
          "name": "stdout",
          "text": [
            "Epoch: 0002 miniepoch: 0005 train_loss: 0.0034400409 time: 88.0455s\n"
          ]
        },
        {
          "output_type": "stream",
          "name": "stderr",
          "text": [
            "6013it [01:45, 63.55it/s]"
          ]
        },
        {
          "output_type": "stream",
          "name": "stdout",
          "text": [
            "Epoch: 0002 miniepoch: 0006 train_loss: 0.0035279157 time: 105.1835s\n"
          ]
        },
        {
          "output_type": "stream",
          "name": "stderr",
          "text": [
            "7010it [02:02, 47.68it/s]"
          ]
        },
        {
          "output_type": "stream",
          "name": "stdout",
          "text": [
            "Epoch: 0002 miniepoch: 0007 train_loss: 0.0035581123 time: 122.6497s\n"
          ]
        },
        {
          "output_type": "stream",
          "name": "stderr",
          "text": [
            "8009it [02:20, 46.12it/s]"
          ]
        },
        {
          "output_type": "stream",
          "name": "stdout",
          "text": [
            "Epoch: 0002 miniepoch: 0008 train_loss: 0.0035714039 time: 140.2237s\n"
          ]
        },
        {
          "output_type": "stream",
          "name": "stderr",
          "text": [
            "9008it [02:37, 47.81it/s]"
          ]
        },
        {
          "output_type": "stream",
          "name": "stdout",
          "text": [
            "Epoch: 0002 miniepoch: 0009 train_loss: 0.0035854436 time: 157.6509s\n"
          ]
        },
        {
          "output_type": "stream",
          "name": "stderr",
          "text": [
            "10007it [02:55, 46.41it/s]"
          ]
        },
        {
          "output_type": "stream",
          "name": "stdout",
          "text": [
            "Epoch: 0002 miniepoch: 0010 train_loss: 0.0036144921 time: 175.1641s\n"
          ]
        },
        {
          "output_type": "stream",
          "name": "stderr",
          "text": [
            "11010it [03:12, 61.24it/s]"
          ]
        },
        {
          "output_type": "stream",
          "name": "stdout",
          "text": [
            "Epoch: 0002 miniepoch: 0011 train_loss: 0.0036212684 time: 192.5536s\n"
          ]
        },
        {
          "output_type": "stream",
          "name": "stderr",
          "text": [
            "12010it [03:31, 65.36it/s]"
          ]
        },
        {
          "output_type": "stream",
          "name": "stdout",
          "text": [
            "Epoch: 0002 miniepoch: 0012 train_loss: 0.0035955964 time: 211.4719s\n"
          ]
        },
        {
          "output_type": "stream",
          "name": "stderr",
          "text": [
            "13012it [03:48, 63.55it/s]"
          ]
        },
        {
          "output_type": "stream",
          "name": "stdout",
          "text": [
            "Epoch: 0002 miniepoch: 0013 train_loss: 0.0036102237 time: 228.6534s\n"
          ]
        },
        {
          "output_type": "stream",
          "name": "stderr",
          "text": [
            "14008it [04:05, 65.02it/s]"
          ]
        },
        {
          "output_type": "stream",
          "name": "stdout",
          "text": [
            "Epoch: 0002 miniepoch: 0014 train_loss: 0.0036087573 time: 245.6516s\n"
          ]
        },
        {
          "output_type": "stream",
          "name": "stderr",
          "text": [
            "15014it [04:23, 65.34it/s]"
          ]
        },
        {
          "output_type": "stream",
          "name": "stdout",
          "text": [
            "Epoch: 0002 miniepoch: 0015 train_loss: 0.0036008757 time: 262.8979s\n"
          ]
        },
        {
          "output_type": "stream",
          "name": "stderr",
          "text": [
            "16014it [04:40, 63.16it/s]"
          ]
        },
        {
          "output_type": "stream",
          "name": "stdout",
          "text": [
            "Epoch: 0002 miniepoch: 0016 train_loss: 0.0035671908 time: 280.0072s\n"
          ]
        },
        {
          "output_type": "stream",
          "name": "stderr",
          "text": [
            "17012it [04:57, 65.22it/s]"
          ]
        },
        {
          "output_type": "stream",
          "name": "stdout",
          "text": [
            "Epoch: 0002 miniepoch: 0017 train_loss: 0.0035803134 time: 297.0749s\n"
          ]
        },
        {
          "output_type": "stream",
          "name": "stderr",
          "text": [
            "18006it [05:14, 48.42it/s]"
          ]
        },
        {
          "output_type": "stream",
          "name": "stdout",
          "text": [
            "Epoch: 0002 miniepoch: 0018 train_loss: 0.0035762319 time: 314.3028s\n"
          ]
        },
        {
          "output_type": "stream",
          "name": "stderr",
          "text": [
            "19008it [05:32, 46.47it/s]"
          ]
        },
        {
          "output_type": "stream",
          "name": "stdout",
          "text": [
            "Epoch: 0002 miniepoch: 0019 train_loss: 0.0035821117 time: 331.9175s\n"
          ]
        },
        {
          "output_type": "stream",
          "name": "stderr",
          "text": [
            "20008it [05:49, 47.30it/s]"
          ]
        },
        {
          "output_type": "stream",
          "name": "stdout",
          "text": [
            "Epoch: 0002 miniepoch: 0020 train_loss: 0.0035830194 time: 349.4029s\n"
          ]
        },
        {
          "output_type": "stream",
          "name": "stderr",
          "text": [
            "20880it [06:04, 57.30it/s]\n",
            "2610it [00:23, 111.85it/s]\n"
          ]
        },
        {
          "output_type": "stream",
          "name": "stdout",
          "text": [
            "Epoch: 0002 train_loss: 0.0035777841 val_loss: 0.0033857871 time: 387.7589s\n"
          ]
        },
        {
          "output_type": "stream",
          "name": "stderr",
          "text": [
            "6it [00:00, 58.75it/s]"
          ]
        },
        {
          "output_type": "stream",
          "name": "stdout",
          "text": [
            "Epoch: 0003 miniepoch: 0000 train_loss: 0.0053595862 time: 0.0265s\n"
          ]
        },
        {
          "output_type": "stream",
          "name": "stderr",
          "text": [
            "1006it [00:18, 40.55it/s]"
          ]
        },
        {
          "output_type": "stream",
          "name": "stdout",
          "text": [
            "Epoch: 0003 miniepoch: 0001 train_loss: 0.0038654265 time: 18.7488s\n"
          ]
        },
        {
          "output_type": "stream",
          "name": "stderr",
          "text": [
            "2010it [00:36, 65.48it/s]"
          ]
        },
        {
          "output_type": "stream",
          "name": "stdout",
          "text": [
            "Epoch: 0003 miniepoch: 0002 train_loss: 0.0035312900 time: 35.9940s\n"
          ]
        },
        {
          "output_type": "stream",
          "name": "stderr",
          "text": [
            "3014it [00:53, 65.42it/s]"
          ]
        },
        {
          "output_type": "stream",
          "name": "stdout",
          "text": [
            "Epoch: 0003 miniepoch: 0003 train_loss: 0.0035500928 time: 53.2267s\n"
          ]
        },
        {
          "output_type": "stream",
          "name": "stderr",
          "text": [
            "4008it [01:10, 48.31it/s]"
          ]
        },
        {
          "output_type": "stream",
          "name": "stdout",
          "text": [
            "Epoch: 0003 miniepoch: 0004 train_loss: 0.0035454550 time: 70.7466s\n"
          ]
        },
        {
          "output_type": "stream",
          "name": "stderr",
          "text": [
            "5009it [01:28, 48.26it/s]"
          ]
        },
        {
          "output_type": "stream",
          "name": "stdout",
          "text": [
            "Epoch: 0003 miniepoch: 0005 train_loss: 0.0035727784 time: 88.2014s\n"
          ]
        },
        {
          "output_type": "stream",
          "name": "stderr",
          "text": [
            "6010it [01:45, 47.29it/s]"
          ]
        },
        {
          "output_type": "stream",
          "name": "stdout",
          "text": [
            "Epoch: 0003 miniepoch: 0006 train_loss: 0.0035693979 time: 105.7186s\n"
          ]
        },
        {
          "output_type": "stream",
          "name": "stderr",
          "text": [
            "7006it [02:03, 40.51it/s]"
          ]
        },
        {
          "output_type": "stream",
          "name": "stdout",
          "text": [
            "Epoch: 0003 miniepoch: 0007 train_loss: 0.0035528181 time: 123.2965s\n"
          ]
        },
        {
          "output_type": "stream",
          "name": "stderr",
          "text": [
            "8013it [02:20, 64.25it/s]"
          ]
        },
        {
          "output_type": "stream",
          "name": "stdout",
          "text": [
            "Epoch: 0003 miniepoch: 0008 train_loss: 0.0035733206 time: 140.5205s\n"
          ]
        },
        {
          "output_type": "stream",
          "name": "stderr",
          "text": [
            "9011it [02:37, 63.45it/s]"
          ]
        },
        {
          "output_type": "stream",
          "name": "stdout",
          "text": [
            "Epoch: 0003 miniepoch: 0009 train_loss: 0.0035895144 time: 157.7141s\n"
          ]
        },
        {
          "output_type": "stream",
          "name": "stderr",
          "text": [
            "10012it [02:55, 63.99it/s]"
          ]
        },
        {
          "output_type": "stream",
          "name": "stdout",
          "text": [
            "Epoch: 0003 miniepoch: 0010 train_loss: 0.0036222865 time: 175.0667s\n"
          ]
        },
        {
          "output_type": "stream",
          "name": "stderr",
          "text": [
            "11011it [03:13, 64.75it/s]"
          ]
        },
        {
          "output_type": "stream",
          "name": "stdout",
          "text": [
            "Epoch: 0003 miniepoch: 0011 train_loss: 0.0036204736 time: 193.8371s\n"
          ]
        },
        {
          "output_type": "stream",
          "name": "stderr",
          "text": [
            "12011it [03:30, 63.57it/s]"
          ]
        },
        {
          "output_type": "stream",
          "name": "stdout",
          "text": [
            "Epoch: 0003 miniepoch: 0012 train_loss: 0.0036005959 time: 210.8227s\n"
          ]
        },
        {
          "output_type": "stream",
          "name": "stderr",
          "text": [
            "13011it [03:48, 63.89it/s]"
          ]
        },
        {
          "output_type": "stream",
          "name": "stdout",
          "text": [
            "Epoch: 0003 miniepoch: 0013 train_loss: 0.0036194140 time: 227.9010s\n"
          ]
        },
        {
          "output_type": "stream",
          "name": "stderr",
          "text": [
            "14012it [04:05, 63.10it/s]"
          ]
        },
        {
          "output_type": "stream",
          "name": "stdout",
          "text": [
            "Epoch: 0003 miniepoch: 0014 train_loss: 0.0036130451 time: 244.9495s\n"
          ]
        },
        {
          "output_type": "stream",
          "name": "stderr",
          "text": [
            "15006it [04:22, 49.52it/s]"
          ]
        },
        {
          "output_type": "stream",
          "name": "stdout",
          "text": [
            "Epoch: 0003 miniepoch: 0015 train_loss: 0.0036050087 time: 262.1813s\n"
          ]
        },
        {
          "output_type": "stream",
          "name": "stderr",
          "text": [
            "16009it [04:39, 49.70it/s]"
          ]
        },
        {
          "output_type": "stream",
          "name": "stdout",
          "text": [
            "Epoch: 0003 miniepoch: 0016 train_loss: 0.0035869730 time: 279.5688s\n"
          ]
        },
        {
          "output_type": "stream",
          "name": "stderr",
          "text": [
            "17008it [04:57, 49.37it/s]"
          ]
        },
        {
          "output_type": "stream",
          "name": "stdout",
          "text": [
            "Epoch: 0003 miniepoch: 0017 train_loss: 0.0035794080 time: 297.0908s\n"
          ]
        },
        {
          "output_type": "stream",
          "name": "stderr",
          "text": [
            "18007it [05:14, 46.34it/s]"
          ]
        },
        {
          "output_type": "stream",
          "name": "stdout",
          "text": [
            "Epoch: 0003 miniepoch: 0018 train_loss: 0.0035769656 time: 314.6867s\n"
          ]
        },
        {
          "output_type": "stream",
          "name": "stderr",
          "text": [
            "19011it [05:32, 60.39it/s]"
          ]
        },
        {
          "output_type": "stream",
          "name": "stdout",
          "text": [
            "Epoch: 0003 miniepoch: 0019 train_loss: 0.0035670115 time: 331.9766s\n"
          ]
        },
        {
          "output_type": "stream",
          "name": "stderr",
          "text": [
            "20012it [05:49, 63.65it/s]"
          ]
        },
        {
          "output_type": "stream",
          "name": "stdout",
          "text": [
            "Epoch: 0003 miniepoch: 0020 train_loss: 0.0035819433 time: 349.3008s\n"
          ]
        },
        {
          "output_type": "stream",
          "name": "stderr",
          "text": [
            "20880it [06:04, 57.23it/s]\n",
            "2610it [00:24, 107.86it/s]\n"
          ]
        },
        {
          "output_type": "stream",
          "name": "stdout",
          "text": [
            "Epoch: 0003 train_loss: 0.0035777841 val_loss: 0.0033857871 time: 389.0875s\n"
          ]
        },
        {
          "output_type": "stream",
          "name": "stderr",
          "text": [
            "14it [00:00, 65.30it/s]"
          ]
        },
        {
          "output_type": "stream",
          "name": "stdout",
          "text": [
            "Epoch: 0004 miniepoch: 0000 train_loss: 0.0097653367 time: 0.0204s\n"
          ]
        },
        {
          "output_type": "stream",
          "name": "stderr",
          "text": [
            "1013it [00:17, 66.49it/s]"
          ]
        },
        {
          "output_type": "stream",
          "name": "stdout",
          "text": [
            "Epoch: 0004 miniepoch: 0001 train_loss: 0.0038469142 time: 17.1826s\n"
          ]
        },
        {
          "output_type": "stream",
          "name": "stderr",
          "text": [
            "2013it [00:34, 65.36it/s]"
          ]
        },
        {
          "output_type": "stream",
          "name": "stdout",
          "text": [
            "Epoch: 0004 miniepoch: 0002 train_loss: 0.0037870257 time: 34.3832s\n"
          ]
        },
        {
          "output_type": "stream",
          "name": "stderr",
          "text": [
            "3010it [00:51, 59.03it/s]"
          ]
        },
        {
          "output_type": "stream",
          "name": "stdout",
          "text": [
            "Epoch: 0004 miniepoch: 0003 train_loss: 0.0036305456 time: 51.5522s\n"
          ]
        },
        {
          "output_type": "stream",
          "name": "stderr",
          "text": [
            "4009it [01:08, 48.07it/s]"
          ]
        },
        {
          "output_type": "stream",
          "name": "stdout",
          "text": [
            "Epoch: 0004 miniepoch: 0004 train_loss: 0.0035907921 time: 68.7350s\n"
          ]
        },
        {
          "output_type": "stream",
          "name": "stderr",
          "text": [
            "5010it [01:26, 47.00it/s]"
          ]
        },
        {
          "output_type": "stream",
          "name": "stdout",
          "text": [
            "Epoch: 0004 miniepoch: 0005 train_loss: 0.0035258220 time: 86.4570s\n"
          ]
        },
        {
          "output_type": "stream",
          "name": "stderr",
          "text": [
            "6010it [01:44, 48.93it/s]"
          ]
        },
        {
          "output_type": "stream",
          "name": "stdout",
          "text": [
            "Epoch: 0004 miniepoch: 0006 train_loss: 0.0034866927 time: 103.8313s\n"
          ]
        },
        {
          "output_type": "stream",
          "name": "stderr",
          "text": [
            "7010it [02:01, 46.02it/s]"
          ]
        },
        {
          "output_type": "stream",
          "name": "stdout",
          "text": [
            "Epoch: 0004 miniepoch: 0007 train_loss: 0.0035315244 time: 121.2129s\n"
          ]
        },
        {
          "output_type": "stream",
          "name": "stderr",
          "text": [
            "8009it [02:18, 59.71it/s]"
          ]
        },
        {
          "output_type": "stream",
          "name": "stdout",
          "text": [
            "Epoch: 0004 miniepoch: 0008 train_loss: 0.0035572205 time: 138.6507s\n"
          ]
        },
        {
          "output_type": "stream",
          "name": "stderr",
          "text": [
            "9010it [02:36, 49.33it/s]"
          ]
        },
        {
          "output_type": "stream",
          "name": "stdout",
          "text": [
            "Epoch: 0004 miniepoch: 0009 train_loss: 0.0035807410 time: 156.2369s\n"
          ]
        },
        {
          "output_type": "stream",
          "name": "stderr",
          "text": [
            "10014it [02:55, 65.28it/s]"
          ]
        },
        {
          "output_type": "stream",
          "name": "stdout",
          "text": [
            "Epoch: 0004 miniepoch: 0010 train_loss: 0.0036115955 time: 175.0110s\n"
          ]
        },
        {
          "output_type": "stream",
          "name": "stderr",
          "text": [
            "11009it [03:12, 64.40it/s]"
          ]
        },
        {
          "output_type": "stream",
          "name": "stdout",
          "text": [
            "Epoch: 0004 miniepoch: 0011 train_loss: 0.0035954862 time: 192.0051s\n"
          ]
        },
        {
          "output_type": "stream",
          "name": "stderr",
          "text": [
            "12009it [03:29, 65.14it/s]"
          ]
        },
        {
          "output_type": "stream",
          "name": "stdout",
          "text": [
            "Epoch: 0004 miniepoch: 0012 train_loss: 0.0036157582 time: 209.0997s\n"
          ]
        },
        {
          "output_type": "stream",
          "name": "stderr",
          "text": [
            "13007it [03:46, 64.29it/s]"
          ]
        },
        {
          "output_type": "stream",
          "name": "stdout",
          "text": [
            "Epoch: 0004 miniepoch: 0013 train_loss: 0.0036347989 time: 226.1276s\n"
          ]
        },
        {
          "output_type": "stream",
          "name": "stderr",
          "text": [
            "14011it [04:03, 65.07it/s]"
          ]
        },
        {
          "output_type": "stream",
          "name": "stdout",
          "text": [
            "Epoch: 0004 miniepoch: 0014 train_loss: 0.0036424617 time: 243.3408s\n"
          ]
        },
        {
          "output_type": "stream",
          "name": "stderr",
          "text": [
            "15005it [04:20, 49.72it/s]"
          ]
        },
        {
          "output_type": "stream",
          "name": "stdout",
          "text": [
            "Epoch: 0004 miniepoch: 0015 train_loss: 0.0036488584 time: 260.5933s\n"
          ]
        },
        {
          "output_type": "stream",
          "name": "stderr",
          "text": [
            "16005it [04:38, 47.19it/s]"
          ]
        },
        {
          "output_type": "stream",
          "name": "stdout",
          "text": [
            "Epoch: 0004 miniepoch: 0016 train_loss: 0.0036431825 time: 278.3693s\n"
          ]
        },
        {
          "output_type": "stream",
          "name": "stderr",
          "text": [
            "17008it [04:56, 47.84it/s]"
          ]
        },
        {
          "output_type": "stream",
          "name": "stdout",
          "text": [
            "Epoch: 0004 miniepoch: 0017 train_loss: 0.0036169697 time: 296.0647s\n"
          ]
        },
        {
          "output_type": "stream",
          "name": "stderr",
          "text": [
            "18008it [05:13, 45.64it/s]"
          ]
        },
        {
          "output_type": "stream",
          "name": "stdout",
          "text": [
            "Epoch: 0004 miniepoch: 0018 train_loss: 0.0036168956 time: 313.6162s\n"
          ]
        },
        {
          "output_type": "stream",
          "name": "stderr",
          "text": [
            "19012it [05:31, 62.10it/s]"
          ]
        },
        {
          "output_type": "stream",
          "name": "stdout",
          "text": [
            "Epoch: 0004 miniepoch: 0019 train_loss: 0.0035995226 time: 331.1213s\n"
          ]
        },
        {
          "output_type": "stream",
          "name": "stderr",
          "text": [
            "20005it [05:48, 48.00it/s]"
          ]
        },
        {
          "output_type": "stream",
          "name": "stdout",
          "text": [
            "Epoch: 0004 miniepoch: 0020 train_loss: 0.0035879785 time: 348.4949s\n"
          ]
        },
        {
          "output_type": "stream",
          "name": "stderr",
          "text": [
            "20880it [06:05, 57.15it/s]\n",
            "2610it [00:22, 117.59it/s]\n"
          ]
        },
        {
          "output_type": "stream",
          "name": "stdout",
          "text": [
            "Epoch: 0004 train_loss: 0.0035777841 val_loss: 0.0033857871 time: 387.5484s\n"
          ]
        },
        {
          "output_type": "stream",
          "name": "stderr",
          "text": [
            "6it [00:00, 59.79it/s]"
          ]
        },
        {
          "output_type": "stream",
          "name": "stdout",
          "text": [
            "Epoch: 0005 miniepoch: 0000 train_loss: 0.0009174655 time: 0.0214s\n"
          ]
        },
        {
          "output_type": "stream",
          "name": "stderr",
          "text": [
            "1008it [00:17, 48.34it/s]"
          ]
        },
        {
          "output_type": "stream",
          "name": "stdout",
          "text": [
            "Epoch: 0005 miniepoch: 0001 train_loss: 0.0036108045 time: 17.6389s\n"
          ]
        },
        {
          "output_type": "stream",
          "name": "stderr",
          "text": [
            "2009it [00:35, 46.80it/s]"
          ]
        },
        {
          "output_type": "stream",
          "name": "stdout",
          "text": [
            "Epoch: 0005 miniepoch: 0002 train_loss: 0.0036720183 time: 35.1534s\n"
          ]
        },
        {
          "output_type": "stream",
          "name": "stderr",
          "text": [
            "3006it [00:52, 47.85it/s]"
          ]
        },
        {
          "output_type": "stream",
          "name": "stdout",
          "text": [
            "Epoch: 0005 miniepoch: 0003 train_loss: 0.0036940154 time: 52.6121s\n"
          ]
        },
        {
          "output_type": "stream",
          "name": "stderr",
          "text": [
            "4012it [01:10, 57.67it/s]"
          ]
        },
        {
          "output_type": "stream",
          "name": "stdout",
          "text": [
            "Epoch: 0005 miniepoch: 0004 train_loss: 0.0036547554 time: 70.3198s\n"
          ]
        },
        {
          "output_type": "stream",
          "name": "stderr",
          "text": [
            "5008it [01:27, 64.92it/s]"
          ]
        },
        {
          "output_type": "stream",
          "name": "stdout",
          "text": [
            "Epoch: 0005 miniepoch: 0005 train_loss: 0.0036084935 time: 87.5210s\n"
          ]
        },
        {
          "output_type": "stream",
          "name": "stderr",
          "text": [
            "6011it [01:44, 66.13it/s]"
          ]
        },
        {
          "output_type": "stream",
          "name": "stdout",
          "text": [
            "Epoch: 0005 miniepoch: 0006 train_loss: 0.0035831586 time: 104.8310s\n"
          ]
        },
        {
          "output_type": "stream",
          "name": "stderr",
          "text": [
            "7011it [02:02, 64.23it/s]"
          ]
        },
        {
          "output_type": "stream",
          "name": "stdout",
          "text": [
            "Epoch: 0005 miniepoch: 0007 train_loss: 0.0035370426 time: 121.9095s\n"
          ]
        },
        {
          "output_type": "stream",
          "name": "stderr",
          "text": [
            "8010it [02:19, 64.69it/s]"
          ]
        },
        {
          "output_type": "stream",
          "name": "stdout",
          "text": [
            "Epoch: 0005 miniepoch: 0008 train_loss: 0.0035326598 time: 138.9813s\n"
          ]
        },
        {
          "output_type": "stream",
          "name": "stderr",
          "text": [
            "9010it [02:38, 66.02it/s]"
          ]
        },
        {
          "output_type": "stream",
          "name": "stdout",
          "text": [
            "Epoch: 0005 miniepoch: 0009 train_loss: 0.0035522969 time: 158.7887s\n"
          ]
        },
        {
          "output_type": "stream",
          "name": "stderr",
          "text": [
            "10014it [02:56, 64.66it/s]"
          ]
        },
        {
          "output_type": "stream",
          "name": "stdout",
          "text": [
            "Epoch: 0005 miniepoch: 0010 train_loss: 0.0035448766 time: 175.9535s\n"
          ]
        },
        {
          "output_type": "stream",
          "name": "stderr",
          "text": [
            "11011it [03:13, 63.09it/s]"
          ]
        },
        {
          "output_type": "stream",
          "name": "stdout",
          "text": [
            "Epoch: 0005 miniepoch: 0011 train_loss: 0.0035370282 time: 193.2639s\n"
          ]
        },
        {
          "output_type": "stream",
          "name": "stderr",
          "text": [
            "12011it [03:30, 63.99it/s]"
          ]
        },
        {
          "output_type": "stream",
          "name": "stdout",
          "text": [
            "Epoch: 0005 miniepoch: 0012 train_loss: 0.0035383573 time: 210.3043s\n"
          ]
        },
        {
          "output_type": "stream",
          "name": "stderr",
          "text": [
            "13010it [03:47, 65.60it/s]"
          ]
        },
        {
          "output_type": "stream",
          "name": "stdout",
          "text": [
            "Epoch: 0005 miniepoch: 0013 train_loss: 0.0035478635 time: 227.3890s\n"
          ]
        },
        {
          "output_type": "stream",
          "name": "stderr",
          "text": [
            "14009it [04:05, 47.25it/s]"
          ]
        },
        {
          "output_type": "stream",
          "name": "stdout",
          "text": [
            "Epoch: 0005 miniepoch: 0014 train_loss: 0.0035562058 time: 245.0884s\n"
          ]
        },
        {
          "output_type": "stream",
          "name": "stderr",
          "text": [
            "15009it [04:22, 47.29it/s]"
          ]
        },
        {
          "output_type": "stream",
          "name": "stdout",
          "text": [
            "Epoch: 0005 miniepoch: 0015 train_loss: 0.0035760974 time: 262.8333s\n"
          ]
        },
        {
          "output_type": "stream",
          "name": "stderr",
          "text": [
            "16009it [04:40, 48.21it/s]"
          ]
        },
        {
          "output_type": "stream",
          "name": "stdout",
          "text": [
            "Epoch: 0005 miniepoch: 0016 train_loss: 0.0035766947 time: 280.5196s\n"
          ]
        },
        {
          "output_type": "stream",
          "name": "stderr",
          "text": [
            "17013it [04:58, 54.77it/s]"
          ]
        },
        {
          "output_type": "stream",
          "name": "stdout",
          "text": [
            "Epoch: 0005 miniepoch: 0017 train_loss: 0.0035809487 time: 298.0495s\n"
          ]
        },
        {
          "output_type": "stream",
          "name": "stderr",
          "text": [
            "18010it [05:15, 64.40it/s]"
          ]
        },
        {
          "output_type": "stream",
          "name": "stdout",
          "text": [
            "Epoch: 0005 miniepoch: 0018 train_loss: 0.0035570642 time: 315.1918s\n"
          ]
        },
        {
          "output_type": "stream",
          "name": "stderr",
          "text": [
            "19009it [05:34, 64.32it/s]"
          ]
        },
        {
          "output_type": "stream",
          "name": "stdout",
          "text": [
            "Epoch: 0005 miniepoch: 0019 train_loss: 0.0035569765 time: 334.6198s\n"
          ]
        },
        {
          "output_type": "stream",
          "name": "stderr",
          "text": [
            "20010it [05:51, 64.34it/s]"
          ]
        },
        {
          "output_type": "stream",
          "name": "stdout",
          "text": [
            "Epoch: 0005 miniepoch: 0020 train_loss: 0.0035710574 time: 351.7468s\n"
          ]
        },
        {
          "output_type": "stream",
          "name": "stderr",
          "text": [
            "20880it [06:07, 56.89it/s]\n",
            "2610it [00:22, 117.72it/s]\n"
          ]
        },
        {
          "output_type": "stream",
          "name": "stdout",
          "text": [
            "Epoch: 0005 train_loss: 0.0035777841 val_loss: 0.0033857871 time: 389.1914s\n"
          ]
        },
        {
          "output_type": "stream",
          "name": "stderr",
          "text": [
            "14it [00:00, 64.81it/s]"
          ]
        },
        {
          "output_type": "stream",
          "name": "stdout",
          "text": [
            "Epoch: 0006 miniepoch: 0000 train_loss: 0.0007810000 time: 0.0248s\n"
          ]
        },
        {
          "output_type": "stream",
          "name": "stderr",
          "text": [
            "1009it [00:17, 49.85it/s]"
          ]
        },
        {
          "output_type": "stream",
          "name": "stdout",
          "text": [
            "Epoch: 0006 miniepoch: 0001 train_loss: 0.0038233123 time: 17.3527s\n"
          ]
        },
        {
          "output_type": "stream",
          "name": "stderr",
          "text": [
            "2010it [00:34, 48.56it/s]"
          ]
        },
        {
          "output_type": "stream",
          "name": "stdout",
          "text": [
            "Epoch: 0006 miniepoch: 0002 train_loss: 0.0035395270 time: 34.7087s\n"
          ]
        },
        {
          "output_type": "stream",
          "name": "stderr",
          "text": [
            "3011it [00:52, 49.19it/s]"
          ]
        },
        {
          "output_type": "stream",
          "name": "stdout",
          "text": [
            "Epoch: 0006 miniepoch: 0003 train_loss: 0.0034712774 time: 52.2826s\n"
          ]
        },
        {
          "output_type": "stream",
          "name": "stderr",
          "text": [
            "4010it [01:09, 48.76it/s]"
          ]
        },
        {
          "output_type": "stream",
          "name": "stdout",
          "text": [
            "Epoch: 0006 miniepoch: 0004 train_loss: 0.0035289883 time: 69.7208s\n"
          ]
        },
        {
          "output_type": "stream",
          "name": "stderr",
          "text": [
            "5013it [01:27, 59.93it/s]"
          ]
        },
        {
          "output_type": "stream",
          "name": "stdout",
          "text": [
            "Epoch: 0006 miniepoch: 0005 train_loss: 0.0035724751 time: 87.4058s\n"
          ]
        },
        {
          "output_type": "stream",
          "name": "stderr",
          "text": [
            "6011it [01:44, 63.80it/s]"
          ]
        },
        {
          "output_type": "stream",
          "name": "stdout",
          "text": [
            "Epoch: 0006 miniepoch: 0006 train_loss: 0.0035813183 time: 104.6138s\n"
          ]
        },
        {
          "output_type": "stream",
          "name": "stderr",
          "text": [
            "7012it [02:02, 64.60it/s]"
          ]
        },
        {
          "output_type": "stream",
          "name": "stdout",
          "text": [
            "Epoch: 0006 miniepoch: 0007 train_loss: 0.0035547346 time: 122.0013s\n"
          ]
        },
        {
          "output_type": "stream",
          "name": "stderr",
          "text": [
            "8008it [02:21, 64.66it/s]"
          ]
        },
        {
          "output_type": "stream",
          "name": "stdout",
          "text": [
            "Epoch: 0006 miniepoch: 0008 train_loss: 0.0035686666 time: 141.8323s\n"
          ]
        },
        {
          "output_type": "stream",
          "name": "stderr",
          "text": [
            "9012it [02:39, 64.60it/s]"
          ]
        },
        {
          "output_type": "stream",
          "name": "stdout",
          "text": [
            "Epoch: 0006 miniepoch: 0009 train_loss: 0.0035752349 time: 159.0014s\n"
          ]
        },
        {
          "output_type": "stream",
          "name": "stderr",
          "text": [
            "9320it [02:43, 64.43it/s]"
          ]
        }
      ]
    },
    {
      "cell_type": "code",
      "source": [
        "#torch.save(model.state_dict(), '/content/drive/MyDrive/3bodyproblem/'+ 'model.pt')"
      ],
      "metadata": {
        "id": "BSNnts9dQHJp"
      },
      "execution_count": null,
      "outputs": []
    },
    {
      "cell_type": "code",
      "source": [
        "model = p3bp().to(device).double()\n",
        "model.load_state_dict(torch.load('/content/drive/MyDrive/3bodyproblem/'+ '2model.pt'))"
      ],
      "metadata": {
        "colab": {
          "base_uri": "https://localhost:8080/"
        },
        "id": "Vu2PKV-RTAab",
        "outputId": "bd6220bc-91ea-41d8-e50d-03ffc2505194"
      },
      "execution_count": null,
      "outputs": [
        {
          "output_type": "execute_result",
          "data": {
            "text/plain": [
              "<All keys matched successfully>"
            ]
          },
          "metadata": {},
          "execution_count": 46
        }
      ]
    },
    {
      "cell_type": "code",
      "source": [
        "x1=np.array([cx[0][0], cx[1][0], cx[2][0]], dtype = 'double')\n",
        "x2=np.array([cx[0][1], cx[1][1], cx[2][1]], dtype = 'double')\n",
        "y1=np.array([cx[0][0], cx[1][0], cx[2][0]], dtype = 'double')\n",
        "y2=np.array([cx[0][1], cx[1][1], cx[2][1]], dtype = 'double')\n"
      ],
      "metadata": {
        "id": "LXieBgITma5y"
      },
      "execution_count": null,
      "outputs": []
    },
    {
      "cell_type": "code",
      "source": [
        "fig = plt.figure(figsize=(6,6))\n",
        "ax = plt.axes(xlim=(-1.5,1.5), ylim=(-1.5,1.5))\n",
        "ax.plot(cx[0][:], cy[0][:], 'r-')\n",
        "ax.plot(cx[1][:], cy[1][:], 'g-')\n",
        "ax.plot(cx[2][:], cy[2][:], 'b-')"
      ],
      "metadata": {
        "colab": {
          "base_uri": "https://localhost:8080/",
          "height": 546
        },
        "id": "hfmPEJ7zJZHI",
        "outputId": "ac14f270-a391-4c8e-bce1-0d4d0a622966"
      },
      "execution_count": null,
      "outputs": [
        {
          "output_type": "execute_result",
          "data": {
            "text/plain": [
              "[<matplotlib.lines.Line2D at 0x785636403970>]"
            ]
          },
          "metadata": {},
          "execution_count": 52
        },
        {
          "output_type": "display_data",
          "data": {
            "text/plain": [
              "<Figure size 600x600 with 1 Axes>"
            ],
            "image/png": "[encoded data removed]"
          },
          "metadata": {}
        }
      ]
    },
    {
      "cell_type": "code",
      "source": [
        "x_con=np.stack((x1, x2), axis=-1)\n",
        "y_con=np.stack((y1, y2), axis=-1)\n",
        "input = np.stack((x_con, y_con), axis=1)\n",
        "input_t = torch.FloatTensor(input).to(device)\n",
        "input_t.shape"
      ],
      "metadata": {
        "id": "gT1uxRxgmiJV",
        "colab": {
          "base_uri": "https://localhost:8080/"
        },
        "outputId": "9aff50ae-280a-4a49-9278-89adf4f4d950"
      },
      "execution_count": null,
      "outputs": [
        {
          "output_type": "execute_result",
          "data": {
            "text/plain": [
              "torch.Size([3, 2, 2])"
            ]
          },
          "metadata": {},
          "execution_count": 49
        }
      ]
    },
    {
      "cell_type": "code",
      "source": [
        "# for x, y in train_dataloader:\n",
        "#   data = x.to(device)\n",
        "#   break;\n",
        "\n",
        "#input = data[:, :, :, :2]\n",
        "model.eval()\n",
        "datas = model.generate(input_t, 5000)\n",
        "datas_np = datas.cpu().detach().numpy()\n",
        "datas_np.shape"
      ],
      "metadata": {
        "id": "8IBsCzNSI3x5",
        "colab": {
          "base_uri": "https://localhost:8080/"
        },
        "outputId": "2504deb5-cf5f-45f1-ca03-5c6d469161ce"
      },
      "execution_count": null,
      "outputs": [
        {
          "output_type": "execute_result",
          "data": {
            "text/plain": [
              "(3, 2, 5000)"
            ]
          },
          "metadata": {},
          "execution_count": 53
        }
      ]
    },
    {
      "cell_type": "code",
      "source": [
        "data = np.concatenate((input, datas_np), axis=-1)"
      ],
      "metadata": {
        "id": "cbd51XMbYC_a"
      },
      "execution_count": null,
      "outputs": []
    },
    {
      "cell_type": "code",
      "source": [
        "data[:, :, :2]"
      ],
      "metadata": {
        "id": "nCNIc29Lawml",
        "colab": {
          "base_uri": "https://localhost:8080/"
        },
        "outputId": "1697e1ed-faa9-466d-8c6d-28fd011d835d"
      },
      "execution_count": null,
      "outputs": [
        {
          "output_type": "execute_result",
          "data": {
            "text/plain": [
              "array([[[-0.04607996, -0.05444727],\n",
              "        [-0.04607996, -0.05444727]],\n",
              "\n",
              "       [[-0.2405838 , -0.16927678],\n",
              "        [-0.2405838 , -0.16927678]],\n",
              "\n",
              "       [[ 0.22351871,  0.14463563],\n",
              "        [ 0.22351871,  0.14463563]]])"
            ]
          },
          "metadata": {},
          "execution_count": 55
        }
      ]
    },
    {
      "cell_type": "code",
      "source": [
        "import matplotlib.pyplot as plt\n",
        "\n",
        "fig = plt.figure(figsize=(6,6))\n",
        "ax = plt.axes(xlim=(-1.5,1.5), ylim=(-1.5,1.5))\n",
        "ax.plot(data[0, 0, :], data[0, 1, :], 'r-')\n",
        "ax.plot(data[1, 0, :], data[1, 1, :], 'g-')\n",
        "ax.plot(data[2, 0, :], data[2, 1, :], 'b-')"
      ],
      "metadata": {
        "id": "sLuMyYEWgDM0",
        "colab": {
          "base_uri": "https://localhost:8080/",
          "height": 546
        },
        "outputId": "32282caa-57e7-4f57-8b9e-59f5a1522e5d"
      },
      "execution_count": null,
      "outputs": [
        {
          "output_type": "execute_result",
          "data": {
            "text/plain": [
              "[<matplotlib.lines.Line2D at 0x78563748dde0>]"
            ]
          },
          "metadata": {},
          "execution_count": 56
        },
        {
          "output_type": "display_data",
          "data": {
            "text/plain": [
              "<Figure size 600x600 with 1 Axes>"
            ],
            "image/png": "[encoded data removed]"
          },
          "metadata": {}
        }
      ]
    },
    {
      "cell_type": "code",
      "source": [
        "import numpy as np\n",
        "import matplotlib.pyplot as plt\n",
        "import matplotlib.animation as anim\n",
        "\n",
        "fig = plt.figure(figsize=(6,6))\n",
        "ax = plt.axes(xlim=(-1.5,1.5), ylim=(-1.5,1.5))\n",
        "\n",
        "n = 1\n",
        "\n",
        "#  l number\n",
        "#  (0)figure8, (1)butterfly I, (2)butterfly II, (3)bumblebee, (4)moth I,\n",
        "#  (5)moth II, (6)butterfly III, (7)moth III, (8)goggles, (9)butterfly IV,\n",
        "#  (10)dragonfly, (11)yarn, (12)yin-yang I, (13)yin-yang I, (14)yin-yang II,\n",
        "#  (15)yin-yang II\n",
        "\n",
        "a = np.float64(1.0)\n",
        "b_list = np.array([0.347111, 0.30689, 0.39295, 0.18428, 0.46444,\n",
        "                   0.43917, 0.40592, 0.38344, 0.08330, 0.350112,\n",
        "                   0.08058, 0.55906, 0.51394, 0.28270, 0.41682,\n",
        "                   0.41734], dtype = 'double')\n",
        "c_list = np.array([0.532728, 0.12551, 0.09758, 0.58719, 0.39606,\n",
        "                   0.45297, 0.23016, 0.37736, 0.12789, 0.07934,\n",
        "                   0.58884, 0.34919, 0.30474, 0.32721, 0.33033,\n",
        "                   0.31310], dtype = 'double')\n",
        "l = 0\n",
        "b = b_list[l]\n",
        "c = c_list[l]\n",
        "\n",
        "x=np.array([-a, a, 0], dtype = 'double')\n",
        "y=np.array([0, 0, 0], dtype = 'double')\n",
        "dx=np.array([b,b,-2*b], dtype = 'double')\n",
        "dy=np.array([c,c,-2*c], dtype = 'double')\n",
        "\n",
        "model.eval()\n",
        "\n",
        "M=np.array([1.0,1.0,1.0], dtype = 'double')\n",
        "dt=np.double(0.0001)\n",
        "cx=[[],[],[]]\n",
        "cy=[[],[],[]]\n",
        "\n",
        "curve1,=ax.plot([],[],'r-')\n",
        "curve2,=ax.plot([],[],'g-')\n",
        "curve3,=ax.plot([],[],'b-')\n",
        "\n",
        "obj1,=plt.plot([],[],'ro')\n",
        "obj2,=plt.plot([],[],'go')\n",
        "obj3,=plt.plot([],[],'bo')\n",
        "\n",
        "def init():\n",
        "    curve1.set_data([],[])\n",
        "    curve2.set_data([],[])\n",
        "    curve3.set_data([],[])\n",
        "    obj1.set_data([],[])\n",
        "    obj2.set_data([],[])\n",
        "    obj3.set_data([],[])\n",
        "    return curve1,curve2,curve3,obj1,obj2,obj3,\n",
        "\n",
        "def f(t):\n",
        "    global input_t, datas_np\n",
        "\n",
        "    #print(input_t.shape)\n",
        "    for _ in range(n):\n",
        "        datas = model.generate(input_t, 1)\n",
        "\n",
        "    datas_np = datas.squeeze().cpu().detach().numpy()\n",
        "\n",
        "    for i in range(3):\n",
        "        cx[i].append(datas_np[i][0])\n",
        "        cy[i].append(datas_np[i][1])\n",
        "\n",
        "    #print(input_t)\n",
        "    #print(datas.shape)\n",
        "    input = np.stack((input_t[:,:,1].cpu().detach().numpy(), datas_np), axis=1)\n",
        "    input_t = torch.FloatTensor(input).to(device)\n",
        "\n",
        "    curve1.set_data(cx[0],cy[0])\n",
        "    curve2.set_data(cx[1],cy[1])\n",
        "    curve3.set_data(cx[2],cy[2])\n",
        "    obj1.set_data(datas_np[0][0],datas_np[0][0])\n",
        "    obj2.set_data(datas_np[1][0],datas_np[1][0])\n",
        "    obj3.set_data(datas_np[2][0],datas_np[2][0])\n",
        "\n",
        "    return curve1, curve2, curve3, obj1, obj2, obj3,\n",
        "\n",
        "meh = anim.FuncAnimation(fig, f, frames=300, init_func=init, interval=1, blit=True, save_count=(9000))#save_count=(9000)\n",
        "plt.close()\n",
        "HTML(meh.to_html5_video())"
      ],
      "metadata": {
        "id": "Dmx0WAvzkuL5",
        "colab": {
          "base_uri": "https://localhost:8080/",
          "height": 653
        },
        "outputId": "c681a8e4-f9b0-46b8-e236-f94abe8cbced"
      },
      "execution_count": null,
      "outputs": [
        {
          "output_type": "stream",
          "name": "stderr",
          "text": [
            "<ipython-input-33-9a1c98868bcd>:90: UserWarning: You passed in an explicit save_count=9000 which is being ignored in favor of frames=300.\n",
            "  meh = anim.FuncAnimation(fig, f, frames=300, init_func=init, interval=1, blit=True, save_count=(9000))#save_count=(9000)\n",
            "<ipython-input-33-9a1c98868bcd>:84: MatplotlibDeprecationWarning: Setting data with a non sequence type is deprecated since 3.7 and will be remove two minor releases later\n",
            "  obj1.set_data(datas_np[0][0],datas_np[0][0])\n",
            "<ipython-input-33-9a1c98868bcd>:85: MatplotlibDeprecationWarning: Setting data with a non sequence type is deprecated since 3.7 and will be remove two minor releases later\n",
            "  obj2.set_data(datas_np[1][0],datas_np[1][0])\n",
            "<ipython-input-33-9a1c98868bcd>:86: MatplotlibDeprecationWarning: Setting data with a non sequence type is deprecated since 3.7 and will be remove two minor releases later\n",
            "  obj3.set_data(datas_np[2][0],datas_np[2][0])\n"
          ]
        },
        {
          "output_type": "error",
          "ename": "CalledProcessError",
          "evalue": "ignored",
          "traceback": [
            "\u001b[0;31m---------------------------------------------------------------------------\u001b[0m",
            "\u001b[0;31mKeyboardInterrupt\u001b[0m                         Traceback (most recent call last)",
            "\u001b[0;32m/usr/local/lib/python3.10/dist-packages/matplotlib/animation.py\u001b[0m in \u001b[0;36msaving\u001b[0;34m(self, fig, outfile, dpi, *args, **kwargs)\u001b[0m\n\u001b[1;32m    232\u001b[0m         \u001b[0;32mtry\u001b[0m\u001b[0;34m:\u001b[0m\u001b[0;34m\u001b[0m\u001b[0;34m\u001b[0m\u001b[0m\n\u001b[0;32m--> 233\u001b[0;31m             \u001b[0;32myield\u001b[0m \u001b[0mself\u001b[0m\u001b[0;34m\u001b[0m\u001b[0;34m\u001b[0m\u001b[0m\n\u001b[0m\u001b[1;32m    234\u001b[0m         \u001b[0;32mfinally\u001b[0m\u001b[0;34m:\u001b[0m\u001b[0;34m\u001b[0m\u001b[0;34m\u001b[0m\u001b[0m\n",
            "\u001b[0;32m/usr/local/lib/python3.10/dist-packages/matplotlib/animation.py\u001b[0m in \u001b[0;36msave\u001b[0;34m(self, filename, writer, fps, dpi, codec, bitrate, extra_args, metadata, extra_anim, savefig_kwargs, progress_callback)\u001b[0m\n\u001b[1;32m   1102\u001b[0m                     \u001b[0;31m# TODO: See if turning off blit is really necessary\u001b[0m\u001b[0;34m\u001b[0m\u001b[0;34m\u001b[0m\u001b[0m\n\u001b[0;32m-> 1103\u001b[0;31m                     \u001b[0manim\u001b[0m\u001b[0;34m.\u001b[0m\u001b[0m_draw_next_frame\u001b[0m\u001b[0;34m(\u001b[0m\u001b[0md\u001b[0m\u001b[0;34m,\u001b[0m \u001b[0mblit\u001b[0m\u001b[0;34m=\u001b[0m\u001b[0;32mFalse\u001b[0m\u001b[0;34m)\u001b[0m\u001b[0;34m\u001b[0m\u001b[0;34m\u001b[0m\u001b[0m\n\u001b[0m\u001b[1;32m   1104\u001b[0m                     \u001b[0;32mif\u001b[0m \u001b[0mprogress_callback\u001b[0m \u001b[0;32mis\u001b[0m \u001b[0;32mnot\u001b[0m \u001b[0;32mNone\u001b[0m\u001b[0;34m:\u001b[0m\u001b[0;34m\u001b[0m\u001b[0;34m\u001b[0m\u001b[0m\n",
            "\u001b[0;32m/usr/local/lib/python3.10/dist-packages/matplotlib/animation.py\u001b[0m in \u001b[0;36m_draw_next_frame\u001b[0;34m(self, framedata, blit)\u001b[0m\n\u001b[1;32m   1138\u001b[0m         \u001b[0mself\u001b[0m\u001b[0;34m.\u001b[0m\u001b[0m_draw_frame\u001b[0m\u001b[0;34m(\u001b[0m\u001b[0mframedata\u001b[0m\u001b[0;34m)\u001b[0m\u001b[0;34m\u001b[0m\u001b[0;34m\u001b[0m\u001b[0m\n\u001b[0;32m-> 1139\u001b[0;31m         \u001b[0mself\u001b[0m\u001b[0;34m.\u001b[0m\u001b[0m_post_draw\u001b[0m\u001b[0;34m(\u001b[0m\u001b[0mframedata\u001b[0m\u001b[0;34m,\u001b[0m \u001b[0mblit\u001b[0m\u001b[0;34m)\u001b[0m\u001b[0;34m\u001b[0m\u001b[0;34m\u001b[0m\u001b[0m\n\u001b[0m\u001b[1;32m   1140\u001b[0m \u001b[0;34m\u001b[0m\u001b[0m\n",
            "\u001b[0;32m/usr/local/lib/python3.10/dist-packages/matplotlib/animation.py\u001b[0m in \u001b[0;36m_post_draw\u001b[0;34m(self, framedata, blit)\u001b[0m\n\u001b[1;32m   1163\u001b[0m         \u001b[0;32melse\u001b[0m\u001b[0;34m:\u001b[0m\u001b[0;34m\u001b[0m\u001b[0;34m\u001b[0m\u001b[0m\n\u001b[0;32m-> 1164\u001b[0;31m             \u001b[0mself\u001b[0m\u001b[0;34m.\u001b[0m\u001b[0m_fig\u001b[0m\u001b[0;34m.\u001b[0m\u001b[0mcanvas\u001b[0m\u001b[0;34m.\u001b[0m\u001b[0mdraw_idle\u001b[0m\u001b[0;34m(\u001b[0m\u001b[0;34m)\u001b[0m\u001b[0;34m\u001b[0m\u001b[0;34m\u001b[0m\u001b[0m\n\u001b[0m\u001b[1;32m   1165\u001b[0m \u001b[0;34m\u001b[0m\u001b[0m\n",
            "\u001b[0;32m/usr/local/lib/python3.10/dist-packages/matplotlib/backend_bases.py\u001b[0m in \u001b[0;36mdraw_idle\u001b[0;34m(self, *args, **kwargs)\u001b[0m\n\u001b[1;32m   2081\u001b[0m             \u001b[0;32mwith\u001b[0m \u001b[0mself\u001b[0m\u001b[0;34m.\u001b[0m\u001b[0m_idle_draw_cntx\u001b[0m\u001b[0;34m(\u001b[0m\u001b[0;34m)\u001b[0m\u001b[0;34m:\u001b[0m\u001b[0;34m\u001b[0m\u001b[0;34m\u001b[0m\u001b[0m\n\u001b[0;32m-> 2082\u001b[0;31m                 \u001b[0mself\u001b[0m\u001b[0;34m.\u001b[0m\u001b[0mdraw\u001b[0m\u001b[0;34m(\u001b[0m\u001b[0;34m*\u001b[0m\u001b[0margs\u001b[0m\u001b[0;34m,\u001b[0m \u001b[0;34m**\u001b[0m\u001b[0mkwargs\u001b[0m\u001b[0;34m)\u001b[0m\u001b[0;34m\u001b[0m\u001b[0;34m\u001b[0m\u001b[0m\n\u001b[0m\u001b[1;32m   2083\u001b[0m \u001b[0;34m\u001b[0m\u001b[0m\n",
            "\u001b[0;32m/usr/local/lib/python3.10/dist-packages/matplotlib/backends/backend_agg.py\u001b[0m in \u001b[0;36mdraw\u001b[0;34m(self)\u001b[0m\n\u001b[1;32m    399\u001b[0m               else nullcontext()):\n\u001b[0;32m--> 400\u001b[0;31m             \u001b[0mself\u001b[0m\u001b[0;34m.\u001b[0m\u001b[0mfigure\u001b[0m\u001b[0;34m.\u001b[0m\u001b[0mdraw\u001b[0m\u001b[0;34m(\u001b[0m\u001b[0mself\u001b[0m\u001b[0;34m.\u001b[0m\u001b[0mrenderer\u001b[0m\u001b[0;34m)\u001b[0m\u001b[0;34m\u001b[0m\u001b[0;34m\u001b[0m\u001b[0m\n\u001b[0m\u001b[1;32m    401\u001b[0m             \u001b[0;31m# A GUI class may be need to update a window using this draw, so\u001b[0m\u001b[0;34m\u001b[0m\u001b[0;34m\u001b[0m\u001b[0m\n",
            "\u001b[0;32m/usr/local/lib/python3.10/dist-packages/matplotlib/artist.py\u001b[0m in \u001b[0;36mdraw_wrapper\u001b[0;34m(artist, renderer, *args, **kwargs)\u001b[0m\n\u001b[1;32m     94\u001b[0m     \u001b[0;32mdef\u001b[0m \u001b[0mdraw_wrapper\u001b[0m\u001b[0;34m(\u001b[0m\u001b[0martist\u001b[0m\u001b[0;34m,\u001b[0m \u001b[0mrenderer\u001b[0m\u001b[0;34m,\u001b[0m \u001b[0;34m*\u001b[0m\u001b[0margs\u001b[0m\u001b[0;34m,\u001b[0m \u001b[0;34m**\u001b[0m\u001b[0mkwargs\u001b[0m\u001b[0;34m)\u001b[0m\u001b[0;34m:\u001b[0m\u001b[0;34m\u001b[0m\u001b[0;34m\u001b[0m\u001b[0m\n\u001b[0;32m---> 95\u001b[0;31m         \u001b[0mresult\u001b[0m \u001b[0;34m=\u001b[0m \u001b[0mdraw\u001b[0m\u001b[0;34m(\u001b[0m\u001b[0martist\u001b[0m\u001b[0;34m,\u001b[0m \u001b[0mrenderer\u001b[0m\u001b[0;34m,\u001b[0m \u001b[0;34m*\u001b[0m\u001b[0margs\u001b[0m\u001b[0;34m,\u001b[0m \u001b[0;34m**\u001b[0m\u001b[0mkwargs\u001b[0m\u001b[0;34m)\u001b[0m\u001b[0;34m\u001b[0m\u001b[0;34m\u001b[0m\u001b[0m\n\u001b[0m\u001b[1;32m     96\u001b[0m         \u001b[0;32mif\u001b[0m \u001b[0mrenderer\u001b[0m\u001b[0;34m.\u001b[0m\u001b[0m_rasterizing\u001b[0m\u001b[0;34m:\u001b[0m\u001b[0;34m\u001b[0m\u001b[0;34m\u001b[0m\u001b[0m\n",
            "\u001b[0;32m/usr/local/lib/python3.10/dist-packages/matplotlib/artist.py\u001b[0m in \u001b[0;36mdraw_wrapper\u001b[0;34m(artist, renderer)\u001b[0m\n\u001b[1;32m     71\u001b[0m \u001b[0;34m\u001b[0m\u001b[0m\n\u001b[0;32m---> 72\u001b[0;31m             \u001b[0;32mreturn\u001b[0m \u001b[0mdraw\u001b[0m\u001b[0;34m(\u001b[0m\u001b[0martist\u001b[0m\u001b[0;34m,\u001b[0m \u001b[0mrenderer\u001b[0m\u001b[0;34m)\u001b[0m\u001b[0;34m\u001b[0m\u001b[0;34m\u001b[0m\u001b[0m\n\u001b[0m\u001b[1;32m     73\u001b[0m         \u001b[0;32mfinally\u001b[0m\u001b[0;34m:\u001b[0m\u001b[0;34m\u001b[0m\u001b[0;34m\u001b[0m\u001b[0m\n",
            "\u001b[0;32m/usr/local/lib/python3.10/dist-packages/matplotlib/figure.py\u001b[0m in \u001b[0;36mdraw\u001b[0;34m(self, renderer)\u001b[0m\n\u001b[1;32m   3139\u001b[0m             \u001b[0mself\u001b[0m\u001b[0;34m.\u001b[0m\u001b[0mpatch\u001b[0m\u001b[0;34m.\u001b[0m\u001b[0mdraw\u001b[0m\u001b[0;34m(\u001b[0m\u001b[0mrenderer\u001b[0m\u001b[0;34m)\u001b[0m\u001b[0;34m\u001b[0m\u001b[0;34m\u001b[0m\u001b[0m\n\u001b[0;32m-> 3140\u001b[0;31m             mimage._draw_list_compositing_images(\n\u001b[0m\u001b[1;32m   3141\u001b[0m                 renderer, self, artists, self.suppressComposite)\n",
            "\u001b[0;32m/usr/local/lib/python3.10/dist-packages/matplotlib/image.py\u001b[0m in \u001b[0;36m_draw_list_compositing_images\u001b[0;34m(renderer, parent, artists, suppress_composite)\u001b[0m\n\u001b[1;32m    130\u001b[0m         \u001b[0;32mfor\u001b[0m \u001b[0ma\u001b[0m \u001b[0;32min\u001b[0m \u001b[0martists\u001b[0m\u001b[0;34m:\u001b[0m\u001b[0;34m\u001b[0m\u001b[0;34m\u001b[0m\u001b[0m\n\u001b[0;32m--> 131\u001b[0;31m             \u001b[0ma\u001b[0m\u001b[0;34m.\u001b[0m\u001b[0mdraw\u001b[0m\u001b[0;34m(\u001b[0m\u001b[0mrenderer\u001b[0m\u001b[0;34m)\u001b[0m\u001b[0;34m\u001b[0m\u001b[0;34m\u001b[0m\u001b[0m\n\u001b[0m\u001b[1;32m    132\u001b[0m     \u001b[0;32melse\u001b[0m\u001b[0;34m:\u001b[0m\u001b[0;34m\u001b[0m\u001b[0;34m\u001b[0m\u001b[0m\n",
            "\u001b[0;32m/usr/local/lib/python3.10/dist-packages/matplotlib/artist.py\u001b[0m in \u001b[0;36mdraw_wrapper\u001b[0;34m(artist, renderer)\u001b[0m\n\u001b[1;32m     71\u001b[0m \u001b[0;34m\u001b[0m\u001b[0m\n\u001b[0;32m---> 72\u001b[0;31m             \u001b[0;32mreturn\u001b[0m \u001b[0mdraw\u001b[0m\u001b[0;34m(\u001b[0m\u001b[0martist\u001b[0m\u001b[0;34m,\u001b[0m \u001b[0mrenderer\u001b[0m\u001b[0;34m)\u001b[0m\u001b[0;34m\u001b[0m\u001b[0;34m\u001b[0m\u001b[0m\n\u001b[0m\u001b[1;32m     73\u001b[0m         \u001b[0;32mfinally\u001b[0m\u001b[0;34m:\u001b[0m\u001b[0;34m\u001b[0m\u001b[0;34m\u001b[0m\u001b[0m\n",
            "\u001b[0;32m/usr/local/lib/python3.10/dist-packages/matplotlib/axes/_base.py\u001b[0m in \u001b[0;36mdraw\u001b[0;34m(self, renderer)\u001b[0m\n\u001b[1;32m   3063\u001b[0m \u001b[0;34m\u001b[0m\u001b[0m\n\u001b[0;32m-> 3064\u001b[0;31m         mimage._draw_list_compositing_images(\n\u001b[0m\u001b[1;32m   3065\u001b[0m             renderer, self, artists, self.figure.suppressComposite)\n",
            "\u001b[0;32m/usr/local/lib/python3.10/dist-packages/matplotlib/image.py\u001b[0m in \u001b[0;36m_draw_list_compositing_images\u001b[0;34m(renderer, parent, artists, suppress_composite)\u001b[0m\n\u001b[1;32m    130\u001b[0m         \u001b[0;32mfor\u001b[0m \u001b[0ma\u001b[0m \u001b[0;32min\u001b[0m \u001b[0martists\u001b[0m\u001b[0;34m:\u001b[0m\u001b[0;34m\u001b[0m\u001b[0;34m\u001b[0m\u001b[0m\n\u001b[0;32m--> 131\u001b[0;31m             \u001b[0ma\u001b[0m\u001b[0;34m.\u001b[0m\u001b[0mdraw\u001b[0m\u001b[0;34m(\u001b[0m\u001b[0mrenderer\u001b[0m\u001b[0;34m)\u001b[0m\u001b[0;34m\u001b[0m\u001b[0;34m\u001b[0m\u001b[0m\n\u001b[0m\u001b[1;32m    132\u001b[0m     \u001b[0;32melse\u001b[0m\u001b[0;34m:\u001b[0m\u001b[0;34m\u001b[0m\u001b[0;34m\u001b[0m\u001b[0m\n",
            "\u001b[0;32m/usr/local/lib/python3.10/dist-packages/matplotlib/artist.py\u001b[0m in \u001b[0;36mdraw_wrapper\u001b[0;34m(artist, renderer)\u001b[0m\n\u001b[1;32m     71\u001b[0m \u001b[0;34m\u001b[0m\u001b[0m\n\u001b[0;32m---> 72\u001b[0;31m             \u001b[0;32mreturn\u001b[0m \u001b[0mdraw\u001b[0m\u001b[0;34m(\u001b[0m\u001b[0martist\u001b[0m\u001b[0;34m,\u001b[0m \u001b[0mrenderer\u001b[0m\u001b[0;34m)\u001b[0m\u001b[0;34m\u001b[0m\u001b[0;34m\u001b[0m\u001b[0m\n\u001b[0m\u001b[1;32m     73\u001b[0m         \u001b[0;32mfinally\u001b[0m\u001b[0;34m:\u001b[0m\u001b[0;34m\u001b[0m\u001b[0;34m\u001b[0m\u001b[0m\n",
            "\u001b[0;32m/usr/local/lib/python3.10/dist-packages/matplotlib/axis.py\u001b[0m in \u001b[0;36mdraw\u001b[0;34m(self, renderer, *args, **kwargs)\u001b[0m\n\u001b[1;32m   1379\u001b[0m         \u001b[0;32mfor\u001b[0m \u001b[0mtick\u001b[0m \u001b[0;32min\u001b[0m \u001b[0mticks_to_draw\u001b[0m\u001b[0;34m:\u001b[0m\u001b[0;34m\u001b[0m\u001b[0;34m\u001b[0m\u001b[0m\n\u001b[0;32m-> 1380\u001b[0;31m             \u001b[0mtick\u001b[0m\u001b[0;34m.\u001b[0m\u001b[0mdraw\u001b[0m\u001b[0;34m(\u001b[0m\u001b[0mrenderer\u001b[0m\u001b[0;34m)\u001b[0m\u001b[0;34m\u001b[0m\u001b[0;34m\u001b[0m\u001b[0m\n\u001b[0m\u001b[1;32m   1381\u001b[0m \u001b[0;34m\u001b[0m\u001b[0m\n",
            "\u001b[0;32m/usr/local/lib/python3.10/dist-packages/matplotlib/artist.py\u001b[0m in \u001b[0;36mdraw_wrapper\u001b[0;34m(artist, renderer)\u001b[0m\n\u001b[1;32m     71\u001b[0m \u001b[0;34m\u001b[0m\u001b[0m\n\u001b[0;32m---> 72\u001b[0;31m             \u001b[0;32mreturn\u001b[0m \u001b[0mdraw\u001b[0m\u001b[0;34m(\u001b[0m\u001b[0martist\u001b[0m\u001b[0;34m,\u001b[0m \u001b[0mrenderer\u001b[0m\u001b[0;34m)\u001b[0m\u001b[0;34m\u001b[0m\u001b[0;34m\u001b[0m\u001b[0m\n\u001b[0m\u001b[1;32m     73\u001b[0m         \u001b[0;32mfinally\u001b[0m\u001b[0;34m:\u001b[0m\u001b[0;34m\u001b[0m\u001b[0;34m\u001b[0m\u001b[0m\n",
            "\u001b[0;32m/usr/local/lib/python3.10/dist-packages/matplotlib/axis.py\u001b[0m in \u001b[0;36mdraw\u001b[0;34m(self, renderer)\u001b[0m\n\u001b[1;32m    300\u001b[0m                        self.label1, self.label2]:\n\u001b[0;32m--> 301\u001b[0;31m             \u001b[0martist\u001b[0m\u001b[0;34m.\u001b[0m\u001b[0mdraw\u001b[0m\u001b[0;34m(\u001b[0m\u001b[0mrenderer\u001b[0m\u001b[0;34m)\u001b[0m\u001b[0;34m\u001b[0m\u001b[0;34m\u001b[0m\u001b[0m\n\u001b[0m\u001b[1;32m    302\u001b[0m         \u001b[0mrenderer\u001b[0m\u001b[0;34m.\u001b[0m\u001b[0mclose_group\u001b[0m\u001b[0;34m(\u001b[0m\u001b[0mself\u001b[0m\u001b[0;34m.\u001b[0m\u001b[0m__name__\u001b[0m\u001b[0;34m)\u001b[0m\u001b[0;34m\u001b[0m\u001b[0;34m\u001b[0m\u001b[0m\n",
            "\u001b[0;32m/usr/local/lib/python3.10/dist-packages/matplotlib/artist.py\u001b[0m in \u001b[0;36mdraw_wrapper\u001b[0;34m(artist, renderer)\u001b[0m\n\u001b[1;32m     71\u001b[0m \u001b[0;34m\u001b[0m\u001b[0m\n\u001b[0;32m---> 72\u001b[0;31m             \u001b[0;32mreturn\u001b[0m \u001b[0mdraw\u001b[0m\u001b[0;34m(\u001b[0m\u001b[0martist\u001b[0m\u001b[0;34m,\u001b[0m \u001b[0mrenderer\u001b[0m\u001b[0;34m)\u001b[0m\u001b[0;34m\u001b[0m\u001b[0;34m\u001b[0m\u001b[0m\n\u001b[0m\u001b[1;32m     73\u001b[0m         \u001b[0;32mfinally\u001b[0m\u001b[0;34m:\u001b[0m\u001b[0;34m\u001b[0m\u001b[0;34m\u001b[0m\u001b[0m\n",
            "\u001b[0;32m/usr/local/lib/python3.10/dist-packages/matplotlib/text.py\u001b[0m in \u001b[0;36mdraw\u001b[0;34m(self, renderer)\u001b[0m\n\u001b[1;32m    799\u001b[0m                 \u001b[0;32melse\u001b[0m\u001b[0;34m:\u001b[0m\u001b[0;34m\u001b[0m\u001b[0;34m\u001b[0m\u001b[0m\n\u001b[0;32m--> 800\u001b[0;31m                     textrenderer.draw_text(gc, x, y, clean_line,\n\u001b[0m\u001b[1;32m    801\u001b[0m                                            \u001b[0mself\u001b[0m\u001b[0;34m.\u001b[0m\u001b[0m_fontproperties\u001b[0m\u001b[0;34m,\u001b[0m \u001b[0mangle\u001b[0m\u001b[0;34m,\u001b[0m\u001b[0;34m\u001b[0m\u001b[0;34m\u001b[0m\u001b[0m\n",
            "\u001b[0;32m/usr/local/lib/python3.10/dist-packages/matplotlib/backends/backend_agg.py\u001b[0m in \u001b[0;36mdraw_text\u001b[0;34m(self, gc, x, y, s, prop, angle, ismath, mtext)\u001b[0m\n\u001b[1;32m    206\u001b[0m         \u001b[0;31m# space) in the following call to draw_text_image).\u001b[0m\u001b[0;34m\u001b[0m\u001b[0;34m\u001b[0m\u001b[0m\n\u001b[0;32m--> 207\u001b[0;31m         \u001b[0mfont\u001b[0m\u001b[0;34m.\u001b[0m\u001b[0mset_text\u001b[0m\u001b[0;34m(\u001b[0m\u001b[0ms\u001b[0m\u001b[0;34m,\u001b[0m \u001b[0;36m0\u001b[0m\u001b[0;34m,\u001b[0m \u001b[0mflags\u001b[0m\u001b[0;34m=\u001b[0m\u001b[0mget_hinting_flag\u001b[0m\u001b[0;34m(\u001b[0m\u001b[0;34m)\u001b[0m\u001b[0;34m)\u001b[0m\u001b[0;34m\u001b[0m\u001b[0;34m\u001b[0m\u001b[0m\n\u001b[0m\u001b[1;32m    208\u001b[0m         font.draw_glyphs_to_bitmap(\n",
            "\u001b[0;31mKeyboardInterrupt\u001b[0m: ",
            "\nDuring handling of the above exception, another exception occurred:\n",
            "\u001b[0;31mCalledProcessError\u001b[0m                        Traceback (most recent call last)",
            "\u001b[0;32m<ipython-input-33-9a1c98868bcd>\u001b[0m in \u001b[0;36m<cell line: 92>\u001b[0;34m()\u001b[0m\n\u001b[1;32m     90\u001b[0m \u001b[0mmeh\u001b[0m \u001b[0;34m=\u001b[0m \u001b[0manim\u001b[0m\u001b[0;34m.\u001b[0m\u001b[0mFuncAnimation\u001b[0m\u001b[0;34m(\u001b[0m\u001b[0mfig\u001b[0m\u001b[0;34m,\u001b[0m \u001b[0mf\u001b[0m\u001b[0;34m,\u001b[0m \u001b[0mframes\u001b[0m\u001b[0;34m=\u001b[0m\u001b[0;36m300\u001b[0m\u001b[0;34m,\u001b[0m \u001b[0minit_func\u001b[0m\u001b[0;34m=\u001b[0m\u001b[0minit\u001b[0m\u001b[0;34m,\u001b[0m \u001b[0minterval\u001b[0m\u001b[0;34m=\u001b[0m\u001b[0;36m1\u001b[0m\u001b[0;34m,\u001b[0m \u001b[0mblit\u001b[0m\u001b[0;34m=\u001b[0m\u001b[0;32mTrue\u001b[0m\u001b[0;34m,\u001b[0m \u001b[0msave_count\u001b[0m\u001b[0;34m=\u001b[0m\u001b[0;34m(\u001b[0m\u001b[0;36m9000\u001b[0m\u001b[0;34m)\u001b[0m\u001b[0;34m)\u001b[0m\u001b[0;31m#save_count=(9000)\u001b[0m\u001b[0;34m\u001b[0m\u001b[0;34m\u001b[0m\u001b[0m\n\u001b[1;32m     91\u001b[0m \u001b[0mplt\u001b[0m\u001b[0;34m.\u001b[0m\u001b[0mclose\u001b[0m\u001b[0;34m(\u001b[0m\u001b[0;34m)\u001b[0m\u001b[0;34m\u001b[0m\u001b[0;34m\u001b[0m\u001b[0m\n\u001b[0;32m---> 92\u001b[0;31m \u001b[0mHTML\u001b[0m\u001b[0;34m(\u001b[0m\u001b[0mmeh\u001b[0m\u001b[0;34m.\u001b[0m\u001b[0mto_html5_video\u001b[0m\u001b[0;34m(\u001b[0m\u001b[0;34m)\u001b[0m\u001b[0;34m)\u001b[0m\u001b[0;34m\u001b[0m\u001b[0;34m\u001b[0m\u001b[0m\n\u001b[0m",
            "\u001b[0;32m/usr/local/lib/python3.10/dist-packages/matplotlib/animation.py\u001b[0m in \u001b[0;36mto_html5_video\u001b[0;34m(self, embed_limit)\u001b[0m\n\u001b[1;32m   1286\u001b[0m                                 \u001b[0mbitrate\u001b[0m\u001b[0;34m=\u001b[0m\u001b[0mmpl\u001b[0m\u001b[0;34m.\u001b[0m\u001b[0mrcParams\u001b[0m\u001b[0;34m[\u001b[0m\u001b[0;34m'animation.bitrate'\u001b[0m\u001b[0;34m]\u001b[0m\u001b[0;34m,\u001b[0m\u001b[0;34m\u001b[0m\u001b[0;34m\u001b[0m\u001b[0m\n\u001b[1;32m   1287\u001b[0m                                 fps=1000. / self._interval)\n\u001b[0;32m-> 1288\u001b[0;31m                 \u001b[0mself\u001b[0m\u001b[0;34m.\u001b[0m\u001b[0msave\u001b[0m\u001b[0;34m(\u001b[0m\u001b[0mstr\u001b[0m\u001b[0;34m(\u001b[0m\u001b[0mpath\u001b[0m\u001b[0;34m)\u001b[0m\u001b[0;34m,\u001b[0m \u001b[0mwriter\u001b[0m\u001b[0;34m=\u001b[0m\u001b[0mwriter\u001b[0m\u001b[0;34m)\u001b[0m\u001b[0;34m\u001b[0m\u001b[0;34m\u001b[0m\u001b[0m\n\u001b[0m\u001b[1;32m   1289\u001b[0m                 \u001b[0;31m# Now open and base64 encode.\u001b[0m\u001b[0;34m\u001b[0m\u001b[0;34m\u001b[0m\u001b[0m\n\u001b[1;32m   1290\u001b[0m                 \u001b[0mvid64\u001b[0m \u001b[0;34m=\u001b[0m \u001b[0mbase64\u001b[0m\u001b[0;34m.\u001b[0m\u001b[0mencodebytes\u001b[0m\u001b[0;34m(\u001b[0m\u001b[0mpath\u001b[0m\u001b[0;34m.\u001b[0m\u001b[0mread_bytes\u001b[0m\u001b[0;34m(\u001b[0m\u001b[0;34m)\u001b[0m\u001b[0;34m)\u001b[0m\u001b[0;34m\u001b[0m\u001b[0;34m\u001b[0m\u001b[0m\n",
            "\u001b[0;32m/usr/local/lib/python3.10/dist-packages/matplotlib/animation.py\u001b[0m in \u001b[0;36msave\u001b[0;34m(self, filename, writer, fps, dpi, codec, bitrate, extra_args, metadata, extra_anim, savefig_kwargs, progress_callback)\u001b[0m\n\u001b[1;32m   1083\u001b[0m         \u001b[0;31m# callback a no-op; canvas.manager = None prevents resizing the GUI\u001b[0m\u001b[0;34m\u001b[0m\u001b[0;34m\u001b[0m\u001b[0m\n\u001b[1;32m   1084\u001b[0m         \u001b[0;31m# widget (both are likewise done in savefig()).\u001b[0m\u001b[0;34m\u001b[0m\u001b[0;34m\u001b[0m\u001b[0m\n\u001b[0;32m-> 1085\u001b[0;31m         \u001b[0;32mwith\u001b[0m \u001b[0mmpl\u001b[0m\u001b[0;34m.\u001b[0m\u001b[0mrc_context\u001b[0m\u001b[0;34m(\u001b[0m\u001b[0;34m{\u001b[0m\u001b[0;34m'savefig.bbox'\u001b[0m\u001b[0;34m:\u001b[0m \u001b[0;32mNone\u001b[0m\u001b[0;34m}\u001b[0m\u001b[0;34m)\u001b[0m\u001b[0;34m,\u001b[0m\u001b[0;31m \u001b[0m\u001b[0;31m\\\u001b[0m\u001b[0;34m\u001b[0m\u001b[0;34m\u001b[0m\u001b[0m\n\u001b[0m\u001b[1;32m   1086\u001b[0m              \u001b[0mwriter\u001b[0m\u001b[0;34m.\u001b[0m\u001b[0msaving\u001b[0m\u001b[0;34m(\u001b[0m\u001b[0mself\u001b[0m\u001b[0;34m.\u001b[0m\u001b[0m_fig\u001b[0m\u001b[0;34m,\u001b[0m \u001b[0mfilename\u001b[0m\u001b[0;34m,\u001b[0m \u001b[0mdpi\u001b[0m\u001b[0;34m)\u001b[0m\u001b[0;34m,\u001b[0m\u001b[0;31m \u001b[0m\u001b[0;31m\\\u001b[0m\u001b[0;34m\u001b[0m\u001b[0;34m\u001b[0m\u001b[0m\n\u001b[1;32m   1087\u001b[0m              cbook._setattr_cm(self._fig.canvas,\n",
            "\u001b[0;32m/usr/lib/python3.10/contextlib.py\u001b[0m in \u001b[0;36m__exit__\u001b[0;34m(self, typ, value, traceback)\u001b[0m\n\u001b[1;32m    151\u001b[0m                 \u001b[0mvalue\u001b[0m \u001b[0;34m=\u001b[0m \u001b[0mtyp\u001b[0m\u001b[0;34m(\u001b[0m\u001b[0;34m)\u001b[0m\u001b[0;34m\u001b[0m\u001b[0;34m\u001b[0m\u001b[0m\n\u001b[1;32m    152\u001b[0m             \u001b[0;32mtry\u001b[0m\u001b[0;34m:\u001b[0m\u001b[0;34m\u001b[0m\u001b[0;34m\u001b[0m\u001b[0m\n\u001b[0;32m--> 153\u001b[0;31m                 \u001b[0mself\u001b[0m\u001b[0;34m.\u001b[0m\u001b[0mgen\u001b[0m\u001b[0;34m.\u001b[0m\u001b[0mthrow\u001b[0m\u001b[0;34m(\u001b[0m\u001b[0mtyp\u001b[0m\u001b[0;34m,\u001b[0m \u001b[0mvalue\u001b[0m\u001b[0;34m,\u001b[0m \u001b[0mtraceback\u001b[0m\u001b[0;34m)\u001b[0m\u001b[0;34m\u001b[0m\u001b[0;34m\u001b[0m\u001b[0m\n\u001b[0m\u001b[1;32m    154\u001b[0m             \u001b[0;32mexcept\u001b[0m \u001b[0mStopIteration\u001b[0m \u001b[0;32mas\u001b[0m \u001b[0mexc\u001b[0m\u001b[0;34m:\u001b[0m\u001b[0;34m\u001b[0m\u001b[0;34m\u001b[0m\u001b[0m\n\u001b[1;32m    155\u001b[0m                 \u001b[0;31m# Suppress StopIteration *unless* it's the same exception that\u001b[0m\u001b[0;34m\u001b[0m\u001b[0;34m\u001b[0m\u001b[0m\n",
            "\u001b[0;32m/usr/local/lib/python3.10/dist-packages/matplotlib/animation.py\u001b[0m in \u001b[0;36msaving\u001b[0;34m(self, fig, outfile, dpi, *args, **kwargs)\u001b[0m\n\u001b[1;32m    233\u001b[0m             \u001b[0;32myield\u001b[0m \u001b[0mself\u001b[0m\u001b[0;34m\u001b[0m\u001b[0;34m\u001b[0m\u001b[0m\n\u001b[1;32m    234\u001b[0m         \u001b[0;32mfinally\u001b[0m\u001b[0;34m:\u001b[0m\u001b[0;34m\u001b[0m\u001b[0;34m\u001b[0m\u001b[0m\n\u001b[0;32m--> 235\u001b[0;31m             \u001b[0mself\u001b[0m\u001b[0;34m.\u001b[0m\u001b[0mfinish\u001b[0m\u001b[0;34m(\u001b[0m\u001b[0;34m)\u001b[0m\u001b[0;34m\u001b[0m\u001b[0;34m\u001b[0m\u001b[0m\n\u001b[0m\u001b[1;32m    236\u001b[0m \u001b[0;34m\u001b[0m\u001b[0m\n\u001b[1;32m    237\u001b[0m \u001b[0;34m\u001b[0m\u001b[0m\n",
            "\u001b[0;32m/usr/local/lib/python3.10/dist-packages/matplotlib/animation.py\u001b[0m in \u001b[0;36mfinish\u001b[0;34m(self)\u001b[0m\n\u001b[1;32m    347\u001b[0m                 \"MovieWriter stderr:\\n%s\", err)\n\u001b[1;32m    348\u001b[0m         \u001b[0;32mif\u001b[0m \u001b[0mself\u001b[0m\u001b[0;34m.\u001b[0m\u001b[0m_proc\u001b[0m\u001b[0;34m.\u001b[0m\u001b[0mreturncode\u001b[0m\u001b[0;34m:\u001b[0m\u001b[0;34m\u001b[0m\u001b[0;34m\u001b[0m\u001b[0m\n\u001b[0;32m--> 349\u001b[0;31m             raise subprocess.CalledProcessError(\n\u001b[0m\u001b[1;32m    350\u001b[0m                 self._proc.returncode, self._proc.args, out, err)\n\u001b[1;32m    351\u001b[0m \u001b[0;34m\u001b[0m\u001b[0m\n",
            "\u001b[0;31mCalledProcessError\u001b[0m: Command '['ffmpeg', '-f', 'rawvideo', '-vcodec', 'rawvideo', '-s', '600x600', '-pix_fmt', 'rgba', '-r', '1000.0', '-loglevel', 'error', '-i', 'pipe:', '-vcodec', 'h264', '-pix_fmt', 'yuv420p', '-y', '/tmp/tmp37db5fi7/temp.m4v']' returned non-zero exit status 255."
          ]
        }
      ]
    },
    {
      "cell_type": "code",
      "source": [],
      "metadata": {
        "id": "3-fSOpBevtfI"
      },
      "execution_count": null,
      "outputs": []
    }
  ]
}
